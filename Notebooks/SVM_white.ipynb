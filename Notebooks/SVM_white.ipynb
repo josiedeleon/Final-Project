{
 "cells": [
  {
   "cell_type": "code",
   "execution_count": 1,
   "metadata": {},
   "outputs": [],
   "source": [
    "import pandas as pd\n",
    "import numpy as np\n",
    "import matplotlib.pyplot as plt\n",
    "import seaborn as sns\n",
    "from sklearn.pipeline import Pipeline\n",
    "\n",
    "from sklearn.model_selection import train_test_split, GridSearchCV, cross_val_score\n",
    "from sklearn.preprocessing import StandardScaler, MinMaxScaler\n",
    "from sklearn.svm import SVC\n",
    "from sklearn.metrics import classification_report, confusion_matrix\n",
    "%matplotlib inline"
   ]
  },
  {
   "cell_type": "code",
   "execution_count": 2,
   "metadata": {},
   "outputs": [
    {
     "data": {
      "text/html": [
       "<div>\n",
       "<style scoped>\n",
       "    .dataframe tbody tr th:only-of-type {\n",
       "        vertical-align: middle;\n",
       "    }\n",
       "\n",
       "    .dataframe tbody tr th {\n",
       "        vertical-align: top;\n",
       "    }\n",
       "\n",
       "    .dataframe thead th {\n",
       "        text-align: right;\n",
       "    }\n",
       "</style>\n",
       "<table border=\"1\" class=\"dataframe\">\n",
       "  <thead>\n",
       "    <tr style=\"text-align: right;\">\n",
       "      <th></th>\n",
       "      <th>fixed acidity</th>\n",
       "      <th>volatile acidity</th>\n",
       "      <th>citric acid</th>\n",
       "      <th>residual sugar</th>\n",
       "      <th>chlorides</th>\n",
       "      <th>free sulfur dioxide</th>\n",
       "      <th>total sulfur dioxide</th>\n",
       "      <th>density</th>\n",
       "      <th>pH</th>\n",
       "      <th>sulphates</th>\n",
       "      <th>alcohol</th>\n",
       "      <th>quality</th>\n",
       "    </tr>\n",
       "  </thead>\n",
       "  <tbody>\n",
       "    <tr>\n",
       "      <th>0</th>\n",
       "      <td>7.0</td>\n",
       "      <td>0.27</td>\n",
       "      <td>0.36</td>\n",
       "      <td>20.7</td>\n",
       "      <td>0.045</td>\n",
       "      <td>45.0</td>\n",
       "      <td>170.0</td>\n",
       "      <td>1.0010</td>\n",
       "      <td>3.00</td>\n",
       "      <td>0.45</td>\n",
       "      <td>8.8</td>\n",
       "      <td>6</td>\n",
       "    </tr>\n",
       "    <tr>\n",
       "      <th>1</th>\n",
       "      <td>6.3</td>\n",
       "      <td>0.30</td>\n",
       "      <td>0.34</td>\n",
       "      <td>1.6</td>\n",
       "      <td>0.049</td>\n",
       "      <td>14.0</td>\n",
       "      <td>132.0</td>\n",
       "      <td>0.9940</td>\n",
       "      <td>3.30</td>\n",
       "      <td>0.49</td>\n",
       "      <td>9.5</td>\n",
       "      <td>6</td>\n",
       "    </tr>\n",
       "    <tr>\n",
       "      <th>2</th>\n",
       "      <td>8.1</td>\n",
       "      <td>0.28</td>\n",
       "      <td>0.40</td>\n",
       "      <td>6.9</td>\n",
       "      <td>0.050</td>\n",
       "      <td>30.0</td>\n",
       "      <td>97.0</td>\n",
       "      <td>0.9951</td>\n",
       "      <td>3.26</td>\n",
       "      <td>0.44</td>\n",
       "      <td>10.1</td>\n",
       "      <td>6</td>\n",
       "    </tr>\n",
       "    <tr>\n",
       "      <th>3</th>\n",
       "      <td>7.2</td>\n",
       "      <td>0.23</td>\n",
       "      <td>0.32</td>\n",
       "      <td>8.5</td>\n",
       "      <td>0.058</td>\n",
       "      <td>47.0</td>\n",
       "      <td>186.0</td>\n",
       "      <td>0.9956</td>\n",
       "      <td>3.19</td>\n",
       "      <td>0.40</td>\n",
       "      <td>9.9</td>\n",
       "      <td>6</td>\n",
       "    </tr>\n",
       "    <tr>\n",
       "      <th>4</th>\n",
       "      <td>7.2</td>\n",
       "      <td>0.23</td>\n",
       "      <td>0.32</td>\n",
       "      <td>8.5</td>\n",
       "      <td>0.058</td>\n",
       "      <td>47.0</td>\n",
       "      <td>186.0</td>\n",
       "      <td>0.9956</td>\n",
       "      <td>3.19</td>\n",
       "      <td>0.40</td>\n",
       "      <td>9.9</td>\n",
       "      <td>6</td>\n",
       "    </tr>\n",
       "  </tbody>\n",
       "</table>\n",
       "</div>"
      ],
      "text/plain": [
       "   fixed acidity  volatile acidity  citric acid  residual sugar  chlorides  \\\n",
       "0            7.0              0.27         0.36            20.7      0.045   \n",
       "1            6.3              0.30         0.34             1.6      0.049   \n",
       "2            8.1              0.28         0.40             6.9      0.050   \n",
       "3            7.2              0.23         0.32             8.5      0.058   \n",
       "4            7.2              0.23         0.32             8.5      0.058   \n",
       "\n",
       "   free sulfur dioxide  total sulfur dioxide  density    pH  sulphates  \\\n",
       "0                 45.0                 170.0   1.0010  3.00       0.45   \n",
       "1                 14.0                 132.0   0.9940  3.30       0.49   \n",
       "2                 30.0                  97.0   0.9951  3.26       0.44   \n",
       "3                 47.0                 186.0   0.9956  3.19       0.40   \n",
       "4                 47.0                 186.0   0.9956  3.19       0.40   \n",
       "\n",
       "   alcohol  quality  \n",
       "0      8.8        6  \n",
       "1      9.5        6  \n",
       "2     10.1        6  \n",
       "3      9.9        6  \n",
       "4      9.9        6  "
      ]
     },
     "execution_count": 2,
     "metadata": {},
     "output_type": "execute_result"
    }
   ],
   "source": [
    "#import CSV file\n",
    "white_df = pd.read_csv('../Resources/Data/winequality-white.csv', delimiter=';')\n",
    "white_df.head()"
   ]
  },
  {
   "cell_type": "code",
   "execution_count": 3,
   "metadata": {},
   "outputs": [],
   "source": [
    "# drop duplicate data\n",
    "white_df = white_df.drop_duplicates(keep = 'first', inplace = False)\n",
    "white_df = white_df.dropna(axis = 'columns', how='all')\n",
    "white_df = white_df.reset_index(drop = True)\n",
    "#white_df"
   ]
  },
  {
   "cell_type": "code",
   "execution_count": 4,
   "metadata": {},
   "outputs": [
    {
     "data": {
      "text/html": [
       "<div>\n",
       "<style scoped>\n",
       "    .dataframe tbody tr th:only-of-type {\n",
       "        vertical-align: middle;\n",
       "    }\n",
       "\n",
       "    .dataframe tbody tr th {\n",
       "        vertical-align: top;\n",
       "    }\n",
       "\n",
       "    .dataframe thead th {\n",
       "        text-align: right;\n",
       "    }\n",
       "</style>\n",
       "<table border=\"1\" class=\"dataframe\">\n",
       "  <thead>\n",
       "    <tr style=\"text-align: right;\">\n",
       "      <th></th>\n",
       "      <th>mean</th>\n",
       "      <th>std</th>\n",
       "      <th>min</th>\n",
       "      <th>25%</th>\n",
       "      <th>50%</th>\n",
       "      <th>75%</th>\n",
       "      <th>max</th>\n",
       "    </tr>\n",
       "  </thead>\n",
       "  <tbody>\n",
       "    <tr>\n",
       "      <th>fixed acidity</th>\n",
       "      <td>6.839346</td>\n",
       "      <td>0.866860</td>\n",
       "      <td>3.80000</td>\n",
       "      <td>6.30000</td>\n",
       "      <td>6.8000</td>\n",
       "      <td>7.30000</td>\n",
       "      <td>14.20000</td>\n",
       "    </tr>\n",
       "    <tr>\n",
       "      <th>volatile acidity</th>\n",
       "      <td>0.280538</td>\n",
       "      <td>0.103437</td>\n",
       "      <td>0.08000</td>\n",
       "      <td>0.21000</td>\n",
       "      <td>0.2600</td>\n",
       "      <td>0.33000</td>\n",
       "      <td>1.10000</td>\n",
       "    </tr>\n",
       "    <tr>\n",
       "      <th>citric acid</th>\n",
       "      <td>0.334332</td>\n",
       "      <td>0.122446</td>\n",
       "      <td>0.00000</td>\n",
       "      <td>0.27000</td>\n",
       "      <td>0.3200</td>\n",
       "      <td>0.39000</td>\n",
       "      <td>1.66000</td>\n",
       "    </tr>\n",
       "    <tr>\n",
       "      <th>residual sugar</th>\n",
       "      <td>5.914819</td>\n",
       "      <td>4.861646</td>\n",
       "      <td>0.60000</td>\n",
       "      <td>1.60000</td>\n",
       "      <td>4.7000</td>\n",
       "      <td>8.90000</td>\n",
       "      <td>65.80000</td>\n",
       "    </tr>\n",
       "    <tr>\n",
       "      <th>chlorides</th>\n",
       "      <td>0.045905</td>\n",
       "      <td>0.023103</td>\n",
       "      <td>0.00900</td>\n",
       "      <td>0.03500</td>\n",
       "      <td>0.0420</td>\n",
       "      <td>0.05000</td>\n",
       "      <td>0.34600</td>\n",
       "    </tr>\n",
       "    <tr>\n",
       "      <th>free sulfur dioxide</th>\n",
       "      <td>34.889169</td>\n",
       "      <td>17.210021</td>\n",
       "      <td>2.00000</td>\n",
       "      <td>23.00000</td>\n",
       "      <td>33.0000</td>\n",
       "      <td>45.00000</td>\n",
       "      <td>289.00000</td>\n",
       "    </tr>\n",
       "    <tr>\n",
       "      <th>total sulfur dioxide</th>\n",
       "      <td>137.193512</td>\n",
       "      <td>43.129065</td>\n",
       "      <td>9.00000</td>\n",
       "      <td>106.00000</td>\n",
       "      <td>133.0000</td>\n",
       "      <td>166.00000</td>\n",
       "      <td>440.00000</td>\n",
       "    </tr>\n",
       "    <tr>\n",
       "      <th>density</th>\n",
       "      <td>0.993790</td>\n",
       "      <td>0.002905</td>\n",
       "      <td>0.98711</td>\n",
       "      <td>0.99162</td>\n",
       "      <td>0.9935</td>\n",
       "      <td>0.99571</td>\n",
       "      <td>1.03898</td>\n",
       "    </tr>\n",
       "    <tr>\n",
       "      <th>pH</th>\n",
       "      <td>3.195458</td>\n",
       "      <td>0.151546</td>\n",
       "      <td>2.72000</td>\n",
       "      <td>3.09000</td>\n",
       "      <td>3.1800</td>\n",
       "      <td>3.29000</td>\n",
       "      <td>3.82000</td>\n",
       "    </tr>\n",
       "    <tr>\n",
       "      <th>sulphates</th>\n",
       "      <td>0.490351</td>\n",
       "      <td>0.113523</td>\n",
       "      <td>0.22000</td>\n",
       "      <td>0.41000</td>\n",
       "      <td>0.4800</td>\n",
       "      <td>0.55000</td>\n",
       "      <td>1.08000</td>\n",
       "    </tr>\n",
       "    <tr>\n",
       "      <th>alcohol</th>\n",
       "      <td>10.589358</td>\n",
       "      <td>1.217076</td>\n",
       "      <td>8.00000</td>\n",
       "      <td>9.50000</td>\n",
       "      <td>10.4000</td>\n",
       "      <td>11.40000</td>\n",
       "      <td>14.20000</td>\n",
       "    </tr>\n",
       "    <tr>\n",
       "      <th>quality</th>\n",
       "      <td>5.854835</td>\n",
       "      <td>0.890683</td>\n",
       "      <td>3.00000</td>\n",
       "      <td>5.00000</td>\n",
       "      <td>6.0000</td>\n",
       "      <td>6.00000</td>\n",
       "      <td>9.00000</td>\n",
       "    </tr>\n",
       "  </tbody>\n",
       "</table>\n",
       "</div>"
      ],
      "text/plain": [
       "                            mean        std      min        25%       50%  \\\n",
       "fixed acidity           6.839346   0.866860  3.80000    6.30000    6.8000   \n",
       "volatile acidity        0.280538   0.103437  0.08000    0.21000    0.2600   \n",
       "citric acid             0.334332   0.122446  0.00000    0.27000    0.3200   \n",
       "residual sugar          5.914819   4.861646  0.60000    1.60000    4.7000   \n",
       "chlorides               0.045905   0.023103  0.00900    0.03500    0.0420   \n",
       "free sulfur dioxide    34.889169  17.210021  2.00000   23.00000   33.0000   \n",
       "total sulfur dioxide  137.193512  43.129065  9.00000  106.00000  133.0000   \n",
       "density                 0.993790   0.002905  0.98711    0.99162    0.9935   \n",
       "pH                      3.195458   0.151546  2.72000    3.09000    3.1800   \n",
       "sulphates               0.490351   0.113523  0.22000    0.41000    0.4800   \n",
       "alcohol                10.589358   1.217076  8.00000    9.50000   10.4000   \n",
       "quality                 5.854835   0.890683  3.00000    5.00000    6.0000   \n",
       "\n",
       "                            75%        max  \n",
       "fixed acidity           7.30000   14.20000  \n",
       "volatile acidity        0.33000    1.10000  \n",
       "citric acid             0.39000    1.66000  \n",
       "residual sugar          8.90000   65.80000  \n",
       "chlorides               0.05000    0.34600  \n",
       "free sulfur dioxide    45.00000  289.00000  \n",
       "total sulfur dioxide  166.00000  440.00000  \n",
       "density                 0.99571    1.03898  \n",
       "pH                      3.29000    3.82000  \n",
       "sulphates               0.55000    1.08000  \n",
       "alcohol                11.40000   14.20000  \n",
       "quality                 6.00000    9.00000  "
      ]
     },
     "execution_count": 4,
     "metadata": {},
     "output_type": "execute_result"
    }
   ],
   "source": [
    "white_stats = white_df.describe()\n",
    "white_stats.drop([\"count\"], axis=0, inplace=True)\n",
    "white_stats.T"
   ]
  },
  {
   "cell_type": "code",
   "execution_count": 5,
   "metadata": {},
   "outputs": [
    {
     "name": "stdout",
     "output_type": "stream",
     "text": [
      "<class 'pandas.core.frame.DataFrame'>\n",
      "RangeIndex: 3961 entries, 0 to 3960\n",
      "Data columns (total 12 columns):\n",
      " #   Column                Non-Null Count  Dtype  \n",
      "---  ------                --------------  -----  \n",
      " 0   fixed acidity         3961 non-null   float64\n",
      " 1   volatile acidity      3961 non-null   float64\n",
      " 2   citric acid           3961 non-null   float64\n",
      " 3   residual sugar        3961 non-null   float64\n",
      " 4   chlorides             3961 non-null   float64\n",
      " 5   free sulfur dioxide   3961 non-null   float64\n",
      " 6   total sulfur dioxide  3961 non-null   float64\n",
      " 7   density               3961 non-null   float64\n",
      " 8   pH                    3961 non-null   float64\n",
      " 9   sulphates             3961 non-null   float64\n",
      " 10  alcohol               3961 non-null   float64\n",
      " 11  quality               3961 non-null   int64  \n",
      "dtypes: float64(11), int64(1)\n",
      "memory usage: 371.5 KB\n"
     ]
    }
   ],
   "source": [
    "#datatype \n",
    "white_df.info()"
   ]
  },
  {
   "cell_type": "code",
   "execution_count": 6,
   "metadata": {},
   "outputs": [
    {
     "data": {
      "text/plain": [
       "fixed acidity           0\n",
       "volatile acidity        0\n",
       "citric acid             0\n",
       "residual sugar          0\n",
       "chlorides               0\n",
       "free sulfur dioxide     0\n",
       "total sulfur dioxide    0\n",
       "density                 0\n",
       "pH                      0\n",
       "sulphates               0\n",
       "alcohol                 0\n",
       "quality                 0\n",
       "dtype: int64"
      ]
     },
     "execution_count": 6,
     "metadata": {},
     "output_type": "execute_result"
    }
   ],
   "source": [
    "# check for null values\n",
    "white_df.isnull().sum()"
   ]
  },
  {
   "cell_type": "code",
   "execution_count": 7,
   "metadata": {},
   "outputs": [
    {
     "data": {
      "text/plain": [
       "(3961, 12)"
      ]
     },
     "execution_count": 7,
     "metadata": {},
     "output_type": "execute_result"
    }
   ],
   "source": [
    "white_df.shape"
   ]
  },
  {
   "cell_type": "code",
   "execution_count": 8,
   "metadata": {},
   "outputs": [
    {
     "data": {
      "text/plain": [
       "6    1788\n",
       "5    1175\n",
       "7     689\n",
       "4     153\n",
       "8     131\n",
       "3      20\n",
       "9       5\n",
       "Name: quality, dtype: int64"
      ]
     },
     "execution_count": 8,
     "metadata": {},
     "output_type": "execute_result"
    }
   ],
   "source": [
    "white_df['quality'].value_counts()"
   ]
  },
  {
   "cell_type": "markdown",
   "metadata": {},
   "source": [
    "# Select your features (columns)"
   ]
  },
  {
   "cell_type": "code",
   "execution_count": 9,
   "metadata": {},
   "outputs": [],
   "source": [
    "bins = [2,6,9]\n",
    "group_names = ['Fair','Very Good']\n",
    "white_df['quality'] = pd.cut(white_df['quality'], bins, labels = group_names)"
   ]
  },
  {
   "cell_type": "code",
   "execution_count": 10,
   "metadata": {},
   "outputs": [],
   "source": [
    "#white_df.head()"
   ]
  },
  {
   "cell_type": "code",
   "execution_count": 11,
   "metadata": {},
   "outputs": [],
   "source": [
    "X = white_df.drop(\"quality\", axis =1)\n",
    "y = white_df[\"quality\"]"
   ]
  },
  {
   "cell_type": "code",
   "execution_count": 12,
   "metadata": {},
   "outputs": [],
   "source": [
    "#X.head()"
   ]
  },
  {
   "cell_type": "code",
   "execution_count": 13,
   "metadata": {},
   "outputs": [],
   "source": [
    "#y.head()"
   ]
  },
  {
   "cell_type": "code",
   "execution_count": 14,
   "metadata": {},
   "outputs": [
    {
     "data": {
      "text/plain": [
       "Fair         3136\n",
       "Very Good     825\n",
       "Name: quality, dtype: int64"
      ]
     },
     "execution_count": 14,
     "metadata": {},
     "output_type": "execute_result"
    }
   ],
   "source": [
    "white_df['quality'].value_counts()"
   ]
  },
  {
   "cell_type": "code",
   "execution_count": 15,
   "metadata": {},
   "outputs": [
    {
     "name": "stdout",
     "output_type": "stream",
     "text": [
      "[0.07089304 0.08070014 0.07310623 0.07976405 0.08186212 0.08181902\n",
      " 0.07986531 0.10623237 0.08357428 0.08034475 0.1818387 ]\n"
     ]
    },
    {
     "data": {
      "image/png": "[encoded data removed]",
      "text/plain": [
       "<Figure size 432x288 with 1 Axes>"
      ]
     },
     "metadata": {
      "needs_background": "light"
     },
     "output_type": "display_data"
    }
   ],
   "source": [
    "# Feature Importance\n",
    "\n",
    "from sklearn.ensemble import ExtraTreesClassifier\n",
    "model = ExtraTreesClassifier()\n",
    "model.fit(X,y)\n",
    "print(model.feature_importances_)\n",
    "\n",
    "feat_importances = pd.Series(model.feature_importances_, index = X.columns)\n",
    "feat_importances.nlargest(11).plot(kind= \"barh\" , color = \"#EEEDC4\")\n",
    "plt.savefig('Resources/images/white_features_importance.jpg')\n",
    "plt.show()\n",
    "\n"
   ]
  },
  {
   "cell_type": "code",
   "execution_count": 16,
   "metadata": {},
   "outputs": [
    {
     "data": {
      "text/plain": [
       "alcohol                 0.181839\n",
       "density                 0.106232\n",
       "pH                      0.083574\n",
       "chlorides               0.081862\n",
       "free sulfur dioxide     0.081819\n",
       "volatile acidity        0.080700\n",
       "sulphates               0.080345\n",
       "total sulfur dioxide    0.079865\n",
       "residual sugar          0.079764\n",
       "citric acid             0.073106\n",
       "fixed acidity           0.070893\n",
       "dtype: float64"
      ]
     },
     "execution_count": 16,
     "metadata": {},
     "output_type": "execute_result"
    }
   ],
   "source": [
    "feat_importances.sort_values(ascending=False)"
   ]
  },
  {
   "cell_type": "code",
   "execution_count": 17,
   "metadata": {},
   "outputs": [],
   "source": [
    "# Selected important features\n",
    "selected_features = X[['alcohol', 'density','residual sugar','free sulfur dioxide','pH']]"
   ]
  },
  {
   "cell_type": "markdown",
   "metadata": {},
   "source": [
    "# Create a Train Test Split \n",
    "### All Features"
   ]
  },
  {
   "cell_type": "code",
   "execution_count": 18,
   "metadata": {},
   "outputs": [],
   "source": [
    "# Split the data using train_test_split\n",
    "# create the train and validation datasets\n",
    "\n",
    "from sklearn.model_selection import train_test_split\n",
    "\n",
    "X_train, X_left, y_train, y_left = train_test_split(X, y, train_size=.7)\n",
    "X_val, X_test, y_val, y_test = train_test_split(X_left, y_left, train_size=.7)"
   ]
  },
  {
   "cell_type": "code",
   "execution_count": 19,
   "metadata": {},
   "outputs": [
    {
     "data": {
      "text/plain": [
       "((2772, 11), (832, 11), (357, 11))"
      ]
     },
     "execution_count": 19,
     "metadata": {},
     "output_type": "execute_result"
    }
   ],
   "source": [
    "X_train.shape, X_val.shape, X_test.shape"
   ]
  },
  {
   "cell_type": "markdown",
   "metadata": {},
   "source": [
    "# Pre-pocessing "
   ]
  },
  {
   "cell_type": "code",
   "execution_count": 20,
   "metadata": {},
   "outputs": [],
   "source": [
    "# Scale your data\n",
    "X_scale = StandardScaler().fit(X_train)"
   ]
  },
  {
   "cell_type": "code",
   "execution_count": 21,
   "metadata": {},
   "outputs": [],
   "source": [
    "X_train_scaled = X_scale.transform(X_train)\n",
    "X_test_scaled = X_scale.transform(X_test)"
   ]
  },
  {
   "cell_type": "markdown",
   "metadata": {},
   "source": [
    "# Train the Model"
   ]
  },
  {
   "cell_type": "code",
   "execution_count": 22,
   "metadata": {},
   "outputs": [
    {
     "data": {
      "text/plain": [
       "SVC()"
      ]
     },
     "execution_count": 22,
     "metadata": {},
     "output_type": "execute_result"
    }
   ],
   "source": [
    "from sklearn.svm import SVC\n",
    "\n",
    "model_svm = SVC()\n",
    "model_svm.fit(X_train_scaled, y_train)"
   ]
  },
  {
   "cell_type": "code",
   "execution_count": 23,
   "metadata": {},
   "outputs": [
    {
     "data": {
      "text/plain": [
       "(0.7911255411255411, 0.7956730769230769)"
      ]
     },
     "execution_count": 23,
     "metadata": {},
     "output_type": "execute_result"
    }
   ],
   "source": [
    "#And score the model using the unseen testing data\n",
    "model_svm.score(X_train, y_train), model_svm.score(X_val, y_val)"
   ]
  },
  {
   "cell_type": "code",
   "execution_count": 24,
   "metadata": {},
   "outputs": [
    {
     "data": {
      "text/plain": [
       "0.7956730769230769"
      ]
     },
     "execution_count": 24,
     "metadata": {},
     "output_type": "execute_result"
    }
   ],
   "source": [
    "# Overall Score for the model\n",
    "model_svm.score(X_val, y_val)"
   ]
  },
  {
   "cell_type": "code",
   "execution_count": 25,
   "metadata": {},
   "outputs": [
    {
     "name": "stdout",
     "output_type": "stream",
     "text": [
      "Training Data Score: 0.8376623376623377\n",
      "Testing Data Score: 0.834733893557423\n"
     ]
    }
   ],
   "source": [
    "print(f\"Training Data Score: {model_svm.score(X_train_scaled, y_train)}\")\n",
    "print(f\"Testing Data Score: {model_svm.score(X_test_scaled, y_test)}\")"
   ]
  },
  {
   "cell_type": "code",
   "execution_count": 26,
   "metadata": {},
   "outputs": [],
   "source": [
    "predictions = model_svm.predict(X_test_scaled)"
   ]
  },
  {
   "cell_type": "markdown",
   "metadata": {},
   "source": [
    "### All Features"
   ]
  },
  {
   "cell_type": "code",
   "execution_count": 27,
   "metadata": {},
   "outputs": [
    {
     "name": "stdout",
     "output_type": "stream",
     "text": [
      "              precision    recall  f1-score   support\n",
      "\n",
      "        Fair       0.85      0.96      0.90       281\n",
      "   Very Good       0.72      0.37      0.49        76\n",
      "\n",
      "    accuracy                           0.83       357\n",
      "   macro avg       0.78      0.66      0.69       357\n",
      "weighted avg       0.82      0.83      0.81       357\n",
      "\n"
     ]
    }
   ],
   "source": [
    "# Calculate classification report (all features)\n",
    "\n",
    "from sklearn.metrics import classification_report\n",
    "\n",
    "\n",
    "print(classification_report(y_test,predictions\n",
    "                           ))"
   ]
  },
  {
   "cell_type": "code",
   "execution_count": 28,
   "metadata": {},
   "outputs": [
    {
     "data": {
      "image/png": "[encoded data removed]",
      "text/plain": [
       "<Figure size 432x288 with 2 Axes>"
      ]
     },
     "metadata": {
      "needs_background": "light"
     },
     "output_type": "display_data"
    }
   ],
   "source": [
    "# Plot Confusion Matrix\n",
    "\n",
    "label_aux = plt.subplot()\n",
    "cm_svm_white = confusion_matrix(y_test, predictions)\n",
    "cm_svm = pd.DataFrame(cm_svm_white,\n",
    "                     index = ['Fair','Very Good'], \n",
    "                     columns = ['Fair','Very Good'])\n",
    "sns.heatmap(cm_svm,annot=True,cmap=plt.cm.YlGnBu,fmt='3')\n",
    "label_aux.set_xlabel('True Quality');label_aux.set_ylabel('Predicted')\n",
    "label_aux.set_title('Non-Normalized (All features)')\n",
    "plt.savefig('Resources/images/svm_white_cm_non-nor_all.jpg');"
   ]
  },
  {
   "cell_type": "markdown",
   "metadata": {},
   "source": [
    "# Hyperparameter Tuning (GridSearchCV)"
   ]
  },
  {
   "cell_type": "code",
   "execution_count": 29,
   "metadata": {},
   "outputs": [
    {
     "name": "stdout",
     "output_type": "stream",
     "text": [
      "Parameters:\n",
      "\n",
      "{'C': 1.0,\n",
      " 'break_ties': False,\n",
      " 'cache_size': 200,\n",
      " 'class_weight': None,\n",
      " 'coef0': 0.0,\n",
      " 'decision_function_shape': 'ovr',\n",
      " 'degree': 3,\n",
      " 'gamma': 'scale',\n",
      " 'kernel': 'rbf',\n",
      " 'max_iter': -1,\n",
      " 'probability': False,\n",
      " 'random_state': None,\n",
      " 'shrinking': True,\n",
      " 'tol': 0.001,\n",
      " 'verbose': False}\n"
     ]
    }
   ],
   "source": [
    "from pprint import pprint\n",
    "print('Parameters:\\n')\n",
    "pprint(model_svm.get_params())"
   ]
  },
  {
   "cell_type": "code",
   "execution_count": 30,
   "metadata": {},
   "outputs": [],
   "source": [
    "# Create the GridSearchCV model\n",
    "from sklearn.model_selection import GridSearchCV\n",
    "param_grid = {'C': [ 0.001,0.01,1,10],\n",
    "              'gamma': [0.001,0.01,1,10],\n",
    "             'kernel': ['linear', 'rbf', 'sigmoid']}\n",
    "\n",
    "grid = GridSearchCV(model_svm, param_grid, verbose=3, return_train_score=True, scoring='accuracy' , cv=10)"
   ]
  },
  {
   "cell_type": "code",
   "execution_count": 31,
   "metadata": {},
   "outputs": [
    {
     "name": "stdout",
     "output_type": "stream",
     "text": [
      "Fitting 10 folds for each of 48 candidates, totalling 480 fits\n",
      "[CV] C=0.001, gamma=0.001, kernel=linear .............................\n",
      "[CV]  C=0.001, gamma=0.001, kernel=linear, score=(train=0.791, test=0.791), total=   0.0s\n",
      "[CV] C=0.001, gamma=0.001, kernel=linear .............................\n",
      "[CV]  C=0.001, gamma=0.001, kernel=linear, score=(train=0.791, test=0.791), total=   0.0s\n",
      "[CV] C=0.001, gamma=0.001, kernel=linear .............................\n"
     ]
    },
    {
     "name": "stderr",
     "output_type": "stream",
     "text": [
      "[Parallel(n_jobs=1)]: Using backend SequentialBackend with 1 concurrent workers.\n",
      "[Parallel(n_jobs=1)]: Done   1 out of   1 | elapsed:    0.1s remaining:    0.0s\n",
      "[Parallel(n_jobs=1)]: Done   2 out of   2 | elapsed:    0.2s remaining:    0.0s\n"
     ]
    },
    {
     "name": "stdout",
     "output_type": "stream",
     "text": [
      "[CV]  C=0.001, gamma=0.001, kernel=linear, score=(train=0.791, test=0.794), total=   0.1s\n",
      "[CV] C=0.001, gamma=0.001, kernel=linear .............................\n",
      "[CV]  C=0.001, gamma=0.001, kernel=linear, score=(train=0.791, test=0.791), total=   0.0s\n",
      "[CV] C=0.001, gamma=0.001, kernel=linear .............................\n",
      "[CV]  C=0.001, gamma=0.001, kernel=linear, score=(train=0.791, test=0.791), total=   0.0s\n",
      "[CV] C=0.001, gamma=0.001, kernel=linear .............................\n",
      "[CV]  C=0.001, gamma=0.001, kernel=linear, score=(train=0.791, test=0.791), total=   0.0s\n",
      "[CV] C=0.001, gamma=0.001, kernel=linear .............................\n",
      "[CV]  C=0.001, gamma=0.001, kernel=linear, score=(train=0.791, test=0.791), total=   0.0s\n",
      "[CV] C=0.001, gamma=0.001, kernel=linear .............................\n",
      "[CV]  C=0.001, gamma=0.001, kernel=linear, score=(train=0.791, test=0.791), total=   0.1s\n",
      "[CV] C=0.001, gamma=0.001, kernel=linear .............................\n",
      "[CV]  C=0.001, gamma=0.001, kernel=linear, score=(train=0.791, test=0.791), total=   0.0s\n",
      "[CV] C=0.001, gamma=0.001, kernel=linear .............................\n",
      "[CV]  C=0.001, gamma=0.001, kernel=linear, score=(train=0.791, test=0.791), total=   0.0s\n",
      "[CV] C=0.001, gamma=0.001, kernel=rbf ................................\n",
      "[CV]  C=0.001, gamma=0.001, kernel=rbf, score=(train=0.791, test=0.791), total=   0.1s\n",
      "[CV] C=0.001, gamma=0.001, kernel=rbf ................................\n",
      "[CV]  C=0.001, gamma=0.001, kernel=rbf, score=(train=0.791, test=0.791), total=   0.1s\n",
      "[CV] C=0.001, gamma=0.001, kernel=rbf ................................\n",
      "[CV]  C=0.001, gamma=0.001, kernel=rbf, score=(train=0.791, test=0.794), total=   0.1s\n",
      "[CV] C=0.001, gamma=0.001, kernel=rbf ................................\n",
      "[CV]  C=0.001, gamma=0.001, kernel=rbf, score=(train=0.791, test=0.791), total=   0.1s\n",
      "[CV] C=0.001, gamma=0.001, kernel=rbf ................................\n",
      "[CV]  C=0.001, gamma=0.001, kernel=rbf, score=(train=0.791, test=0.791), total=   0.1s\n",
      "[CV] C=0.001, gamma=0.001, kernel=rbf ................................\n",
      "[CV]  C=0.001, gamma=0.001, kernel=rbf, score=(train=0.791, test=0.791), total=   0.1s\n",
      "[CV] C=0.001, gamma=0.001, kernel=rbf ................................\n",
      "[CV]  C=0.001, gamma=0.001, kernel=rbf, score=(train=0.791, test=0.791), total=   0.1s\n",
      "[CV] C=0.001, gamma=0.001, kernel=rbf ................................\n",
      "[CV]  C=0.001, gamma=0.001, kernel=rbf, score=(train=0.791, test=0.791), total=   0.1s\n",
      "[CV] C=0.001, gamma=0.001, kernel=rbf ................................\n",
      "[CV]  C=0.001, gamma=0.001, kernel=rbf, score=(train=0.791, test=0.791), total=   0.1s\n",
      "[CV] C=0.001, gamma=0.001, kernel=rbf ................................\n",
      "[CV]  C=0.001, gamma=0.001, kernel=rbf, score=(train=0.791, test=0.791), total=   0.1s\n",
      "[CV] C=0.001, gamma=0.001, kernel=sigmoid ............................\n",
      "[CV]  C=0.001, gamma=0.001, kernel=sigmoid, score=(train=0.791, test=0.791), total=   0.1s\n",
      "[CV] C=0.001, gamma=0.001, kernel=sigmoid ............................\n",
      "[CV]  C=0.001, gamma=0.001, kernel=sigmoid, score=(train=0.791, test=0.791), total=   0.1s\n",
      "[CV] C=0.001, gamma=0.001, kernel=sigmoid ............................\n",
      "[CV]  C=0.001, gamma=0.001, kernel=sigmoid, score=(train=0.791, test=0.794), total=   0.1s\n",
      "[CV] C=0.001, gamma=0.001, kernel=sigmoid ............................\n",
      "[CV]  C=0.001, gamma=0.001, kernel=sigmoid, score=(train=0.791, test=0.791), total=   0.0s\n",
      "[CV] C=0.001, gamma=0.001, kernel=sigmoid ............................\n",
      "[CV]  C=0.001, gamma=0.001, kernel=sigmoid, score=(train=0.791, test=0.791), total=   0.1s\n",
      "[CV] C=0.001, gamma=0.001, kernel=sigmoid ............................\n",
      "[CV]  C=0.001, gamma=0.001, kernel=sigmoid, score=(train=0.791, test=0.791), total=   0.1s\n",
      "[CV] C=0.001, gamma=0.001, kernel=sigmoid ............................\n",
      "[CV]  C=0.001, gamma=0.001, kernel=sigmoid, score=(train=0.791, test=0.791), total=   0.1s\n",
      "[CV] C=0.001, gamma=0.001, kernel=sigmoid ............................\n",
      "[CV]  C=0.001, gamma=0.001, kernel=sigmoid, score=(train=0.791, test=0.791), total=   0.0s\n",
      "[CV] C=0.001, gamma=0.001, kernel=sigmoid ............................\n",
      "[CV]  C=0.001, gamma=0.001, kernel=sigmoid, score=(train=0.791, test=0.791), total=   0.1s\n",
      "[CV] C=0.001, gamma=0.001, kernel=sigmoid ............................\n",
      "[CV]  C=0.001, gamma=0.001, kernel=sigmoid, score=(train=0.791, test=0.791), total=   0.0s\n",
      "[CV] C=0.001, gamma=0.01, kernel=linear ..............................\n",
      "[CV]  C=0.001, gamma=0.01, kernel=linear, score=(train=0.791, test=0.791), total=   0.0s\n",
      "[CV] C=0.001, gamma=0.01, kernel=linear ..............................\n",
      "[CV]  C=0.001, gamma=0.01, kernel=linear, score=(train=0.791, test=0.791), total=   0.0s\n",
      "[CV] C=0.001, gamma=0.01, kernel=linear ..............................\n",
      "[CV]  C=0.001, gamma=0.01, kernel=linear, score=(train=0.791, test=0.794), total=   0.1s\n",
      "[CV] C=0.001, gamma=0.01, kernel=linear ..............................\n",
      "[CV]  C=0.001, gamma=0.01, kernel=linear, score=(train=0.791, test=0.791), total=   0.0s\n",
      "[CV] C=0.001, gamma=0.01, kernel=linear ..............................\n",
      "[CV]  C=0.001, gamma=0.01, kernel=linear, score=(train=0.791, test=0.791), total=   0.0s\n",
      "[CV] C=0.001, gamma=0.01, kernel=linear ..............................\n",
      "[CV]  C=0.001, gamma=0.01, kernel=linear, score=(train=0.791, test=0.791), total=   0.0s\n",
      "[CV] C=0.001, gamma=0.01, kernel=linear ..............................\n",
      "[CV]  C=0.001, gamma=0.01, kernel=linear, score=(train=0.791, test=0.791), total=   0.0s\n",
      "[CV] C=0.001, gamma=0.01, kernel=linear ..............................\n",
      "[CV]  C=0.001, gamma=0.01, kernel=linear, score=(train=0.791, test=0.791), total=   0.0s\n",
      "[CV] C=0.001, gamma=0.01, kernel=linear ..............................\n",
      "[CV]  C=0.001, gamma=0.01, kernel=linear, score=(train=0.791, test=0.791), total=   0.1s\n",
      "[CV] C=0.001, gamma=0.01, kernel=linear ..............................\n",
      "[CV]  C=0.001, gamma=0.01, kernel=linear, score=(train=0.791, test=0.791), total=   0.0s\n",
      "[CV] C=0.001, gamma=0.01, kernel=rbf .................................\n",
      "[CV]  C=0.001, gamma=0.01, kernel=rbf, score=(train=0.791, test=0.791), total=   0.1s\n",
      "[CV] C=0.001, gamma=0.01, kernel=rbf .................................\n",
      "[CV]  C=0.001, gamma=0.01, kernel=rbf, score=(train=0.791, test=0.791), total=   0.1s\n",
      "[CV] C=0.001, gamma=0.01, kernel=rbf .................................\n",
      "[CV]  C=0.001, gamma=0.01, kernel=rbf, score=(train=0.791, test=0.794), total=   0.1s\n",
      "[CV] C=0.001, gamma=0.01, kernel=rbf .................................\n",
      "[CV]  C=0.001, gamma=0.01, kernel=rbf, score=(train=0.791, test=0.791), total=   0.1s\n",
      "[CV] C=0.001, gamma=0.01, kernel=rbf .................................\n",
      "[CV]  C=0.001, gamma=0.01, kernel=rbf, score=(train=0.791, test=0.791), total=   0.1s\n",
      "[CV] C=0.001, gamma=0.01, kernel=rbf .................................\n",
      "[CV]  C=0.001, gamma=0.01, kernel=rbf, score=(train=0.791, test=0.791), total=   0.1s\n",
      "[CV] C=0.001, gamma=0.01, kernel=rbf .................................\n",
      "[CV]  C=0.001, gamma=0.01, kernel=rbf, score=(train=0.791, test=0.791), total=   0.1s\n",
      "[CV] C=0.001, gamma=0.01, kernel=rbf .................................\n",
      "[CV]  C=0.001, gamma=0.01, kernel=rbf, score=(train=0.791, test=0.791), total=   0.1s\n",
      "[CV] C=0.001, gamma=0.01, kernel=rbf .................................\n",
      "[CV]  C=0.001, gamma=0.01, kernel=rbf, score=(train=0.791, test=0.791), total=   0.1s\n",
      "[CV] C=0.001, gamma=0.01, kernel=rbf .................................\n",
      "[CV]  C=0.001, gamma=0.01, kernel=rbf, score=(train=0.791, test=0.791), total=   0.1s\n",
      "[CV] C=0.001, gamma=0.01, kernel=sigmoid .............................\n",
      "[CV]  C=0.001, gamma=0.01, kernel=sigmoid, score=(train=0.791, test=0.791), total=   0.0s\n",
      "[CV] C=0.001, gamma=0.01, kernel=sigmoid .............................\n",
      "[CV]  C=0.001, gamma=0.01, kernel=sigmoid, score=(train=0.791, test=0.791), total=   0.1s\n",
      "[CV] C=0.001, gamma=0.01, kernel=sigmoid .............................\n",
      "[CV]  C=0.001, gamma=0.01, kernel=sigmoid, score=(train=0.791, test=0.794), total=   0.1s\n",
      "[CV] C=0.001, gamma=0.01, kernel=sigmoid .............................\n",
      "[CV]  C=0.001, gamma=0.01, kernel=sigmoid, score=(train=0.791, test=0.791), total=   0.1s\n",
      "[CV] C=0.001, gamma=0.01, kernel=sigmoid .............................\n"
     ]
    },
    {
     "name": "stdout",
     "output_type": "stream",
     "text": [
      "[CV]  C=0.001, gamma=0.01, kernel=sigmoid, score=(train=0.791, test=0.791), total=   0.1s\n",
      "[CV] C=0.001, gamma=0.01, kernel=sigmoid .............................\n",
      "[CV]  C=0.001, gamma=0.01, kernel=sigmoid, score=(train=0.791, test=0.791), total=   0.1s\n",
      "[CV] C=0.001, gamma=0.01, kernel=sigmoid .............................\n",
      "[CV]  C=0.001, gamma=0.01, kernel=sigmoid, score=(train=0.791, test=0.791), total=   0.1s\n",
      "[CV] C=0.001, gamma=0.01, kernel=sigmoid .............................\n",
      "[CV]  C=0.001, gamma=0.01, kernel=sigmoid, score=(train=0.791, test=0.791), total=   0.1s\n",
      "[CV] C=0.001, gamma=0.01, kernel=sigmoid .............................\n",
      "[CV]  C=0.001, gamma=0.01, kernel=sigmoid, score=(train=0.791, test=0.791), total=   0.1s\n",
      "[CV] C=0.001, gamma=0.01, kernel=sigmoid .............................\n",
      "[CV]  C=0.001, gamma=0.01, kernel=sigmoid, score=(train=0.791, test=0.791), total=   0.1s\n",
      "[CV] C=0.001, gamma=1, kernel=linear .................................\n",
      "[CV]  C=0.001, gamma=1, kernel=linear, score=(train=0.791, test=0.791), total=   0.0s\n",
      "[CV] C=0.001, gamma=1, kernel=linear .................................\n",
      "[CV]  C=0.001, gamma=1, kernel=linear, score=(train=0.791, test=0.791), total=   0.0s\n",
      "[CV] C=0.001, gamma=1, kernel=linear .................................\n",
      "[CV]  C=0.001, gamma=1, kernel=linear, score=(train=0.791, test=0.794), total=   0.0s\n",
      "[CV] C=0.001, gamma=1, kernel=linear .................................\n",
      "[CV]  C=0.001, gamma=1, kernel=linear, score=(train=0.791, test=0.791), total=   0.0s\n",
      "[CV] C=0.001, gamma=1, kernel=linear .................................\n",
      "[CV]  C=0.001, gamma=1, kernel=linear, score=(train=0.791, test=0.791), total=   0.1s\n",
      "[CV] C=0.001, gamma=1, kernel=linear .................................\n",
      "[CV]  C=0.001, gamma=1, kernel=linear, score=(train=0.791, test=0.791), total=   0.0s\n",
      "[CV] C=0.001, gamma=1, kernel=linear .................................\n",
      "[CV]  C=0.001, gamma=1, kernel=linear, score=(train=0.791, test=0.791), total=   0.0s\n",
      "[CV] C=0.001, gamma=1, kernel=linear .................................\n",
      "[CV]  C=0.001, gamma=1, kernel=linear, score=(train=0.791, test=0.791), total=   0.0s\n",
      "[CV] C=0.001, gamma=1, kernel=linear .................................\n",
      "[CV]  C=0.001, gamma=1, kernel=linear, score=(train=0.791, test=0.791), total=   0.0s\n",
      "[CV] C=0.001, gamma=1, kernel=linear .................................\n",
      "[CV]  C=0.001, gamma=1, kernel=linear, score=(train=0.791, test=0.791), total=   0.1s\n",
      "[CV] C=0.001, gamma=1, kernel=rbf ....................................\n",
      "[CV]  C=0.001, gamma=1, kernel=rbf, score=(train=0.791, test=0.791), total=   0.1s\n",
      "[CV] C=0.001, gamma=1, kernel=rbf ....................................\n",
      "[CV]  C=0.001, gamma=1, kernel=rbf, score=(train=0.791, test=0.791), total=   0.1s\n",
      "[CV] C=0.001, gamma=1, kernel=rbf ....................................\n",
      "[CV]  C=0.001, gamma=1, kernel=rbf, score=(train=0.791, test=0.794), total=   0.1s\n",
      "[CV] C=0.001, gamma=1, kernel=rbf ....................................\n",
      "[CV]  C=0.001, gamma=1, kernel=rbf, score=(train=0.791, test=0.791), total=   0.1s\n",
      "[CV] C=0.001, gamma=1, kernel=rbf ....................................\n",
      "[CV]  C=0.001, gamma=1, kernel=rbf, score=(train=0.791, test=0.791), total=   0.1s\n",
      "[CV] C=0.001, gamma=1, kernel=rbf ....................................\n",
      "[CV]  C=0.001, gamma=1, kernel=rbf, score=(train=0.791, test=0.791), total=   0.1s\n",
      "[CV] C=0.001, gamma=1, kernel=rbf ....................................\n",
      "[CV]  C=0.001, gamma=1, kernel=rbf, score=(train=0.791, test=0.791), total=   0.1s\n",
      "[CV] C=0.001, gamma=1, kernel=rbf ....................................\n",
      "[CV]  C=0.001, gamma=1, kernel=rbf, score=(train=0.791, test=0.791), total=   0.1s\n",
      "[CV] C=0.001, gamma=1, kernel=rbf ....................................\n",
      "[CV]  C=0.001, gamma=1, kernel=rbf, score=(train=0.791, test=0.791), total=   0.1s\n",
      "[CV] C=0.001, gamma=1, kernel=rbf ....................................\n",
      "[CV]  C=0.001, gamma=1, kernel=rbf, score=(train=0.791, test=0.791), total=   0.1s\n",
      "[CV] C=0.001, gamma=1, kernel=sigmoid ................................\n",
      "[CV]  C=0.001, gamma=1, kernel=sigmoid, score=(train=0.791, test=0.791), total=   0.1s\n",
      "[CV] C=0.001, gamma=1, kernel=sigmoid ................................\n",
      "[CV]  C=0.001, gamma=1, kernel=sigmoid, score=(train=0.791, test=0.791), total=   0.1s\n",
      "[CV] C=0.001, gamma=1, kernel=sigmoid ................................\n",
      "[CV]  C=0.001, gamma=1, kernel=sigmoid, score=(train=0.791, test=0.794), total=   0.1s\n",
      "[CV] C=0.001, gamma=1, kernel=sigmoid ................................\n",
      "[CV]  C=0.001, gamma=1, kernel=sigmoid, score=(train=0.791, test=0.791), total=   0.1s\n",
      "[CV] C=0.001, gamma=1, kernel=sigmoid ................................\n",
      "[CV]  C=0.001, gamma=1, kernel=sigmoid, score=(train=0.791, test=0.791), total=   0.1s\n",
      "[CV] C=0.001, gamma=1, kernel=sigmoid ................................\n",
      "[CV]  C=0.001, gamma=1, kernel=sigmoid, score=(train=0.791, test=0.791), total=   0.1s\n",
      "[CV] C=0.001, gamma=1, kernel=sigmoid ................................\n",
      "[CV]  C=0.001, gamma=1, kernel=sigmoid, score=(train=0.791, test=0.791), total=   0.1s\n",
      "[CV] C=0.001, gamma=1, kernel=sigmoid ................................\n",
      "[CV]  C=0.001, gamma=1, kernel=sigmoid, score=(train=0.791, test=0.791), total=   0.1s\n",
      "[CV] C=0.001, gamma=1, kernel=sigmoid ................................\n",
      "[CV]  C=0.001, gamma=1, kernel=sigmoid, score=(train=0.791, test=0.791), total=   0.1s\n",
      "[CV] C=0.001, gamma=1, kernel=sigmoid ................................\n",
      "[CV]  C=0.001, gamma=1, kernel=sigmoid, score=(train=0.791, test=0.791), total=   0.1s\n",
      "[CV] C=0.001, gamma=10, kernel=linear ................................\n",
      "[CV]  C=0.001, gamma=10, kernel=linear, score=(train=0.791, test=0.791), total=   0.0s\n",
      "[CV] C=0.001, gamma=10, kernel=linear ................................\n",
      "[CV]  C=0.001, gamma=10, kernel=linear, score=(train=0.791, test=0.791), total=   0.0s\n",
      "[CV] C=0.001, gamma=10, kernel=linear ................................\n",
      "[CV]  C=0.001, gamma=10, kernel=linear, score=(train=0.791, test=0.794), total=   0.1s\n",
      "[CV] C=0.001, gamma=10, kernel=linear ................................\n",
      "[CV]  C=0.001, gamma=10, kernel=linear, score=(train=0.791, test=0.791), total=   0.0s\n",
      "[CV] C=0.001, gamma=10, kernel=linear ................................\n",
      "[CV]  C=0.001, gamma=10, kernel=linear, score=(train=0.791, test=0.791), total=   0.0s\n",
      "[CV] C=0.001, gamma=10, kernel=linear ................................\n",
      "[CV]  C=0.001, gamma=10, kernel=linear, score=(train=0.791, test=0.791), total=   0.0s\n",
      "[CV] C=0.001, gamma=10, kernel=linear ................................\n",
      "[CV]  C=0.001, gamma=10, kernel=linear, score=(train=0.791, test=0.791), total=   0.0s\n",
      "[CV] C=0.001, gamma=10, kernel=linear ................................\n",
      "[CV]  C=0.001, gamma=10, kernel=linear, score=(train=0.791, test=0.791), total=   0.1s\n",
      "[CV] C=0.001, gamma=10, kernel=linear ................................\n",
      "[CV]  C=0.001, gamma=10, kernel=linear, score=(train=0.791, test=0.791), total=   0.0s\n",
      "[CV] C=0.001, gamma=10, kernel=linear ................................\n",
      "[CV]  C=0.001, gamma=10, kernel=linear, score=(train=0.791, test=0.791), total=   0.0s\n",
      "[CV] C=0.001, gamma=10, kernel=rbf ...................................\n",
      "[CV]  C=0.001, gamma=10, kernel=rbf, score=(train=0.791, test=0.791), total=   0.1s\n",
      "[CV] C=0.001, gamma=10, kernel=rbf ...................................\n",
      "[CV]  C=0.001, gamma=10, kernel=rbf, score=(train=0.791, test=0.791), total=   0.1s\n",
      "[CV] C=0.001, gamma=10, kernel=rbf ...................................\n",
      "[CV]  C=0.001, gamma=10, kernel=rbf, score=(train=0.791, test=0.794), total=   0.1s\n",
      "[CV] C=0.001, gamma=10, kernel=rbf ...................................\n",
      "[CV]  C=0.001, gamma=10, kernel=rbf, score=(train=0.791, test=0.791), total=   0.1s\n",
      "[CV] C=0.001, gamma=10, kernel=rbf ...................................\n",
      "[CV]  C=0.001, gamma=10, kernel=rbf, score=(train=0.791, test=0.791), total=   0.1s\n",
      "[CV] C=0.001, gamma=10, kernel=rbf ...................................\n",
      "[CV]  C=0.001, gamma=10, kernel=rbf, score=(train=0.791, test=0.791), total=   0.1s\n",
      "[CV] C=0.001, gamma=10, kernel=rbf ...................................\n",
      "[CV]  C=0.001, gamma=10, kernel=rbf, score=(train=0.791, test=0.791), total=   0.1s\n",
      "[CV] C=0.001, gamma=10, kernel=rbf ...................................\n"
     ]
    },
    {
     "name": "stdout",
     "output_type": "stream",
     "text": [
      "[CV]  C=0.001, gamma=10, kernel=rbf, score=(train=0.791, test=0.791), total=   0.1s\n",
      "[CV] C=0.001, gamma=10, kernel=rbf ...................................\n",
      "[CV]  C=0.001, gamma=10, kernel=rbf, score=(train=0.791, test=0.791), total=   0.1s\n",
      "[CV] C=0.001, gamma=10, kernel=rbf ...................................\n",
      "[CV]  C=0.001, gamma=10, kernel=rbf, score=(train=0.791, test=0.791), total=   0.1s\n",
      "[CV] C=0.001, gamma=10, kernel=sigmoid ...............................\n",
      "[CV]  C=0.001, gamma=10, kernel=sigmoid, score=(train=0.791, test=0.791), total=   0.1s\n",
      "[CV] C=0.001, gamma=10, kernel=sigmoid ...............................\n",
      "[CV]  C=0.001, gamma=10, kernel=sigmoid, score=(train=0.791, test=0.791), total=   0.1s\n",
      "[CV] C=0.001, gamma=10, kernel=sigmoid ...............................\n",
      "[CV]  C=0.001, gamma=10, kernel=sigmoid, score=(train=0.791, test=0.794), total=   0.1s\n",
      "[CV] C=0.001, gamma=10, kernel=sigmoid ...............................\n",
      "[CV]  C=0.001, gamma=10, kernel=sigmoid, score=(train=0.791, test=0.791), total=   0.1s\n",
      "[CV] C=0.001, gamma=10, kernel=sigmoid ...............................\n",
      "[CV]  C=0.001, gamma=10, kernel=sigmoid, score=(train=0.791, test=0.791), total=   0.1s\n",
      "[CV] C=0.001, gamma=10, kernel=sigmoid ...............................\n",
      "[CV]  C=0.001, gamma=10, kernel=sigmoid, score=(train=0.791, test=0.791), total=   0.1s\n",
      "[CV] C=0.001, gamma=10, kernel=sigmoid ...............................\n",
      "[CV]  C=0.001, gamma=10, kernel=sigmoid, score=(train=0.791, test=0.791), total=   0.1s\n",
      "[CV] C=0.001, gamma=10, kernel=sigmoid ...............................\n",
      "[CV]  C=0.001, gamma=10, kernel=sigmoid, score=(train=0.791, test=0.791), total=   0.1s\n",
      "[CV] C=0.001, gamma=10, kernel=sigmoid ...............................\n",
      "[CV]  C=0.001, gamma=10, kernel=sigmoid, score=(train=0.791, test=0.791), total=   0.1s\n",
      "[CV] C=0.001, gamma=10, kernel=sigmoid ...............................\n",
      "[CV]  C=0.001, gamma=10, kernel=sigmoid, score=(train=0.791, test=0.791), total=   0.1s\n",
      "[CV] C=0.01, gamma=0.001, kernel=linear ..............................\n",
      "[CV]  C=0.01, gamma=0.001, kernel=linear, score=(train=0.791, test=0.791), total=   0.0s\n",
      "[CV] C=0.01, gamma=0.001, kernel=linear ..............................\n",
      "[CV]  C=0.01, gamma=0.001, kernel=linear, score=(train=0.791, test=0.791), total=   0.0s\n",
      "[CV] C=0.01, gamma=0.001, kernel=linear ..............................\n",
      "[CV]  C=0.01, gamma=0.001, kernel=linear, score=(train=0.791, test=0.794), total=   0.0s\n",
      "[CV] C=0.01, gamma=0.001, kernel=linear ..............................\n",
      "[CV]  C=0.01, gamma=0.001, kernel=linear, score=(train=0.791, test=0.791), total=   0.1s\n",
      "[CV] C=0.01, gamma=0.001, kernel=linear ..............................\n",
      "[CV]  C=0.01, gamma=0.001, kernel=linear, score=(train=0.791, test=0.791), total=   0.1s\n",
      "[CV] C=0.01, gamma=0.001, kernel=linear ..............................\n",
      "[CV]  C=0.01, gamma=0.001, kernel=linear, score=(train=0.791, test=0.791), total=   0.0s\n",
      "[CV] C=0.01, gamma=0.001, kernel=linear ..............................\n",
      "[CV]  C=0.01, gamma=0.001, kernel=linear, score=(train=0.791, test=0.791), total=   0.0s\n",
      "[CV] C=0.01, gamma=0.001, kernel=linear ..............................\n",
      "[CV]  C=0.01, gamma=0.001, kernel=linear, score=(train=0.791, test=0.791), total=   0.0s\n",
      "[CV] C=0.01, gamma=0.001, kernel=linear ..............................\n",
      "[CV]  C=0.01, gamma=0.001, kernel=linear, score=(train=0.791, test=0.791), total=   0.1s\n",
      "[CV] C=0.01, gamma=0.001, kernel=linear ..............................\n",
      "[CV]  C=0.01, gamma=0.001, kernel=linear, score=(train=0.791, test=0.791), total=   0.0s\n",
      "[CV] C=0.01, gamma=0.001, kernel=rbf .................................\n",
      "[CV]  C=0.01, gamma=0.001, kernel=rbf, score=(train=0.791, test=0.791), total=   0.1s\n",
      "[CV] C=0.01, gamma=0.001, kernel=rbf .................................\n",
      "[CV]  C=0.01, gamma=0.001, kernel=rbf, score=(train=0.791, test=0.791), total=   0.1s\n",
      "[CV] C=0.01, gamma=0.001, kernel=rbf .................................\n",
      "[CV]  C=0.01, gamma=0.001, kernel=rbf, score=(train=0.791, test=0.794), total=   0.1s\n",
      "[CV] C=0.01, gamma=0.001, kernel=rbf .................................\n",
      "[CV]  C=0.01, gamma=0.001, kernel=rbf, score=(train=0.791, test=0.791), total=   0.1s\n",
      "[CV] C=0.01, gamma=0.001, kernel=rbf .................................\n",
      "[CV]  C=0.01, gamma=0.001, kernel=rbf, score=(train=0.791, test=0.791), total=   0.1s\n",
      "[CV] C=0.01, gamma=0.001, kernel=rbf .................................\n",
      "[CV]  C=0.01, gamma=0.001, kernel=rbf, score=(train=0.791, test=0.791), total=   0.1s\n",
      "[CV] C=0.01, gamma=0.001, kernel=rbf .................................\n",
      "[CV]  C=0.01, gamma=0.001, kernel=rbf, score=(train=0.791, test=0.791), total=   0.1s\n",
      "[CV] C=0.01, gamma=0.001, kernel=rbf .................................\n",
      "[CV]  C=0.01, gamma=0.001, kernel=rbf, score=(train=0.791, test=0.791), total=   0.1s\n",
      "[CV] C=0.01, gamma=0.001, kernel=rbf .................................\n",
      "[CV]  C=0.01, gamma=0.001, kernel=rbf, score=(train=0.791, test=0.791), total=   0.1s\n",
      "[CV] C=0.01, gamma=0.001, kernel=rbf .................................\n",
      "[CV]  C=0.01, gamma=0.001, kernel=rbf, score=(train=0.791, test=0.791), total=   0.1s\n",
      "[CV] C=0.01, gamma=0.001, kernel=sigmoid .............................\n",
      "[CV]  C=0.01, gamma=0.001, kernel=sigmoid, score=(train=0.791, test=0.791), total=   0.0s\n",
      "[CV] C=0.01, gamma=0.001, kernel=sigmoid .............................\n",
      "[CV]  C=0.01, gamma=0.001, kernel=sigmoid, score=(train=0.791, test=0.791), total=   0.1s\n",
      "[CV] C=0.01, gamma=0.001, kernel=sigmoid .............................\n",
      "[CV]  C=0.01, gamma=0.001, kernel=sigmoid, score=(train=0.791, test=0.794), total=   0.1s\n",
      "[CV] C=0.01, gamma=0.001, kernel=sigmoid .............................\n",
      "[CV]  C=0.01, gamma=0.001, kernel=sigmoid, score=(train=0.791, test=0.791), total=   0.1s\n",
      "[CV] C=0.01, gamma=0.001, kernel=sigmoid .............................\n",
      "[CV]  C=0.01, gamma=0.001, kernel=sigmoid, score=(train=0.791, test=0.791), total=   0.0s\n",
      "[CV] C=0.01, gamma=0.001, kernel=sigmoid .............................\n",
      "[CV]  C=0.01, gamma=0.001, kernel=sigmoid, score=(train=0.791, test=0.791), total=   0.1s\n",
      "[CV] C=0.01, gamma=0.001, kernel=sigmoid .............................\n",
      "[CV]  C=0.01, gamma=0.001, kernel=sigmoid, score=(train=0.791, test=0.791), total=   0.0s\n",
      "[CV] C=0.01, gamma=0.001, kernel=sigmoid .............................\n",
      "[CV]  C=0.01, gamma=0.001, kernel=sigmoid, score=(train=0.791, test=0.791), total=   0.1s\n",
      "[CV] C=0.01, gamma=0.001, kernel=sigmoid .............................\n",
      "[CV]  C=0.01, gamma=0.001, kernel=sigmoid, score=(train=0.791, test=0.791), total=   0.1s\n",
      "[CV] C=0.01, gamma=0.001, kernel=sigmoid .............................\n",
      "[CV]  C=0.01, gamma=0.001, kernel=sigmoid, score=(train=0.791, test=0.791), total=   0.1s\n",
      "[CV] C=0.01, gamma=0.01, kernel=linear ...............................\n",
      "[CV]  C=0.01, gamma=0.01, kernel=linear, score=(train=0.791, test=0.791), total=   0.0s\n",
      "[CV] C=0.01, gamma=0.01, kernel=linear ...............................\n",
      "[CV]  C=0.01, gamma=0.01, kernel=linear, score=(train=0.791, test=0.791), total=   0.0s\n",
      "[CV] C=0.01, gamma=0.01, kernel=linear ...............................\n",
      "[CV]  C=0.01, gamma=0.01, kernel=linear, score=(train=0.791, test=0.794), total=   0.0s\n",
      "[CV] C=0.01, gamma=0.01, kernel=linear ...............................\n",
      "[CV]  C=0.01, gamma=0.01, kernel=linear, score=(train=0.791, test=0.791), total=   0.1s\n",
      "[CV] C=0.01, gamma=0.01, kernel=linear ...............................\n",
      "[CV]  C=0.01, gamma=0.01, kernel=linear, score=(train=0.791, test=0.791), total=   0.1s\n",
      "[CV] C=0.01, gamma=0.01, kernel=linear ...............................\n",
      "[CV]  C=0.01, gamma=0.01, kernel=linear, score=(train=0.791, test=0.791), total=   0.0s\n",
      "[CV] C=0.01, gamma=0.01, kernel=linear ...............................\n",
      "[CV]  C=0.01, gamma=0.01, kernel=linear, score=(train=0.791, test=0.791), total=   0.0s\n",
      "[CV] C=0.01, gamma=0.01, kernel=linear ...............................\n",
      "[CV]  C=0.01, gamma=0.01, kernel=linear, score=(train=0.791, test=0.791), total=   0.0s\n",
      "[CV] C=0.01, gamma=0.01, kernel=linear ...............................\n",
      "[CV]  C=0.01, gamma=0.01, kernel=linear, score=(train=0.791, test=0.791), total=   0.1s\n",
      "[CV] C=0.01, gamma=0.01, kernel=linear ...............................\n",
      "[CV]  C=0.01, gamma=0.01, kernel=linear, score=(train=0.791, test=0.791), total=   0.1s\n",
      "[CV] C=0.01, gamma=0.01, kernel=rbf ..................................\n",
      "[CV]  C=0.01, gamma=0.01, kernel=rbf, score=(train=0.791, test=0.791), total=   0.1s\n",
      "[CV] C=0.01, gamma=0.01, kernel=rbf ..................................\n"
     ]
    },
    {
     "name": "stdout",
     "output_type": "stream",
     "text": [
      "[CV]  C=0.01, gamma=0.01, kernel=rbf, score=(train=0.791, test=0.791), total=   0.1s\n",
      "[CV] C=0.01, gamma=0.01, kernel=rbf ..................................\n",
      "[CV]  C=0.01, gamma=0.01, kernel=rbf, score=(train=0.791, test=0.794), total=   0.1s\n",
      "[CV] C=0.01, gamma=0.01, kernel=rbf ..................................\n",
      "[CV]  C=0.01, gamma=0.01, kernel=rbf, score=(train=0.791, test=0.791), total=   0.1s\n",
      "[CV] C=0.01, gamma=0.01, kernel=rbf ..................................\n",
      "[CV]  C=0.01, gamma=0.01, kernel=rbf, score=(train=0.791, test=0.791), total=   0.1s\n",
      "[CV] C=0.01, gamma=0.01, kernel=rbf ..................................\n",
      "[CV]  C=0.01, gamma=0.01, kernel=rbf, score=(train=0.791, test=0.791), total=   0.1s\n",
      "[CV] C=0.01, gamma=0.01, kernel=rbf ..................................\n",
      "[CV]  C=0.01, gamma=0.01, kernel=rbf, score=(train=0.791, test=0.791), total=   0.1s\n",
      "[CV] C=0.01, gamma=0.01, kernel=rbf ..................................\n",
      "[CV]  C=0.01, gamma=0.01, kernel=rbf, score=(train=0.791, test=0.791), total=   0.1s\n",
      "[CV] C=0.01, gamma=0.01, kernel=rbf ..................................\n",
      "[CV]  C=0.01, gamma=0.01, kernel=rbf, score=(train=0.791, test=0.791), total=   0.1s\n",
      "[CV] C=0.01, gamma=0.01, kernel=rbf ..................................\n",
      "[CV]  C=0.01, gamma=0.01, kernel=rbf, score=(train=0.791, test=0.791), total=   0.1s\n",
      "[CV] C=0.01, gamma=0.01, kernel=sigmoid ..............................\n",
      "[CV]  C=0.01, gamma=0.01, kernel=sigmoid, score=(train=0.791, test=0.791), total=   0.1s\n",
      "[CV] C=0.01, gamma=0.01, kernel=sigmoid ..............................\n",
      "[CV]  C=0.01, gamma=0.01, kernel=sigmoid, score=(train=0.791, test=0.791), total=   0.1s\n",
      "[CV] C=0.01, gamma=0.01, kernel=sigmoid ..............................\n",
      "[CV]  C=0.01, gamma=0.01, kernel=sigmoid, score=(train=0.791, test=0.794), total=   0.1s\n",
      "[CV] C=0.01, gamma=0.01, kernel=sigmoid ..............................\n",
      "[CV]  C=0.01, gamma=0.01, kernel=sigmoid, score=(train=0.791, test=0.791), total=   0.1s\n",
      "[CV] C=0.01, gamma=0.01, kernel=sigmoid ..............................\n",
      "[CV]  C=0.01, gamma=0.01, kernel=sigmoid, score=(train=0.791, test=0.791), total=   0.1s\n",
      "[CV] C=0.01, gamma=0.01, kernel=sigmoid ..............................\n",
      "[CV]  C=0.01, gamma=0.01, kernel=sigmoid, score=(train=0.791, test=0.791), total=   0.1s\n",
      "[CV] C=0.01, gamma=0.01, kernel=sigmoid ..............................\n",
      "[CV]  C=0.01, gamma=0.01, kernel=sigmoid, score=(train=0.791, test=0.791), total=   0.1s\n",
      "[CV] C=0.01, gamma=0.01, kernel=sigmoid ..............................\n",
      "[CV]  C=0.01, gamma=0.01, kernel=sigmoid, score=(train=0.791, test=0.791), total=   0.1s\n",
      "[CV] C=0.01, gamma=0.01, kernel=sigmoid ..............................\n",
      "[CV]  C=0.01, gamma=0.01, kernel=sigmoid, score=(train=0.791, test=0.791), total=   0.1s\n",
      "[CV] C=0.01, gamma=0.01, kernel=sigmoid ..............................\n",
      "[CV]  C=0.01, gamma=0.01, kernel=sigmoid, score=(train=0.791, test=0.791), total=   0.1s\n",
      "[CV] C=0.01, gamma=1, kernel=linear ..................................\n",
      "[CV]  C=0.01, gamma=1, kernel=linear, score=(train=0.791, test=0.791), total=   0.0s\n",
      "[CV] C=0.01, gamma=1, kernel=linear ..................................\n",
      "[CV]  C=0.01, gamma=1, kernel=linear, score=(train=0.791, test=0.791), total=   0.1s\n",
      "[CV] C=0.01, gamma=1, kernel=linear ..................................\n",
      "[CV]  C=0.01, gamma=1, kernel=linear, score=(train=0.791, test=0.794), total=   0.1s\n",
      "[CV] C=0.01, gamma=1, kernel=linear ..................................\n",
      "[CV]  C=0.01, gamma=1, kernel=linear, score=(train=0.791, test=0.791), total=   0.0s\n",
      "[CV] C=0.01, gamma=1, kernel=linear ..................................\n",
      "[CV]  C=0.01, gamma=1, kernel=linear, score=(train=0.791, test=0.791), total=   0.0s\n",
      "[CV] C=0.01, gamma=1, kernel=linear ..................................\n",
      "[CV]  C=0.01, gamma=1, kernel=linear, score=(train=0.791, test=0.791), total=   0.0s\n",
      "[CV] C=0.01, gamma=1, kernel=linear ..................................\n",
      "[CV]  C=0.01, gamma=1, kernel=linear, score=(train=0.791, test=0.791), total=   0.1s\n",
      "[CV] C=0.01, gamma=1, kernel=linear ..................................\n",
      "[CV]  C=0.01, gamma=1, kernel=linear, score=(train=0.791, test=0.791), total=   0.0s\n",
      "[CV] C=0.01, gamma=1, kernel=linear ..................................\n",
      "[CV]  C=0.01, gamma=1, kernel=linear, score=(train=0.791, test=0.791), total=   0.0s\n",
      "[CV] C=0.01, gamma=1, kernel=linear ..................................\n",
      "[CV]  C=0.01, gamma=1, kernel=linear, score=(train=0.791, test=0.791), total=   0.0s\n",
      "[CV] C=0.01, gamma=1, kernel=rbf .....................................\n",
      "[CV]  C=0.01, gamma=1, kernel=rbf, score=(train=0.791, test=0.791), total=   0.2s\n",
      "[CV] C=0.01, gamma=1, kernel=rbf .....................................\n",
      "[CV]  C=0.01, gamma=1, kernel=rbf, score=(train=0.791, test=0.791), total=   0.1s\n",
      "[CV] C=0.01, gamma=1, kernel=rbf .....................................\n",
      "[CV]  C=0.01, gamma=1, kernel=rbf, score=(train=0.791, test=0.794), total=   0.1s\n",
      "[CV] C=0.01, gamma=1, kernel=rbf .....................................\n",
      "[CV]  C=0.01, gamma=1, kernel=rbf, score=(train=0.791, test=0.791), total=   0.2s\n",
      "[CV] C=0.01, gamma=1, kernel=rbf .....................................\n",
      "[CV]  C=0.01, gamma=1, kernel=rbf, score=(train=0.791, test=0.791), total=   0.1s\n",
      "[CV] C=0.01, gamma=1, kernel=rbf .....................................\n",
      "[CV]  C=0.01, gamma=1, kernel=rbf, score=(train=0.791, test=0.791), total=   0.1s\n",
      "[CV] C=0.01, gamma=1, kernel=rbf .....................................\n",
      "[CV]  C=0.01, gamma=1, kernel=rbf, score=(train=0.791, test=0.791), total=   0.1s\n",
      "[CV] C=0.01, gamma=1, kernel=rbf .....................................\n",
      "[CV]  C=0.01, gamma=1, kernel=rbf, score=(train=0.791, test=0.791), total=   0.1s\n",
      "[CV] C=0.01, gamma=1, kernel=rbf .....................................\n",
      "[CV]  C=0.01, gamma=1, kernel=rbf, score=(train=0.791, test=0.791), total=   0.1s\n",
      "[CV] C=0.01, gamma=1, kernel=rbf .....................................\n",
      "[CV]  C=0.01, gamma=1, kernel=rbf, score=(train=0.791, test=0.791), total=   0.1s\n",
      "[CV] C=0.01, gamma=1, kernel=sigmoid .................................\n",
      "[CV]  C=0.01, gamma=1, kernel=sigmoid, score=(train=0.791, test=0.788), total=   0.1s\n",
      "[CV] C=0.01, gamma=1, kernel=sigmoid .................................\n",
      "[CV]  C=0.01, gamma=1, kernel=sigmoid, score=(train=0.790, test=0.791), total=   0.1s\n",
      "[CV] C=0.01, gamma=1, kernel=sigmoid .................................\n",
      "[CV]  C=0.01, gamma=1, kernel=sigmoid, score=(train=0.790, test=0.794), total=   0.1s\n",
      "[CV] C=0.01, gamma=1, kernel=sigmoid .................................\n",
      "[CV]  C=0.01, gamma=1, kernel=sigmoid, score=(train=0.790, test=0.791), total=   0.1s\n",
      "[CV] C=0.01, gamma=1, kernel=sigmoid .................................\n",
      "[CV]  C=0.01, gamma=1, kernel=sigmoid, score=(train=0.791, test=0.787), total=   0.1s\n",
      "[CV] C=0.01, gamma=1, kernel=sigmoid .................................\n",
      "[CV]  C=0.01, gamma=1, kernel=sigmoid, score=(train=0.793, test=0.791), total=   0.1s\n",
      "[CV] C=0.01, gamma=1, kernel=sigmoid .................................\n",
      "[CV]  C=0.01, gamma=1, kernel=sigmoid, score=(train=0.792, test=0.787), total=   0.2s\n",
      "[CV] C=0.01, gamma=1, kernel=sigmoid .................................\n",
      "[CV]  C=0.01, gamma=1, kernel=sigmoid, score=(train=0.792, test=0.787), total=   0.1s\n",
      "[CV] C=0.01, gamma=1, kernel=sigmoid .................................\n",
      "[CV]  C=0.01, gamma=1, kernel=sigmoid, score=(train=0.790, test=0.794), total=   0.1s\n",
      "[CV] C=0.01, gamma=1, kernel=sigmoid .................................\n",
      "[CV]  C=0.01, gamma=1, kernel=sigmoid, score=(train=0.791, test=0.791), total=   0.1s\n",
      "[CV] C=0.01, gamma=10, kernel=linear .................................\n",
      "[CV]  C=0.01, gamma=10, kernel=linear, score=(train=0.791, test=0.791), total=   0.0s\n",
      "[CV] C=0.01, gamma=10, kernel=linear .................................\n",
      "[CV]  C=0.01, gamma=10, kernel=linear, score=(train=0.791, test=0.791), total=   0.0s\n",
      "[CV] C=0.01, gamma=10, kernel=linear .................................\n",
      "[CV]  C=0.01, gamma=10, kernel=linear, score=(train=0.791, test=0.794), total=   0.0s\n",
      "[CV] C=0.01, gamma=10, kernel=linear .................................\n",
      "[CV]  C=0.01, gamma=10, kernel=linear, score=(train=0.791, test=0.791), total=   0.1s\n",
      "[CV] C=0.01, gamma=10, kernel=linear .................................\n",
      "[CV]  C=0.01, gamma=10, kernel=linear, score=(train=0.791, test=0.791), total=   0.1s\n",
      "[CV] C=0.01, gamma=10, kernel=linear .................................\n",
      "[CV]  C=0.01, gamma=10, kernel=linear, score=(train=0.791, test=0.791), total=   0.0s\n",
      "[CV] C=0.01, gamma=10, kernel=linear .................................\n"
     ]
    },
    {
     "name": "stdout",
     "output_type": "stream",
     "text": [
      "[CV]  C=0.01, gamma=10, kernel=linear, score=(train=0.791, test=0.791), total=   0.0s\n",
      "[CV] C=0.01, gamma=10, kernel=linear .................................\n",
      "[CV]  C=0.01, gamma=10, kernel=linear, score=(train=0.791, test=0.791), total=   0.0s\n",
      "[CV] C=0.01, gamma=10, kernel=linear .................................\n",
      "[CV]  C=0.01, gamma=10, kernel=linear, score=(train=0.791, test=0.791), total=   0.1s\n",
      "[CV] C=0.01, gamma=10, kernel=linear .................................\n",
      "[CV]  C=0.01, gamma=10, kernel=linear, score=(train=0.791, test=0.791), total=   0.0s\n",
      "[CV] C=0.01, gamma=10, kernel=rbf ....................................\n",
      "[CV]  C=0.01, gamma=10, kernel=rbf, score=(train=0.791, test=0.791), total=   0.1s\n",
      "[CV] C=0.01, gamma=10, kernel=rbf ....................................\n",
      "[CV]  C=0.01, gamma=10, kernel=rbf, score=(train=0.791, test=0.791), total=   0.1s\n",
      "[CV] C=0.01, gamma=10, kernel=rbf ....................................\n",
      "[CV]  C=0.01, gamma=10, kernel=rbf, score=(train=0.791, test=0.794), total=   0.2s\n",
      "[CV] C=0.01, gamma=10, kernel=rbf ....................................\n",
      "[CV]  C=0.01, gamma=10, kernel=rbf, score=(train=0.791, test=0.791), total=   0.2s\n",
      "[CV] C=0.01, gamma=10, kernel=rbf ....................................\n",
      "[CV]  C=0.01, gamma=10, kernel=rbf, score=(train=0.791, test=0.791), total=   0.2s\n",
      "[CV] C=0.01, gamma=10, kernel=rbf ....................................\n",
      "[CV]  C=0.01, gamma=10, kernel=rbf, score=(train=0.791, test=0.791), total=   0.2s\n",
      "[CV] C=0.01, gamma=10, kernel=rbf ....................................\n",
      "[CV]  C=0.01, gamma=10, kernel=rbf, score=(train=0.791, test=0.791), total=   0.2s\n",
      "[CV] C=0.01, gamma=10, kernel=rbf ....................................\n",
      "[CV]  C=0.01, gamma=10, kernel=rbf, score=(train=0.791, test=0.791), total=   0.2s\n",
      "[CV] C=0.01, gamma=10, kernel=rbf ....................................\n",
      "[CV]  C=0.01, gamma=10, kernel=rbf, score=(train=0.791, test=0.791), total=   0.2s\n",
      "[CV] C=0.01, gamma=10, kernel=rbf ....................................\n",
      "[CV]  C=0.01, gamma=10, kernel=rbf, score=(train=0.791, test=0.791), total=   0.2s\n",
      "[CV] C=0.01, gamma=10, kernel=sigmoid ................................\n",
      "[CV]  C=0.01, gamma=10, kernel=sigmoid, score=(train=0.786, test=0.791), total=   0.1s\n",
      "[CV] C=0.01, gamma=10, kernel=sigmoid ................................\n",
      "[CV]  C=0.01, gamma=10, kernel=sigmoid, score=(train=0.783, test=0.788), total=   0.1s\n",
      "[CV] C=0.01, gamma=10, kernel=sigmoid ................................\n",
      "[CV]  C=0.01, gamma=10, kernel=sigmoid, score=(train=0.787, test=0.780), total=   0.1s\n",
      "[CV] C=0.01, gamma=10, kernel=sigmoid ................................\n",
      "[CV]  C=0.01, gamma=10, kernel=sigmoid, score=(train=0.783, test=0.776), total=   0.1s\n",
      "[CV] C=0.01, gamma=10, kernel=sigmoid ................................\n",
      "[CV]  C=0.01, gamma=10, kernel=sigmoid, score=(train=0.786, test=0.794), total=   0.1s\n",
      "[CV] C=0.01, gamma=10, kernel=sigmoid ................................\n",
      "[CV]  C=0.01, gamma=10, kernel=sigmoid, score=(train=0.784, test=0.794), total=   0.1s\n",
      "[CV] C=0.01, gamma=10, kernel=sigmoid ................................\n",
      "[CV]  C=0.01, gamma=10, kernel=sigmoid, score=(train=0.784, test=0.783), total=   0.1s\n",
      "[CV] C=0.01, gamma=10, kernel=sigmoid ................................\n",
      "[CV]  C=0.01, gamma=10, kernel=sigmoid, score=(train=0.786, test=0.776), total=   0.1s\n",
      "[CV] C=0.01, gamma=10, kernel=sigmoid ................................\n",
      "[CV]  C=0.01, gamma=10, kernel=sigmoid, score=(train=0.785, test=0.794), total=   0.1s\n",
      "[CV] C=0.01, gamma=10, kernel=sigmoid ................................\n",
      "[CV]  C=0.01, gamma=10, kernel=sigmoid, score=(train=0.785, test=0.791), total=   0.1s\n",
      "[CV] C=1, gamma=0.001, kernel=linear .................................\n",
      "[CV]  C=1, gamma=0.001, kernel=linear, score=(train=0.791, test=0.791), total=   0.1s\n",
      "[CV] C=1, gamma=0.001, kernel=linear .................................\n",
      "[CV]  C=1, gamma=0.001, kernel=linear, score=(train=0.791, test=0.791), total=   0.1s\n",
      "[CV] C=1, gamma=0.001, kernel=linear .................................\n",
      "[CV]  C=1, gamma=0.001, kernel=linear, score=(train=0.791, test=0.794), total=   0.1s\n",
      "[CV] C=1, gamma=0.001, kernel=linear .................................\n",
      "[CV]  C=1, gamma=0.001, kernel=linear, score=(train=0.791, test=0.791), total=   0.1s\n",
      "[CV] C=1, gamma=0.001, kernel=linear .................................\n",
      "[CV]  C=1, gamma=0.001, kernel=linear, score=(train=0.791, test=0.791), total=   0.1s\n",
      "[CV] C=1, gamma=0.001, kernel=linear .................................\n",
      "[CV]  C=1, gamma=0.001, kernel=linear, score=(train=0.791, test=0.791), total=   0.1s\n",
      "[CV] C=1, gamma=0.001, kernel=linear .................................\n",
      "[CV]  C=1, gamma=0.001, kernel=linear, score=(train=0.791, test=0.791), total=   0.1s\n",
      "[CV] C=1, gamma=0.001, kernel=linear .................................\n",
      "[CV]  C=1, gamma=0.001, kernel=linear, score=(train=0.791, test=0.791), total=   0.1s\n",
      "[CV] C=1, gamma=0.001, kernel=linear .................................\n",
      "[CV]  C=1, gamma=0.001, kernel=linear, score=(train=0.791, test=0.791), total=   0.1s\n",
      "[CV] C=1, gamma=0.001, kernel=linear .................................\n",
      "[CV]  C=1, gamma=0.001, kernel=linear, score=(train=0.791, test=0.791), total=   0.1s\n",
      "[CV] C=1, gamma=0.001, kernel=rbf ....................................\n",
      "[CV]  C=1, gamma=0.001, kernel=rbf, score=(train=0.791, test=0.791), total=   0.1s\n",
      "[CV] C=1, gamma=0.001, kernel=rbf ....................................\n",
      "[CV]  C=1, gamma=0.001, kernel=rbf, score=(train=0.791, test=0.791), total=   0.1s\n",
      "[CV] C=1, gamma=0.001, kernel=rbf ....................................\n",
      "[CV]  C=1, gamma=0.001, kernel=rbf, score=(train=0.791, test=0.794), total=   0.1s\n",
      "[CV] C=1, gamma=0.001, kernel=rbf ....................................\n",
      "[CV]  C=1, gamma=0.001, kernel=rbf, score=(train=0.791, test=0.791), total=   0.1s\n",
      "[CV] C=1, gamma=0.001, kernel=rbf ....................................\n",
      "[CV]  C=1, gamma=0.001, kernel=rbf, score=(train=0.791, test=0.791), total=   0.1s\n",
      "[CV] C=1, gamma=0.001, kernel=rbf ....................................\n",
      "[CV]  C=1, gamma=0.001, kernel=rbf, score=(train=0.791, test=0.791), total=   0.1s\n",
      "[CV] C=1, gamma=0.001, kernel=rbf ....................................\n",
      "[CV]  C=1, gamma=0.001, kernel=rbf, score=(train=0.791, test=0.791), total=   0.1s\n",
      "[CV] C=1, gamma=0.001, kernel=rbf ....................................\n",
      "[CV]  C=1, gamma=0.001, kernel=rbf, score=(train=0.791, test=0.791), total=   0.1s\n",
      "[CV] C=1, gamma=0.001, kernel=rbf ....................................\n",
      "[CV]  C=1, gamma=0.001, kernel=rbf, score=(train=0.791, test=0.791), total=   0.1s\n",
      "[CV] C=1, gamma=0.001, kernel=rbf ....................................\n",
      "[CV]  C=1, gamma=0.001, kernel=rbf, score=(train=0.791, test=0.791), total=   0.1s\n",
      "[CV] C=1, gamma=0.001, kernel=sigmoid ................................\n",
      "[CV]  C=1, gamma=0.001, kernel=sigmoid, score=(train=0.791, test=0.791), total=   0.1s\n",
      "[CV] C=1, gamma=0.001, kernel=sigmoid ................................\n",
      "[CV]  C=1, gamma=0.001, kernel=sigmoid, score=(train=0.791, test=0.791), total=   0.1s\n",
      "[CV] C=1, gamma=0.001, kernel=sigmoid ................................\n",
      "[CV]  C=1, gamma=0.001, kernel=sigmoid, score=(train=0.791, test=0.794), total=   0.1s\n",
      "[CV] C=1, gamma=0.001, kernel=sigmoid ................................\n",
      "[CV]  C=1, gamma=0.001, kernel=sigmoid, score=(train=0.791, test=0.791), total=   0.1s\n",
      "[CV] C=1, gamma=0.001, kernel=sigmoid ................................\n",
      "[CV]  C=1, gamma=0.001, kernel=sigmoid, score=(train=0.791, test=0.791), total=   0.1s\n",
      "[CV] C=1, gamma=0.001, kernel=sigmoid ................................\n",
      "[CV]  C=1, gamma=0.001, kernel=sigmoid, score=(train=0.791, test=0.791), total=   0.1s\n",
      "[CV] C=1, gamma=0.001, kernel=sigmoid ................................\n",
      "[CV]  C=1, gamma=0.001, kernel=sigmoid, score=(train=0.791, test=0.791), total=   0.1s\n",
      "[CV] C=1, gamma=0.001, kernel=sigmoid ................................\n",
      "[CV]  C=1, gamma=0.001, kernel=sigmoid, score=(train=0.791, test=0.791), total=   0.1s\n",
      "[CV] C=1, gamma=0.001, kernel=sigmoid ................................\n",
      "[CV]  C=1, gamma=0.001, kernel=sigmoid, score=(train=0.791, test=0.791), total=   0.1s\n",
      "[CV] C=1, gamma=0.001, kernel=sigmoid ................................\n"
     ]
    },
    {
     "name": "stdout",
     "output_type": "stream",
     "text": [
      "[CV]  C=1, gamma=0.001, kernel=sigmoid, score=(train=0.791, test=0.791), total=   0.1s\n",
      "[CV] C=1, gamma=0.01, kernel=linear ..................................\n",
      "[CV]  C=1, gamma=0.01, kernel=linear, score=(train=0.791, test=0.791), total=   0.1s\n",
      "[CV] C=1, gamma=0.01, kernel=linear ..................................\n",
      "[CV]  C=1, gamma=0.01, kernel=linear, score=(train=0.791, test=0.791), total=   0.1s\n",
      "[CV] C=1, gamma=0.01, kernel=linear ..................................\n",
      "[CV]  C=1, gamma=0.01, kernel=linear, score=(train=0.791, test=0.794), total=   0.1s\n",
      "[CV] C=1, gamma=0.01, kernel=linear ..................................\n",
      "[CV]  C=1, gamma=0.01, kernel=linear, score=(train=0.791, test=0.791), total=   0.1s\n",
      "[CV] C=1, gamma=0.01, kernel=linear ..................................\n",
      "[CV]  C=1, gamma=0.01, kernel=linear, score=(train=0.791, test=0.791), total=   0.1s\n",
      "[CV] C=1, gamma=0.01, kernel=linear ..................................\n",
      "[CV]  C=1, gamma=0.01, kernel=linear, score=(train=0.791, test=0.791), total=   0.1s\n",
      "[CV] C=1, gamma=0.01, kernel=linear ..................................\n",
      "[CV]  C=1, gamma=0.01, kernel=linear, score=(train=0.791, test=0.791), total=   0.1s\n",
      "[CV] C=1, gamma=0.01, kernel=linear ..................................\n",
      "[CV]  C=1, gamma=0.01, kernel=linear, score=(train=0.791, test=0.791), total=   0.1s\n",
      "[CV] C=1, gamma=0.01, kernel=linear ..................................\n",
      "[CV]  C=1, gamma=0.01, kernel=linear, score=(train=0.791, test=0.791), total=   0.1s\n",
      "[CV] C=1, gamma=0.01, kernel=linear ..................................\n",
      "[CV]  C=1, gamma=0.01, kernel=linear, score=(train=0.791, test=0.791), total=   0.1s\n",
      "[CV] C=1, gamma=0.01, kernel=rbf .....................................\n",
      "[CV]  C=1, gamma=0.01, kernel=rbf, score=(train=0.792, test=0.791), total=   0.1s\n",
      "[CV] C=1, gamma=0.01, kernel=rbf .....................................\n",
      "[CV]  C=1, gamma=0.01, kernel=rbf, score=(train=0.792, test=0.788), total=   0.1s\n",
      "[CV] C=1, gamma=0.01, kernel=rbf .....................................\n",
      "[CV]  C=1, gamma=0.01, kernel=rbf, score=(train=0.792, test=0.794), total=   0.1s\n",
      "[CV] C=1, gamma=0.01, kernel=rbf .....................................\n",
      "[CV]  C=1, gamma=0.01, kernel=rbf, score=(train=0.792, test=0.791), total=   0.1s\n",
      "[CV] C=1, gamma=0.01, kernel=rbf .....................................\n",
      "[CV]  C=1, gamma=0.01, kernel=rbf, score=(train=0.791, test=0.791), total=   0.1s\n",
      "[CV] C=1, gamma=0.01, kernel=rbf .....................................\n",
      "[CV]  C=1, gamma=0.01, kernel=rbf, score=(train=0.791, test=0.791), total=   0.1s\n",
      "[CV] C=1, gamma=0.01, kernel=rbf .....................................\n",
      "[CV]  C=1, gamma=0.01, kernel=rbf, score=(train=0.792, test=0.791), total=   0.1s\n",
      "[CV] C=1, gamma=0.01, kernel=rbf .....................................\n",
      "[CV]  C=1, gamma=0.01, kernel=rbf, score=(train=0.791, test=0.791), total=   0.1s\n",
      "[CV] C=1, gamma=0.01, kernel=rbf .....................................\n",
      "[CV]  C=1, gamma=0.01, kernel=rbf, score=(train=0.793, test=0.787), total=   0.1s\n",
      "[CV] C=1, gamma=0.01, kernel=rbf .....................................\n",
      "[CV]  C=1, gamma=0.01, kernel=rbf, score=(train=0.792, test=0.791), total=   0.1s\n",
      "[CV] C=1, gamma=0.01, kernel=sigmoid .................................\n",
      "[CV]  C=1, gamma=0.01, kernel=sigmoid, score=(train=0.790, test=0.791), total=   0.1s\n",
      "[CV] C=1, gamma=0.01, kernel=sigmoid .................................\n",
      "[CV]  C=1, gamma=0.01, kernel=sigmoid, score=(train=0.790, test=0.791), total=   0.1s\n",
      "[CV] C=1, gamma=0.01, kernel=sigmoid .................................\n",
      "[CV]  C=1, gamma=0.01, kernel=sigmoid, score=(train=0.790, test=0.794), total=   0.1s\n",
      "[CV] C=1, gamma=0.01, kernel=sigmoid .................................\n",
      "[CV]  C=1, gamma=0.01, kernel=sigmoid, score=(train=0.790, test=0.791), total=   0.1s\n",
      "[CV] C=1, gamma=0.01, kernel=sigmoid .................................\n",
      "[CV]  C=1, gamma=0.01, kernel=sigmoid, score=(train=0.790, test=0.791), total=   0.1s\n",
      "[CV] C=1, gamma=0.01, kernel=sigmoid .................................\n",
      "[CV]  C=1, gamma=0.01, kernel=sigmoid, score=(train=0.790, test=0.791), total=   0.1s\n",
      "[CV] C=1, gamma=0.01, kernel=sigmoid .................................\n",
      "[CV]  C=1, gamma=0.01, kernel=sigmoid, score=(train=0.791, test=0.787), total=   0.1s\n",
      "[CV] C=1, gamma=0.01, kernel=sigmoid .................................\n",
      "[CV]  C=1, gamma=0.01, kernel=sigmoid, score=(train=0.790, test=0.791), total=   0.1s\n",
      "[CV] C=1, gamma=0.01, kernel=sigmoid .................................\n",
      "[CV]  C=1, gamma=0.01, kernel=sigmoid, score=(train=0.790, test=0.791), total=   0.1s\n",
      "[CV] C=1, gamma=0.01, kernel=sigmoid .................................\n",
      "[CV]  C=1, gamma=0.01, kernel=sigmoid, score=(train=0.790, test=0.791), total=   0.1s\n",
      "[CV] C=1, gamma=1, kernel=linear .....................................\n",
      "[CV]  C=1, gamma=1, kernel=linear, score=(train=0.791, test=0.791), total=   0.1s\n",
      "[CV] C=1, gamma=1, kernel=linear .....................................\n",
      "[CV]  C=1, gamma=1, kernel=linear, score=(train=0.791, test=0.791), total=   0.1s\n",
      "[CV] C=1, gamma=1, kernel=linear .....................................\n",
      "[CV]  C=1, gamma=1, kernel=linear, score=(train=0.791, test=0.794), total=   0.1s\n",
      "[CV] C=1, gamma=1, kernel=linear .....................................\n",
      "[CV]  C=1, gamma=1, kernel=linear, score=(train=0.791, test=0.791), total=   0.1s\n",
      "[CV] C=1, gamma=1, kernel=linear .....................................\n",
      "[CV]  C=1, gamma=1, kernel=linear, score=(train=0.791, test=0.791), total=   0.1s\n",
      "[CV] C=1, gamma=1, kernel=linear .....................................\n",
      "[CV]  C=1, gamma=1, kernel=linear, score=(train=0.791, test=0.791), total=   0.1s\n",
      "[CV] C=1, gamma=1, kernel=linear .....................................\n",
      "[CV]  C=1, gamma=1, kernel=linear, score=(train=0.791, test=0.791), total=   0.1s\n",
      "[CV] C=1, gamma=1, kernel=linear .....................................\n",
      "[CV]  C=1, gamma=1, kernel=linear, score=(train=0.791, test=0.791), total=   0.1s\n",
      "[CV] C=1, gamma=1, kernel=linear .....................................\n",
      "[CV]  C=1, gamma=1, kernel=linear, score=(train=0.791, test=0.791), total=   0.1s\n",
      "[CV] C=1, gamma=1, kernel=linear .....................................\n",
      "[CV]  C=1, gamma=1, kernel=linear, score=(train=0.791, test=0.791), total=   0.1s\n",
      "[CV] C=1, gamma=1, kernel=rbf ........................................\n",
      "[CV]  C=1, gamma=1, kernel=rbf, score=(train=0.965, test=0.853), total=   0.2s\n",
      "[CV] C=1, gamma=1, kernel=rbf ........................................\n",
      "[CV]  C=1, gamma=1, kernel=rbf, score=(train=0.967, test=0.813), total=   0.2s\n",
      "[CV] C=1, gamma=1, kernel=rbf ........................................\n",
      "[CV]  C=1, gamma=1, kernel=rbf, score=(train=0.970, test=0.812), total=   0.2s\n",
      "[CV] C=1, gamma=1, kernel=rbf ........................................\n",
      "[CV]  C=1, gamma=1, kernel=rbf, score=(train=0.970, test=0.812), total=   0.2s\n",
      "[CV] C=1, gamma=1, kernel=rbf ........................................\n",
      "[CV]  C=1, gamma=1, kernel=rbf, score=(train=0.965, test=0.812), total=   0.2s\n",
      "[CV] C=1, gamma=1, kernel=rbf ........................................\n",
      "[CV]  C=1, gamma=1, kernel=rbf, score=(train=0.965, test=0.823), total=   0.2s\n",
      "[CV] C=1, gamma=1, kernel=rbf ........................................\n",
      "[CV]  C=1, gamma=1, kernel=rbf, score=(train=0.966, test=0.823), total=   0.2s\n",
      "[CV] C=1, gamma=1, kernel=rbf ........................................\n",
      "[CV]  C=1, gamma=1, kernel=rbf, score=(train=0.968, test=0.791), total=   0.2s\n",
      "[CV] C=1, gamma=1, kernel=rbf ........................................\n",
      "[CV]  C=1, gamma=1, kernel=rbf, score=(train=0.966, test=0.830), total=   0.2s\n",
      "[CV] C=1, gamma=1, kernel=rbf ........................................\n",
      "[CV]  C=1, gamma=1, kernel=rbf, score=(train=0.968, test=0.816), total=   0.2s\n",
      "[CV] C=1, gamma=1, kernel=sigmoid ....................................\n",
      "[CV]  C=1, gamma=1, kernel=sigmoid, score=(train=0.715, test=0.741), total=   0.1s\n",
      "[CV] C=1, gamma=1, kernel=sigmoid ....................................\n",
      "[CV]  C=1, gamma=1, kernel=sigmoid, score=(train=0.720, test=0.701), total=   0.1s\n",
      "[CV] C=1, gamma=1, kernel=sigmoid ....................................\n",
      "[CV]  C=1, gamma=1, kernel=sigmoid, score=(train=0.725, test=0.729), total=   0.1s\n",
      "[CV] C=1, gamma=1, kernel=sigmoid ....................................\n"
     ]
    },
    {
     "name": "stdout",
     "output_type": "stream",
     "text": [
      "[CV]  C=1, gamma=1, kernel=sigmoid, score=(train=0.714, test=0.780), total=   0.1s\n",
      "[CV] C=1, gamma=1, kernel=sigmoid ....................................\n",
      "[CV]  C=1, gamma=1, kernel=sigmoid, score=(train=0.719, test=0.715), total=   0.1s\n",
      "[CV] C=1, gamma=1, kernel=sigmoid ....................................\n",
      "[CV]  C=1, gamma=1, kernel=sigmoid, score=(train=0.708, test=0.744), total=   0.1s\n",
      "[CV] C=1, gamma=1, kernel=sigmoid ....................................\n",
      "[CV]  C=1, gamma=1, kernel=sigmoid, score=(train=0.719, test=0.711), total=   0.1s\n",
      "[CV] C=1, gamma=1, kernel=sigmoid ....................................\n",
      "[CV]  C=1, gamma=1, kernel=sigmoid, score=(train=0.710, test=0.715), total=   0.1s\n",
      "[CV] C=1, gamma=1, kernel=sigmoid ....................................\n",
      "[CV]  C=1, gamma=1, kernel=sigmoid, score=(train=0.715, test=0.726), total=   0.1s\n",
      "[CV] C=1, gamma=1, kernel=sigmoid ....................................\n",
      "[CV]  C=1, gamma=1, kernel=sigmoid, score=(train=0.723, test=0.715), total=   0.1s\n",
      "[CV] C=1, gamma=10, kernel=linear ....................................\n",
      "[CV]  C=1, gamma=10, kernel=linear, score=(train=0.791, test=0.791), total=   0.1s\n",
      "[CV] C=1, gamma=10, kernel=linear ....................................\n",
      "[CV]  C=1, gamma=10, kernel=linear, score=(train=0.791, test=0.791), total=   0.1s\n",
      "[CV] C=1, gamma=10, kernel=linear ....................................\n",
      "[CV]  C=1, gamma=10, kernel=linear, score=(train=0.791, test=0.794), total=   0.1s\n",
      "[CV] C=1, gamma=10, kernel=linear ....................................\n",
      "[CV]  C=1, gamma=10, kernel=linear, score=(train=0.791, test=0.791), total=   0.1s\n",
      "[CV] C=1, gamma=10, kernel=linear ....................................\n",
      "[CV]  C=1, gamma=10, kernel=linear, score=(train=0.791, test=0.791), total=   0.1s\n",
      "[CV] C=1, gamma=10, kernel=linear ....................................\n",
      "[CV]  C=1, gamma=10, kernel=linear, score=(train=0.791, test=0.791), total=   0.1s\n",
      "[CV] C=1, gamma=10, kernel=linear ....................................\n",
      "[CV]  C=1, gamma=10, kernel=linear, score=(train=0.791, test=0.791), total=   0.1s\n",
      "[CV] C=1, gamma=10, kernel=linear ....................................\n",
      "[CV]  C=1, gamma=10, kernel=linear, score=(train=0.791, test=0.791), total=   0.1s\n",
      "[CV] C=1, gamma=10, kernel=linear ....................................\n",
      "[CV]  C=1, gamma=10, kernel=linear, score=(train=0.791, test=0.791), total=   0.1s\n",
      "[CV] C=1, gamma=10, kernel=linear ....................................\n",
      "[CV]  C=1, gamma=10, kernel=linear, score=(train=0.791, test=0.791), total=   0.1s\n",
      "[CV] C=1, gamma=10, kernel=rbf .......................................\n",
      "[CV]  C=1, gamma=10, kernel=rbf, score=(train=0.999, test=0.799), total=   0.3s\n",
      "[CV] C=1, gamma=10, kernel=rbf .......................................\n",
      "[CV]  C=1, gamma=10, kernel=rbf, score=(train=1.000, test=0.791), total=   0.3s\n",
      "[CV] C=1, gamma=10, kernel=rbf .......................................\n",
      "[CV]  C=1, gamma=10, kernel=rbf, score=(train=0.999, test=0.801), total=   0.2s\n",
      "[CV] C=1, gamma=10, kernel=rbf .......................................\n",
      "[CV]  C=1, gamma=10, kernel=rbf, score=(train=0.999, test=0.794), total=   0.3s\n",
      "[CV] C=1, gamma=10, kernel=rbf .......................................\n",
      "[CV]  C=1, gamma=10, kernel=rbf, score=(train=0.999, test=0.791), total=   0.2s\n",
      "[CV] C=1, gamma=10, kernel=rbf .......................................\n",
      "[CV]  C=1, gamma=10, kernel=rbf, score=(train=0.999, test=0.794), total=   0.2s\n",
      "[CV] C=1, gamma=10, kernel=rbf .......................................\n",
      "[CV]  C=1, gamma=10, kernel=rbf, score=(train=0.999, test=0.791), total=   0.2s\n",
      "[CV] C=1, gamma=10, kernel=rbf .......................................\n",
      "[CV]  C=1, gamma=10, kernel=rbf, score=(train=0.999, test=0.787), total=   0.2s\n",
      "[CV] C=1, gamma=10, kernel=rbf .......................................\n",
      "[CV]  C=1, gamma=10, kernel=rbf, score=(train=0.999, test=0.791), total=   0.2s\n",
      "[CV] C=1, gamma=10, kernel=rbf .......................................\n",
      "[CV]  C=1, gamma=10, kernel=rbf, score=(train=0.999, test=0.794), total=   0.2s\n",
      "[CV] C=1, gamma=10, kernel=sigmoid ...................................\n",
      "[CV]  C=1, gamma=10, kernel=sigmoid, score=(train=0.706, test=0.727), total=   0.1s\n",
      "[CV] C=1, gamma=10, kernel=sigmoid ...................................\n",
      "[CV]  C=1, gamma=10, kernel=sigmoid, score=(train=0.707, test=0.719), total=   0.1s\n",
      "[CV] C=1, gamma=10, kernel=sigmoid ...................................\n",
      "[CV]  C=1, gamma=10, kernel=sigmoid, score=(train=0.711, test=0.675), total=   0.1s\n",
      "[CV] C=1, gamma=10, kernel=sigmoid ...................................\n",
      "[CV]  C=1, gamma=10, kernel=sigmoid, score=(train=0.701, test=0.693), total=   0.1s\n",
      "[CV] C=1, gamma=10, kernel=sigmoid ...................................\n",
      "[CV]  C=1, gamma=10, kernel=sigmoid, score=(train=0.703, test=0.708), total=   0.1s\n",
      "[CV] C=1, gamma=10, kernel=sigmoid ...................................\n",
      "[CV]  C=1, gamma=10, kernel=sigmoid, score=(train=0.695, test=0.747), total=   0.1s\n",
      "[CV] C=1, gamma=10, kernel=sigmoid ...................................\n",
      "[CV]  C=1, gamma=10, kernel=sigmoid, score=(train=0.707, test=0.718), total=   0.1s\n",
      "[CV] C=1, gamma=10, kernel=sigmoid ...................................\n",
      "[CV]  C=1, gamma=10, kernel=sigmoid, score=(train=0.703, test=0.722), total=   0.1s\n",
      "[CV] C=1, gamma=10, kernel=sigmoid ...................................\n",
      "[CV]  C=1, gamma=10, kernel=sigmoid, score=(train=0.703, test=0.733), total=   0.1s\n",
      "[CV] C=1, gamma=10, kernel=sigmoid ...................................\n",
      "[CV]  C=1, gamma=10, kernel=sigmoid, score=(train=0.703, test=0.700), total=   0.1s\n",
      "[CV] C=10, gamma=0.001, kernel=linear ................................\n",
      "[CV]  C=10, gamma=0.001, kernel=linear, score=(train=0.791, test=0.791), total=   0.3s\n",
      "[CV] C=10, gamma=0.001, kernel=linear ................................\n",
      "[CV]  C=10, gamma=0.001, kernel=linear, score=(train=0.791, test=0.791), total=   0.3s\n",
      "[CV] C=10, gamma=0.001, kernel=linear ................................\n",
      "[CV]  C=10, gamma=0.001, kernel=linear, score=(train=0.791, test=0.794), total=   0.4s\n",
      "[CV] C=10, gamma=0.001, kernel=linear ................................\n",
      "[CV]  C=10, gamma=0.001, kernel=linear, score=(train=0.791, test=0.791), total=   0.3s\n",
      "[CV] C=10, gamma=0.001, kernel=linear ................................\n",
      "[CV]  C=10, gamma=0.001, kernel=linear, score=(train=0.791, test=0.791), total=   0.3s\n",
      "[CV] C=10, gamma=0.001, kernel=linear ................................\n",
      "[CV]  C=10, gamma=0.001, kernel=linear, score=(train=0.791, test=0.791), total=   0.3s\n",
      "[CV] C=10, gamma=0.001, kernel=linear ................................\n",
      "[CV]  C=10, gamma=0.001, kernel=linear, score=(train=0.791, test=0.791), total=   0.3s\n",
      "[CV] C=10, gamma=0.001, kernel=linear ................................\n",
      "[CV]  C=10, gamma=0.001, kernel=linear, score=(train=0.791, test=0.791), total=   0.3s\n",
      "[CV] C=10, gamma=0.001, kernel=linear ................................\n",
      "[CV]  C=10, gamma=0.001, kernel=linear, score=(train=0.791, test=0.791), total=   0.3s\n",
      "[CV] C=10, gamma=0.001, kernel=linear ................................\n",
      "[CV]  C=10, gamma=0.001, kernel=linear, score=(train=0.791, test=0.791), total=   0.3s\n",
      "[CV] C=10, gamma=0.001, kernel=rbf ...................................\n",
      "[CV]  C=10, gamma=0.001, kernel=rbf, score=(train=0.791, test=0.791), total=   0.1s\n",
      "[CV] C=10, gamma=0.001, kernel=rbf ...................................\n",
      "[CV]  C=10, gamma=0.001, kernel=rbf, score=(train=0.791, test=0.791), total=   0.1s\n",
      "[CV] C=10, gamma=0.001, kernel=rbf ...................................\n",
      "[CV]  C=10, gamma=0.001, kernel=rbf, score=(train=0.791, test=0.794), total=   0.1s\n",
      "[CV] C=10, gamma=0.001, kernel=rbf ...................................\n",
      "[CV]  C=10, gamma=0.001, kernel=rbf, score=(train=0.791, test=0.791), total=   0.1s\n",
      "[CV] C=10, gamma=0.001, kernel=rbf ...................................\n",
      "[CV]  C=10, gamma=0.001, kernel=rbf, score=(train=0.791, test=0.791), total=   0.1s\n",
      "[CV] C=10, gamma=0.001, kernel=rbf ...................................\n",
      "[CV]  C=10, gamma=0.001, kernel=rbf, score=(train=0.791, test=0.791), total=   0.1s\n",
      "[CV] C=10, gamma=0.001, kernel=rbf ...................................\n",
      "[CV]  C=10, gamma=0.001, kernel=rbf, score=(train=0.791, test=0.791), total=   0.1s\n",
      "[CV] C=10, gamma=0.001, kernel=rbf ...................................\n"
     ]
    },
    {
     "name": "stdout",
     "output_type": "stream",
     "text": [
      "[CV]  C=10, gamma=0.001, kernel=rbf, score=(train=0.791, test=0.791), total=   0.1s\n",
      "[CV] C=10, gamma=0.001, kernel=rbf ...................................\n",
      "[CV]  C=10, gamma=0.001, kernel=rbf, score=(train=0.791, test=0.791), total=   0.1s\n",
      "[CV] C=10, gamma=0.001, kernel=rbf ...................................\n",
      "[CV]  C=10, gamma=0.001, kernel=rbf, score=(train=0.791, test=0.791), total=   0.1s\n",
      "[CV] C=10, gamma=0.001, kernel=sigmoid ...............................\n",
      "[CV]  C=10, gamma=0.001, kernel=sigmoid, score=(train=0.791, test=0.791), total=   0.1s\n",
      "[CV] C=10, gamma=0.001, kernel=sigmoid ...............................\n",
      "[CV]  C=10, gamma=0.001, kernel=sigmoid, score=(train=0.791, test=0.791), total=   0.1s\n",
      "[CV] C=10, gamma=0.001, kernel=sigmoid ...............................\n",
      "[CV]  C=10, gamma=0.001, kernel=sigmoid, score=(train=0.791, test=0.794), total=   0.1s\n",
      "[CV] C=10, gamma=0.001, kernel=sigmoid ...............................\n",
      "[CV]  C=10, gamma=0.001, kernel=sigmoid, score=(train=0.791, test=0.791), total=   0.1s\n",
      "[CV] C=10, gamma=0.001, kernel=sigmoid ...............................\n",
      "[CV]  C=10, gamma=0.001, kernel=sigmoid, score=(train=0.791, test=0.791), total=   0.1s\n",
      "[CV] C=10, gamma=0.001, kernel=sigmoid ...............................\n",
      "[CV]  C=10, gamma=0.001, kernel=sigmoid, score=(train=0.791, test=0.791), total=   0.1s\n",
      "[CV] C=10, gamma=0.001, kernel=sigmoid ...............................\n",
      "[CV]  C=10, gamma=0.001, kernel=sigmoid, score=(train=0.791, test=0.791), total=   0.1s\n",
      "[CV] C=10, gamma=0.001, kernel=sigmoid ...............................\n",
      "[CV]  C=10, gamma=0.001, kernel=sigmoid, score=(train=0.791, test=0.791), total=   0.1s\n",
      "[CV] C=10, gamma=0.001, kernel=sigmoid ...............................\n",
      "[CV]  C=10, gamma=0.001, kernel=sigmoid, score=(train=0.791, test=0.791), total=   0.1s\n",
      "[CV] C=10, gamma=0.001, kernel=sigmoid ...............................\n",
      "[CV]  C=10, gamma=0.001, kernel=sigmoid, score=(train=0.791, test=0.791), total=   0.1s\n",
      "[CV] C=10, gamma=0.01, kernel=linear .................................\n",
      "[CV]  C=10, gamma=0.01, kernel=linear, score=(train=0.791, test=0.791), total=   0.3s\n",
      "[CV] C=10, gamma=0.01, kernel=linear .................................\n",
      "[CV]  C=10, gamma=0.01, kernel=linear, score=(train=0.791, test=0.791), total=   0.3s\n",
      "[CV] C=10, gamma=0.01, kernel=linear .................................\n",
      "[CV]  C=10, gamma=0.01, kernel=linear, score=(train=0.791, test=0.794), total=   0.3s\n",
      "[CV] C=10, gamma=0.01, kernel=linear .................................\n",
      "[CV]  C=10, gamma=0.01, kernel=linear, score=(train=0.791, test=0.791), total=   0.3s\n",
      "[CV] C=10, gamma=0.01, kernel=linear .................................\n",
      "[CV]  C=10, gamma=0.01, kernel=linear, score=(train=0.791, test=0.791), total=   0.2s\n",
      "[CV] C=10, gamma=0.01, kernel=linear .................................\n",
      "[CV]  C=10, gamma=0.01, kernel=linear, score=(train=0.791, test=0.791), total=   0.3s\n",
      "[CV] C=10, gamma=0.01, kernel=linear .................................\n",
      "[CV]  C=10, gamma=0.01, kernel=linear, score=(train=0.791, test=0.791), total=   0.3s\n",
      "[CV] C=10, gamma=0.01, kernel=linear .................................\n",
      "[CV]  C=10, gamma=0.01, kernel=linear, score=(train=0.791, test=0.791), total=   0.3s\n",
      "[CV] C=10, gamma=0.01, kernel=linear .................................\n",
      "[CV]  C=10, gamma=0.01, kernel=linear, score=(train=0.791, test=0.791), total=   0.3s\n",
      "[CV] C=10, gamma=0.01, kernel=linear .................................\n",
      "[CV]  C=10, gamma=0.01, kernel=linear, score=(train=0.791, test=0.791), total=   0.3s\n",
      "[CV] C=10, gamma=0.01, kernel=rbf ....................................\n",
      "[CV]  C=10, gamma=0.01, kernel=rbf, score=(train=0.823, test=0.831), total=   0.1s\n",
      "[CV] C=10, gamma=0.01, kernel=rbf ....................................\n",
      "[CV]  C=10, gamma=0.01, kernel=rbf, score=(train=0.826, test=0.820), total=   0.1s\n",
      "[CV] C=10, gamma=0.01, kernel=rbf ....................................\n",
      "[CV]  C=10, gamma=0.01, kernel=rbf, score=(train=0.826, test=0.823), total=   0.1s\n",
      "[CV] C=10, gamma=0.01, kernel=rbf ....................................\n",
      "[CV]  C=10, gamma=0.01, kernel=rbf, score=(train=0.827, test=0.812), total=   0.1s\n",
      "[CV] C=10, gamma=0.01, kernel=rbf ....................................\n",
      "[CV]  C=10, gamma=0.01, kernel=rbf, score=(train=0.826, test=0.816), total=   0.1s\n",
      "[CV] C=10, gamma=0.01, kernel=rbf ....................................\n",
      "[CV]  C=10, gamma=0.01, kernel=rbf, score=(train=0.825, test=0.819), total=   0.1s\n",
      "[CV] C=10, gamma=0.01, kernel=rbf ....................................\n",
      "[CV]  C=10, gamma=0.01, kernel=rbf, score=(train=0.826, test=0.819), total=   0.1s\n",
      "[CV] C=10, gamma=0.01, kernel=rbf ....................................\n",
      "[CV]  C=10, gamma=0.01, kernel=rbf, score=(train=0.825, test=0.812), total=   0.1s\n",
      "[CV] C=10, gamma=0.01, kernel=rbf ....................................\n",
      "[CV]  C=10, gamma=0.01, kernel=rbf, score=(train=0.828, test=0.801), total=   0.1s\n",
      "[CV] C=10, gamma=0.01, kernel=rbf ....................................\n",
      "[CV]  C=10, gamma=0.01, kernel=rbf, score=(train=0.827, test=0.834), total=   0.1s\n",
      "[CV] C=10, gamma=0.01, kernel=sigmoid ................................\n",
      "[CV]  C=10, gamma=0.01, kernel=sigmoid, score=(train=0.806, test=0.806), total=   0.1s\n",
      "[CV] C=10, gamma=0.01, kernel=sigmoid ................................\n",
      "[CV]  C=10, gamma=0.01, kernel=sigmoid, score=(train=0.805, test=0.799), total=   0.1s\n",
      "[CV] C=10, gamma=0.01, kernel=sigmoid ................................\n",
      "[CV]  C=10, gamma=0.01, kernel=sigmoid, score=(train=0.808, test=0.783), total=   0.1s\n",
      "[CV] C=10, gamma=0.01, kernel=sigmoid ................................\n",
      "[CV]  C=10, gamma=0.01, kernel=sigmoid, score=(train=0.802, test=0.819), total=   0.1s\n",
      "[CV] C=10, gamma=0.01, kernel=sigmoid ................................\n",
      "[CV]  C=10, gamma=0.01, kernel=sigmoid, score=(train=0.802, test=0.816), total=   0.1s\n",
      "[CV] C=10, gamma=0.01, kernel=sigmoid ................................\n",
      "[CV]  C=10, gamma=0.01, kernel=sigmoid, score=(train=0.805, test=0.819), total=   0.1s\n",
      "[CV] C=10, gamma=0.01, kernel=sigmoid ................................\n",
      "[CV]  C=10, gamma=0.01, kernel=sigmoid, score=(train=0.790, test=0.773), total=   0.1s\n",
      "[CV] C=10, gamma=0.01, kernel=sigmoid ................................\n",
      "[CV]  C=10, gamma=0.01, kernel=sigmoid, score=(train=0.804, test=0.812), total=   0.1s\n",
      "[CV] C=10, gamma=0.01, kernel=sigmoid ................................\n",
      "[CV]  C=10, gamma=0.01, kernel=sigmoid, score=(train=0.808, test=0.794), total=   0.1s\n",
      "[CV] C=10, gamma=0.01, kernel=sigmoid ................................\n",
      "[CV]  C=10, gamma=0.01, kernel=sigmoid, score=(train=0.804, test=0.819), total=   0.1s\n",
      "[CV] C=10, gamma=1, kernel=linear ....................................\n",
      "[CV]  C=10, gamma=1, kernel=linear, score=(train=0.791, test=0.791), total=   0.3s\n",
      "[CV] C=10, gamma=1, kernel=linear ....................................\n",
      "[CV]  C=10, gamma=1, kernel=linear, score=(train=0.791, test=0.791), total=   0.3s\n",
      "[CV] C=10, gamma=1, kernel=linear ....................................\n",
      "[CV]  C=10, gamma=1, kernel=linear, score=(train=0.791, test=0.794), total=   0.3s\n",
      "[CV] C=10, gamma=1, kernel=linear ....................................\n",
      "[CV]  C=10, gamma=1, kernel=linear, score=(train=0.791, test=0.791), total=   0.3s\n",
      "[CV] C=10, gamma=1, kernel=linear ....................................\n",
      "[CV]  C=10, gamma=1, kernel=linear, score=(train=0.791, test=0.791), total=   0.3s\n",
      "[CV] C=10, gamma=1, kernel=linear ....................................\n",
      "[CV]  C=10, gamma=1, kernel=linear, score=(train=0.791, test=0.791), total=   0.2s\n",
      "[CV] C=10, gamma=1, kernel=linear ....................................\n",
      "[CV]  C=10, gamma=1, kernel=linear, score=(train=0.791, test=0.791), total=   0.3s\n",
      "[CV] C=10, gamma=1, kernel=linear ....................................\n",
      "[CV]  C=10, gamma=1, kernel=linear, score=(train=0.791, test=0.791), total=   0.3s\n",
      "[CV] C=10, gamma=1, kernel=linear ....................................\n",
      "[CV]  C=10, gamma=1, kernel=linear, score=(train=0.791, test=0.791), total=   0.3s\n",
      "[CV] C=10, gamma=1, kernel=linear ....................................\n",
      "[CV]  C=10, gamma=1, kernel=linear, score=(train=0.791, test=0.791), total=   0.3s\n",
      "[CV] C=10, gamma=1, kernel=rbf .......................................\n"
     ]
    },
    {
     "name": "stdout",
     "output_type": "stream",
     "text": [
      "[CV]  C=10, gamma=1, kernel=rbf, score=(train=0.999, test=0.845), total=   0.2s\n",
      "[CV] C=10, gamma=1, kernel=rbf .......................................\n",
      "[CV]  C=10, gamma=1, kernel=rbf, score=(train=1.000, test=0.820), total=   0.2s\n",
      "[CV] C=10, gamma=1, kernel=rbf .......................................\n",
      "[CV]  C=10, gamma=1, kernel=rbf, score=(train=1.000, test=0.801), total=   0.2s\n",
      "[CV] C=10, gamma=1, kernel=rbf .......................................\n",
      "[CV]  C=10, gamma=1, kernel=rbf, score=(train=0.999, test=0.819), total=   0.2s\n",
      "[CV] C=10, gamma=1, kernel=rbf .......................................\n",
      "[CV]  C=10, gamma=1, kernel=rbf, score=(train=0.999, test=0.812), total=   0.2s\n",
      "[CV] C=10, gamma=1, kernel=rbf .......................................\n",
      "[CV]  C=10, gamma=1, kernel=rbf, score=(train=0.999, test=0.816), total=   0.2s\n",
      "[CV] C=10, gamma=1, kernel=rbf .......................................\n",
      "[CV]  C=10, gamma=1, kernel=rbf, score=(train=1.000, test=0.816), total=   0.2s\n",
      "[CV] C=10, gamma=1, kernel=rbf .......................................\n",
      "[CV]  C=10, gamma=1, kernel=rbf, score=(train=0.999, test=0.791), total=   0.2s\n",
      "[CV] C=10, gamma=1, kernel=rbf .......................................\n",
      "[CV]  C=10, gamma=1, kernel=rbf, score=(train=1.000, test=0.827), total=   0.2s\n",
      "[CV] C=10, gamma=1, kernel=rbf .......................................\n",
      "[CV]  C=10, gamma=1, kernel=rbf, score=(train=0.999, test=0.798), total=   0.2s\n",
      "[CV] C=10, gamma=1, kernel=sigmoid ...................................\n",
      "[CV]  C=10, gamma=1, kernel=sigmoid, score=(train=0.715, test=0.748), total=   0.1s\n",
      "[CV] C=10, gamma=1, kernel=sigmoid ...................................\n",
      "[CV]  C=10, gamma=1, kernel=sigmoid, score=(train=0.721, test=0.701), total=   0.1s\n",
      "[CV] C=10, gamma=1, kernel=sigmoid ...................................\n",
      "[CV]  C=10, gamma=1, kernel=sigmoid, score=(train=0.720, test=0.722), total=   0.1s\n",
      "[CV] C=10, gamma=1, kernel=sigmoid ...................................\n",
      "[CV]  C=10, gamma=1, kernel=sigmoid, score=(train=0.712, test=0.776), total=   0.1s\n",
      "[CV] C=10, gamma=1, kernel=sigmoid ...................................\n",
      "[CV]  C=10, gamma=1, kernel=sigmoid, score=(train=0.718, test=0.711), total=   0.1s\n",
      "[CV] C=10, gamma=1, kernel=sigmoid ...................................\n",
      "[CV]  C=10, gamma=1, kernel=sigmoid, score=(train=0.708, test=0.744), total=   0.1s\n",
      "[CV] C=10, gamma=1, kernel=sigmoid ...................................\n",
      "[CV]  C=10, gamma=1, kernel=sigmoid, score=(train=0.720, test=0.718), total=   0.1s\n",
      "[CV] C=10, gamma=1, kernel=sigmoid ...................................\n",
      "[CV]  C=10, gamma=1, kernel=sigmoid, score=(train=0.711, test=0.718), total=   0.1s\n",
      "[CV] C=10, gamma=1, kernel=sigmoid ...................................\n",
      "[CV]  C=10, gamma=1, kernel=sigmoid, score=(train=0.714, test=0.718), total=   0.1s\n",
      "[CV] C=10, gamma=1, kernel=sigmoid ...................................\n",
      "[CV]  C=10, gamma=1, kernel=sigmoid, score=(train=0.724, test=0.704), total=   0.1s\n",
      "[CV] C=10, gamma=10, kernel=linear ...................................\n",
      "[CV]  C=10, gamma=10, kernel=linear, score=(train=0.791, test=0.791), total=   0.3s\n",
      "[CV] C=10, gamma=10, kernel=linear ...................................\n",
      "[CV]  C=10, gamma=10, kernel=linear, score=(train=0.791, test=0.791), total=   0.3s\n",
      "[CV] C=10, gamma=10, kernel=linear ...................................\n",
      "[CV]  C=10, gamma=10, kernel=linear, score=(train=0.791, test=0.794), total=   0.3s\n",
      "[CV] C=10, gamma=10, kernel=linear ...................................\n",
      "[CV]  C=10, gamma=10, kernel=linear, score=(train=0.791, test=0.791), total=   0.3s\n",
      "[CV] C=10, gamma=10, kernel=linear ...................................\n",
      "[CV]  C=10, gamma=10, kernel=linear, score=(train=0.791, test=0.791), total=   0.3s\n",
      "[CV] C=10, gamma=10, kernel=linear ...................................\n",
      "[CV]  C=10, gamma=10, kernel=linear, score=(train=0.791, test=0.791), total=   0.3s\n",
      "[CV] C=10, gamma=10, kernel=linear ...................................\n",
      "[CV]  C=10, gamma=10, kernel=linear, score=(train=0.791, test=0.791), total=   0.3s\n",
      "[CV] C=10, gamma=10, kernel=linear ...................................\n",
      "[CV]  C=10, gamma=10, kernel=linear, score=(train=0.791, test=0.791), total=   0.3s\n",
      "[CV] C=10, gamma=10, kernel=linear ...................................\n",
      "[CV]  C=10, gamma=10, kernel=linear, score=(train=0.791, test=0.791), total=   0.3s\n",
      "[CV] C=10, gamma=10, kernel=linear ...................................\n",
      "[CV]  C=10, gamma=10, kernel=linear, score=(train=0.791, test=0.791), total=   0.3s\n",
      "[CV] C=10, gamma=10, kernel=rbf ......................................\n",
      "[CV]  C=10, gamma=10, kernel=rbf, score=(train=1.000, test=0.802), total=   0.3s\n",
      "[CV] C=10, gamma=10, kernel=rbf ......................................\n",
      "[CV]  C=10, gamma=10, kernel=rbf, score=(train=1.000, test=0.791), total=   0.2s\n",
      "[CV] C=10, gamma=10, kernel=rbf ......................................\n",
      "[CV]  C=10, gamma=10, kernel=rbf, score=(train=1.000, test=0.809), total=   0.3s\n",
      "[CV] C=10, gamma=10, kernel=rbf ......................................\n",
      "[CV]  C=10, gamma=10, kernel=rbf, score=(train=1.000, test=0.801), total=   0.3s\n",
      "[CV] C=10, gamma=10, kernel=rbf ......................................\n",
      "[CV]  C=10, gamma=10, kernel=rbf, score=(train=1.000, test=0.791), total=   0.2s\n",
      "[CV] C=10, gamma=10, kernel=rbf ......................................\n",
      "[CV]  C=10, gamma=10, kernel=rbf, score=(train=1.000, test=0.798), total=   0.3s\n",
      "[CV] C=10, gamma=10, kernel=rbf ......................................\n",
      "[CV]  C=10, gamma=10, kernel=rbf, score=(train=1.000, test=0.794), total=   0.3s\n",
      "[CV] C=10, gamma=10, kernel=rbf ......................................\n",
      "[CV]  C=10, gamma=10, kernel=rbf, score=(train=1.000, test=0.794), total=   0.3s\n",
      "[CV] C=10, gamma=10, kernel=rbf ......................................\n",
      "[CV]  C=10, gamma=10, kernel=rbf, score=(train=1.000, test=0.791), total=   0.2s\n",
      "[CV] C=10, gamma=10, kernel=rbf ......................................\n",
      "[CV]  C=10, gamma=10, kernel=rbf, score=(train=1.000, test=0.798), total=   0.3s\n",
      "[CV] C=10, gamma=10, kernel=sigmoid ..................................\n",
      "[CV]  C=10, gamma=10, kernel=sigmoid, score=(train=0.707, test=0.734), total=   0.1s\n",
      "[CV] C=10, gamma=10, kernel=sigmoid ..................................\n",
      "[CV]  C=10, gamma=10, kernel=sigmoid, score=(train=0.707, test=0.719), total=   0.1s\n",
      "[CV] C=10, gamma=10, kernel=sigmoid ..................................\n",
      "[CV]  C=10, gamma=10, kernel=sigmoid, score=(train=0.709, test=0.671), total=   0.1s\n",
      "[CV] C=10, gamma=10, kernel=sigmoid ..................................\n",
      "[CV]  C=10, gamma=10, kernel=sigmoid, score=(train=0.707, test=0.690), total=   0.1s\n",
      "[CV] C=10, gamma=10, kernel=sigmoid ..................................\n",
      "[CV]  C=10, gamma=10, kernel=sigmoid, score=(train=0.702, test=0.708), total=   0.1s\n",
      "[CV] C=10, gamma=10, kernel=sigmoid ..................................\n",
      "[CV]  C=10, gamma=10, kernel=sigmoid, score=(train=0.695, test=0.740), total=   0.1s\n",
      "[CV] C=10, gamma=10, kernel=sigmoid ..................................\n",
      "[CV]  C=10, gamma=10, kernel=sigmoid, score=(train=0.707, test=0.718), total=   0.1s\n",
      "[CV] C=10, gamma=10, kernel=sigmoid ..................................\n",
      "[CV]  C=10, gamma=10, kernel=sigmoid, score=(train=0.705, test=0.708), total=   0.1s\n",
      "[CV] C=10, gamma=10, kernel=sigmoid ..................................\n",
      "[CV]  C=10, gamma=10, kernel=sigmoid, score=(train=0.703, test=0.736), total=   0.1s\n",
      "[CV] C=10, gamma=10, kernel=sigmoid ..................................\n",
      "[CV]  C=10, gamma=10, kernel=sigmoid, score=(train=0.703, test=0.708), total=   0.1s\n"
     ]
    },
    {
     "name": "stderr",
     "output_type": "stream",
     "text": [
      "[Parallel(n_jobs=1)]: Done 480 out of 480 | elapsed:  1.3min finished\n"
     ]
    },
    {
     "data": {
      "text/plain": [
       "GridSearchCV(cv=10, estimator=SVC(),\n",
       "             param_grid={'C': [0.001, 0.01, 1, 10],\n",
       "                         'gamma': [0.001, 0.01, 1, 10],\n",
       "                         'kernel': ['linear', 'rbf', 'sigmoid']},\n",
       "             return_train_score=True, scoring='accuracy', verbose=3)"
      ]
     },
     "execution_count": 31,
     "metadata": {},
     "output_type": "execute_result"
    }
   ],
   "source": [
    "# Train the model with GridSearch\n",
    "grid.fit(X_train_scaled, y_train)"
   ]
  },
  {
   "cell_type": "code",
   "execution_count": 32,
   "metadata": {},
   "outputs": [
    {
     "name": "stdout",
     "output_type": "stream",
     "text": [
      "{'C': 10, 'gamma': 0.01, 'kernel': 'rbf'}\n",
      "0.8188985273874764\n"
     ]
    }
   ],
   "source": [
    "print(grid.best_params_)\n",
    "print(grid.best_score_)"
   ]
  },
  {
   "cell_type": "code",
   "execution_count": 33,
   "metadata": {},
   "outputs": [],
   "source": [
    "# Make predictions with the hypertuned model\n",
    "grid_predictions = grid.predict(X_test_scaled)"
   ]
  },
  {
   "cell_type": "markdown",
   "metadata": {},
   "source": [
    "## Classification report \n",
    "### All features"
   ]
  },
  {
   "cell_type": "code",
   "execution_count": 34,
   "metadata": {},
   "outputs": [
    {
     "name": "stdout",
     "output_type": "stream",
     "text": [
      "              precision    recall  f1-score   support\n",
      "\n",
      "        Fair       0.84      0.96      0.90       281\n",
      "   Very Good       0.72      0.34      0.46        76\n",
      "\n",
      "    accuracy                           0.83       357\n",
      "   macro avg       0.78      0.65      0.68       357\n",
      "weighted avg       0.82      0.83      0.81       357\n",
      "\n"
     ]
    }
   ],
   "source": [
    "# Calculate classification report - all features\n",
    "\n",
    "from sklearn.metrics import classification_report\n",
    "print(classification_report(y_test, grid_predictions,\n",
    "                           ))\n",
    "                          "
   ]
  },
  {
   "cell_type": "code",
   "execution_count": 35,
   "metadata": {},
   "outputs": [
    {
     "data": {
      "image/png": "[encoded data removed]",
      "text/plain": [
       "<Figure size 432x288 with 2 Axes>"
      ]
     },
     "metadata": {
      "needs_background": "light"
     },
     "output_type": "display_data"
    }
   ],
   "source": [
    "# Plot Confusion Matrix\n",
    "\n",
    "label_aux = plt.subplot()\n",
    "cm_svm_white = confusion_matrix(y_test, grid_predictions)\n",
    "cm_svm = pd.DataFrame(cm_svm_white,\n",
    "                     index = ['Fair','Very Good'], \n",
    "                     columns = ['Fair','Very Good'])\n",
    "sns.heatmap(cm_svm,annot=True,cmap=plt.cm.YlGnBu,fmt='3')\n",
    "label_aux.set_xlabel('Predicted Quality');label_aux.set_ylabel('True Quality');\n",
    "label_aux.set_title('Normalized (All features)')\n",
    "plt.savefig('Resources/images/svm_white_cm_nor_all.jpg');"
   ]
  },
  {
   "cell_type": "code",
   "execution_count": 36,
   "metadata": {},
   "outputs": [
    {
     "data": {
      "image/png": "[encoded data removed]",
      "text/plain": [
       "<Figure size 432x288 with 1 Axes>"
      ]
     },
     "metadata": {
      "needs_background": "light"
     },
     "output_type": "display_data"
    }
   ],
   "source": [
    "from sklearn.metrics import plot_roc_curve\n",
    "\n",
    "svm_disp = plot_roc_curve(model_svm, X_test_scaled, y_test)\n",
    "plt.title('AUC (All Features - White Wine)')\n",
    "plt.savefig('Resources/images/svm_white_auc_all.jpg')\n",
    "plt.show()"
   ]
  },
  {
   "cell_type": "code",
   "execution_count": 37,
   "metadata": {},
   "outputs": [
    {
     "data": {
      "text/plain": [
       "['Resources/results/svm_white_all.sav']"
      ]
     },
     "execution_count": 37,
     "metadata": {},
     "output_type": "execute_result"
    }
   ],
   "source": [
    "# Save the Model (test all features, selected features)\n",
    "import joblib\n",
    "filename = 'Resources/results/svm_white_all.sav'\n",
    "\n",
    "\n",
    "joblib.dump(model_svm, filename)"
   ]
  },
  {
   "cell_type": "code",
   "execution_count": null,
   "metadata": {},
   "outputs": [],
   "source": []
  },
  {
   "cell_type": "markdown",
   "metadata": {},
   "source": [
    "## Top 5 Features"
   ]
  },
  {
   "cell_type": "code",
   "execution_count": null,
   "metadata": {},
   "outputs": [],
   "source": [
    "from sklearn.model_selection import train_test_split\n",
    "X_train, X_left, y_train, y_left = train_test_split(selected_features,y, train_size=.7)\n",
    "X_val, X_test, y_val, y_test = train_test_split(X_left, y_left, train_size=.7)"
   ]
  },
  {
   "cell_type": "code",
   "execution_count": null,
   "metadata": {},
   "outputs": [],
   "source": [
    "X_train.shape, X_val.shape, X_test.shape"
   ]
  },
  {
   "cell_type": "markdown",
   "metadata": {},
   "source": [
    "# Pre-pocessing"
   ]
  },
  {
   "cell_type": "code",
   "execution_count": null,
   "metadata": {},
   "outputs": [],
   "source": [
    "# Scale your data\n",
    "\n",
    "X_scale = StandardScaler().fit(X_train)"
   ]
  },
  {
   "cell_type": "code",
   "execution_count": null,
   "metadata": {},
   "outputs": [],
   "source": [
    "X_train_scaled = X_scale.transform(X_train)\n",
    "X_test_scaled = X_scale.transform(X_test)"
   ]
  },
  {
   "cell_type": "code",
   "execution_count": null,
   "metadata": {},
   "outputs": [],
   "source": [
    "print(X_train_scaled.shape, X_test_scaled.shape, y_train.shape)"
   ]
  },
  {
   "cell_type": "markdown",
   "metadata": {},
   "source": [
    "# Train the Model"
   ]
  },
  {
   "cell_type": "code",
   "execution_count": null,
   "metadata": {},
   "outputs": [],
   "source": [
    "from sklearn.svm import SVC\n",
    "\n",
    "model_svm = SVC()\n",
    "model_svm.fit(X_train_scaled, y_train)"
   ]
  },
  {
   "cell_type": "code",
   "execution_count": null,
   "metadata": {},
   "outputs": [],
   "source": [
    "#And score the model using the unseen testing data\n",
    "model_svm.score(X_train, y_train), model_svm.score(X_val, y_val)"
   ]
  },
  {
   "cell_type": "code",
   "execution_count": null,
   "metadata": {},
   "outputs": [],
   "source": [
    "# Overall Score for the model\n",
    "model_svm.score(X_val, y_val)"
   ]
  },
  {
   "cell_type": "code",
   "execution_count": null,
   "metadata": {},
   "outputs": [],
   "source": [
    "print(f\"Training Data Score: {model_svm.score(X_train_scaled, y_train)}\")\n",
    "print(f\"Testing Data Score: {model_svm.score(X_test_scaled, y_test)}\")"
   ]
  },
  {
   "cell_type": "code",
   "execution_count": null,
   "metadata": {},
   "outputs": [],
   "source": [
    "predictions = model_svm.predict(X_test_scaled)"
   ]
  },
  {
   "cell_type": "code",
   "execution_count": null,
   "metadata": {},
   "outputs": [],
   "source": [
    "# Calculate classification report (selected features)\n",
    "\n",
    "from sklearn.metrics import classification_report\n",
    "\n",
    "print(classification_report(y_test, predictions,\n",
    "                           ))"
   ]
  },
  {
   "cell_type": "code",
   "execution_count": null,
   "metadata": {},
   "outputs": [],
   "source": [
    "# Plot Confusion Matrix (selected features)\n",
    "\n",
    "label_aux = plt.subplot()\n",
    "cm_svm_red = confusion_matrix(y_test, predictions)\n",
    "cm_svm = pd.DataFrame(cm_svm_red,\n",
    "                     index = ['Fair','Very Good'], \n",
    "                     columns = ['Fair','Very Good'])\n",
    "sns.heatmap(cm_svm,annot=True,cmap=plt.cm.YlGnBu,fmt='3')\n",
    "label_aux.set_xlabel('True Quality');label_aux.set_ylabel('Predicted')\n",
    "label_aux.set_title('Non-Normalized (Top 5 features)')\n",
    "plt.savefig('Resources/images/svm_white_cm_non-nor_selected.jpg');"
   ]
  },
  {
   "cell_type": "markdown",
   "metadata": {},
   "source": [
    "# Hyperparameter Tuning (GridSearchCV)"
   ]
  },
  {
   "cell_type": "code",
   "execution_count": null,
   "metadata": {},
   "outputs": [],
   "source": [
    "from pprint import pprint\n",
    "print('Parameters:\\n')\n",
    "pprint(model_svm.get_params())"
   ]
  },
  {
   "cell_type": "code",
   "execution_count": null,
   "metadata": {},
   "outputs": [],
   "source": [
    "# Create the GridSearchCV model\n",
    "from sklearn.model_selection import GridSearchCV\n",
    "param_grid = {'C': [ 0.001,0.01,1,10],\n",
    "              'gamma': [0.001,0.01,1,10],\n",
    "             'kernel': ['linear', 'rbf', 'sigmoid']}\n",
    "\n",
    "grid = GridSearchCV(model_svm, param_grid, verbose=3, return_train_score=True, scoring='accuracy' , cv=10)"
   ]
  },
  {
   "cell_type": "code",
   "execution_count": null,
   "metadata": {},
   "outputs": [],
   "source": [
    "# Train the model with GridSearch\n",
    "grid.fit(X_train_scaled, y_train)"
   ]
  },
  {
   "cell_type": "code",
   "execution_count": null,
   "metadata": {},
   "outputs": [],
   "source": [
    "print(grid.best_params_)\n",
    "print(grid.best_score_)"
   ]
  },
  {
   "cell_type": "code",
   "execution_count": null,
   "metadata": {},
   "outputs": [],
   "source": [
    "# Make predictions with the hypertuned model\n",
    "grid_predictions = grid.predict(X_test_scaled)"
   ]
  },
  {
   "cell_type": "markdown",
   "metadata": {},
   "source": [
    "# Classification report"
   ]
  },
  {
   "cell_type": "code",
   "execution_count": null,
   "metadata": {},
   "outputs": [],
   "source": [
    "# Calculate classification report - selected features\n",
    "\n",
    "from sklearn.metrics import classification_report\n",
    "print(classification_report(y_test, grid_predictions,\n",
    "                   ))"
   ]
  },
  {
   "cell_type": "code",
   "execution_count": null,
   "metadata": {},
   "outputs": [],
   "source": [
    "# Plot Confusion Matrix\n",
    "\n",
    "label_aux = plt.subplot()\n",
    "cm_svm_white = confusion_matrix(y_test, grid_predictions)\n",
    "cm_svm = pd.DataFrame(cm_svm_white,\n",
    "                     index = ['Fair','Very Good'], \n",
    "                     columns = ['Fair','Very Good'])\n",
    "sns.heatmap(cm_svm,annot=True,cmap=plt.cm.YlGnBu,fmt='3')\n",
    "label_aux.set_xlabel('Predicted Quality');label_aux.set_ylabel('True Quality');\n",
    "label_aux.set_title('Normalized (Top 5 features)')\n",
    "plt.savefig('Resources/images/svm_white_cm_nor_selected.jpg');"
   ]
  },
  {
   "cell_type": "code",
   "execution_count": null,
   "metadata": {},
   "outputs": [],
   "source": [
    "from sklearn.metrics import plot_roc_curve\n",
    "\n",
    "svm_disp = plot_roc_curve(model_svm, X_test_scaled, y_test)\n",
    "plt.title('AUC (Top 5 Features - White Wine)')\n",
    "plt.savefig('Resources/images/svm_white_auc_selected.jpg');\n",
    "plt.show()"
   ]
  },
  {
   "cell_type": "code",
   "execution_count": null,
   "metadata": {},
   "outputs": [],
   "source": [
    "# Save the Model (test all features, selected features)\n",
    "import joblib\n",
    "\n",
    "filename = 'Resources/results/svm_white_selected.sav'\n",
    "joblib.dump(model_svm, filename)"
   ]
  },
  {
   "cell_type": "code",
   "execution_count": null,
   "metadata": {},
   "outputs": [],
   "source": []
  },
  {
   "cell_type": "code",
   "execution_count": null,
   "metadata": {},
   "outputs": [],
   "source": []
  },
  {
   "cell_type": "code",
   "execution_count": null,
   "metadata": {},
   "outputs": [],
   "source": []
  },
  {
   "cell_type": "code",
   "execution_count": null,
   "metadata": {},
   "outputs": [],
   "source": []
  },
  {
   "cell_type": "code",
   "execution_count": null,
   "metadata": {},
   "outputs": [],
   "source": []
  }
 ],
 "metadata": {
  "kernelspec": {
   "display_name": "Python 3",
   "language": "python",
   "name": "python3"
  },
  "language_info": {
   "codemirror_mode": {
    "name": "ipython",
    "version": 3
   },
   "file_extension": ".py",
   "mimetype": "text/x-python",
   "name": "python",
   "nbconvert_exporter": "python",
   "pygments_lexer": "ipython3",
   "version": "3.8.5"
  }
 },
 "nbformat": 4,
 "nbformat_minor": 4
}
