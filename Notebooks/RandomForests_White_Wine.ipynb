{
 "cells": [
  {
   "cell_type": "markdown",
   "metadata": {},
   "source": [
    "# RandomForests Classification White Wine\n"
   ]
  },
  {
   "cell_type": "code",
   "execution_count": 1,
   "metadata": {},
   "outputs": [],
   "source": [
    "import pandas as pd\n",
    "from sklearn.model_selection import train_test_split\n",
    "from sklearn.ensemble import RandomForestClassifier\n",
    "from sklearn.model_selection import GridSearchCV\n",
    "from sklearn.metrics import plot_confusion_matrix\n",
    "from sklearn.metrics import classification_report\n",
    "from sklearn import metrics\n",
    "from sklearn.metrics import plot_roc_curve\n",
    "import matplotlib.pyplot as plt"
   ]
  },
  {
   "cell_type": "markdown",
   "metadata": {},
   "source": [
    "# Ready CSV "
   ]
  },
  {
   "cell_type": "code",
   "execution_count": 2,
   "metadata": {},
   "outputs": [
    {
     "data": {
      "text/html": [
       "<div>\n",
       "<style scoped>\n",
       "    .dataframe tbody tr th:only-of-type {\n",
       "        vertical-align: middle;\n",
       "    }\n",
       "\n",
       "    .dataframe tbody tr th {\n",
       "        vertical-align: top;\n",
       "    }\n",
       "\n",
       "    .dataframe thead th {\n",
       "        text-align: right;\n",
       "    }\n",
       "</style>\n",
       "<table border=\"1\" class=\"dataframe\">\n",
       "  <thead>\n",
       "    <tr style=\"text-align: right;\">\n",
       "      <th></th>\n",
       "      <th>fixed acidity</th>\n",
       "      <th>volatile acidity</th>\n",
       "      <th>citric acid</th>\n",
       "      <th>residual sugar</th>\n",
       "      <th>chlorides</th>\n",
       "      <th>free sulfur dioxide</th>\n",
       "      <th>total sulfur dioxide</th>\n",
       "      <th>density</th>\n",
       "      <th>pH</th>\n",
       "      <th>sulphates</th>\n",
       "      <th>alcohol</th>\n",
       "      <th>quality</th>\n",
       "    </tr>\n",
       "  </thead>\n",
       "  <tbody>\n",
       "    <tr>\n",
       "      <th>0</th>\n",
       "      <td>7.0</td>\n",
       "      <td>0.27</td>\n",
       "      <td>0.36</td>\n",
       "      <td>20.7</td>\n",
       "      <td>0.045</td>\n",
       "      <td>45.0</td>\n",
       "      <td>170.0</td>\n",
       "      <td>1.00100</td>\n",
       "      <td>3.00</td>\n",
       "      <td>0.45</td>\n",
       "      <td>8.8</td>\n",
       "      <td>Fair</td>\n",
       "    </tr>\n",
       "    <tr>\n",
       "      <th>1</th>\n",
       "      <td>6.3</td>\n",
       "      <td>0.30</td>\n",
       "      <td>0.34</td>\n",
       "      <td>1.6</td>\n",
       "      <td>0.049</td>\n",
       "      <td>14.0</td>\n",
       "      <td>132.0</td>\n",
       "      <td>0.99400</td>\n",
       "      <td>3.30</td>\n",
       "      <td>0.49</td>\n",
       "      <td>9.5</td>\n",
       "      <td>Fair</td>\n",
       "    </tr>\n",
       "    <tr>\n",
       "      <th>2</th>\n",
       "      <td>8.1</td>\n",
       "      <td>0.28</td>\n",
       "      <td>0.40</td>\n",
       "      <td>6.9</td>\n",
       "      <td>0.050</td>\n",
       "      <td>30.0</td>\n",
       "      <td>97.0</td>\n",
       "      <td>0.99510</td>\n",
       "      <td>3.26</td>\n",
       "      <td>0.44</td>\n",
       "      <td>10.1</td>\n",
       "      <td>Fair</td>\n",
       "    </tr>\n",
       "    <tr>\n",
       "      <th>3</th>\n",
       "      <td>7.2</td>\n",
       "      <td>0.23</td>\n",
       "      <td>0.32</td>\n",
       "      <td>8.5</td>\n",
       "      <td>0.058</td>\n",
       "      <td>47.0</td>\n",
       "      <td>186.0</td>\n",
       "      <td>0.99560</td>\n",
       "      <td>3.19</td>\n",
       "      <td>0.40</td>\n",
       "      <td>9.9</td>\n",
       "      <td>Fair</td>\n",
       "    </tr>\n",
       "    <tr>\n",
       "      <th>4</th>\n",
       "      <td>6.2</td>\n",
       "      <td>0.32</td>\n",
       "      <td>0.16</td>\n",
       "      <td>7.0</td>\n",
       "      <td>0.045</td>\n",
       "      <td>30.0</td>\n",
       "      <td>136.0</td>\n",
       "      <td>0.99490</td>\n",
       "      <td>3.18</td>\n",
       "      <td>0.47</td>\n",
       "      <td>9.6</td>\n",
       "      <td>Fair</td>\n",
       "    </tr>\n",
       "    <tr>\n",
       "      <th>...</th>\n",
       "      <td>...</td>\n",
       "      <td>...</td>\n",
       "      <td>...</td>\n",
       "      <td>...</td>\n",
       "      <td>...</td>\n",
       "      <td>...</td>\n",
       "      <td>...</td>\n",
       "      <td>...</td>\n",
       "      <td>...</td>\n",
       "      <td>...</td>\n",
       "      <td>...</td>\n",
       "      <td>...</td>\n",
       "    </tr>\n",
       "    <tr>\n",
       "      <th>3956</th>\n",
       "      <td>6.2</td>\n",
       "      <td>0.21</td>\n",
       "      <td>0.29</td>\n",
       "      <td>1.6</td>\n",
       "      <td>0.039</td>\n",
       "      <td>24.0</td>\n",
       "      <td>92.0</td>\n",
       "      <td>0.99114</td>\n",
       "      <td>3.27</td>\n",
       "      <td>0.50</td>\n",
       "      <td>11.2</td>\n",
       "      <td>Fair</td>\n",
       "    </tr>\n",
       "    <tr>\n",
       "      <th>3957</th>\n",
       "      <td>6.6</td>\n",
       "      <td>0.32</td>\n",
       "      <td>0.36</td>\n",
       "      <td>8.0</td>\n",
       "      <td>0.047</td>\n",
       "      <td>57.0</td>\n",
       "      <td>168.0</td>\n",
       "      <td>0.99490</td>\n",
       "      <td>3.15</td>\n",
       "      <td>0.46</td>\n",
       "      <td>9.6</td>\n",
       "      <td>Fair</td>\n",
       "    </tr>\n",
       "    <tr>\n",
       "      <th>3958</th>\n",
       "      <td>6.5</td>\n",
       "      <td>0.24</td>\n",
       "      <td>0.19</td>\n",
       "      <td>1.2</td>\n",
       "      <td>0.041</td>\n",
       "      <td>30.0</td>\n",
       "      <td>111.0</td>\n",
       "      <td>0.99254</td>\n",
       "      <td>2.99</td>\n",
       "      <td>0.46</td>\n",
       "      <td>9.4</td>\n",
       "      <td>Fair</td>\n",
       "    </tr>\n",
       "    <tr>\n",
       "      <th>3959</th>\n",
       "      <td>5.5</td>\n",
       "      <td>0.29</td>\n",
       "      <td>0.30</td>\n",
       "      <td>1.1</td>\n",
       "      <td>0.022</td>\n",
       "      <td>20.0</td>\n",
       "      <td>110.0</td>\n",
       "      <td>0.98869</td>\n",
       "      <td>3.34</td>\n",
       "      <td>0.38</td>\n",
       "      <td>12.8</td>\n",
       "      <td>Very Good</td>\n",
       "    </tr>\n",
       "    <tr>\n",
       "      <th>3960</th>\n",
       "      <td>6.0</td>\n",
       "      <td>0.21</td>\n",
       "      <td>0.38</td>\n",
       "      <td>0.8</td>\n",
       "      <td>0.020</td>\n",
       "      <td>22.0</td>\n",
       "      <td>98.0</td>\n",
       "      <td>0.98941</td>\n",
       "      <td>3.26</td>\n",
       "      <td>0.32</td>\n",
       "      <td>11.8</td>\n",
       "      <td>Fair</td>\n",
       "    </tr>\n",
       "  </tbody>\n",
       "</table>\n",
       "<p>3961 rows × 12 columns</p>\n",
       "</div>"
      ],
      "text/plain": [
       "      fixed acidity  volatile acidity  citric acid  residual sugar  chlorides  \\\n",
       "0               7.0              0.27         0.36            20.7      0.045   \n",
       "1               6.3              0.30         0.34             1.6      0.049   \n",
       "2               8.1              0.28         0.40             6.9      0.050   \n",
       "3               7.2              0.23         0.32             8.5      0.058   \n",
       "4               6.2              0.32         0.16             7.0      0.045   \n",
       "...             ...               ...          ...             ...        ...   \n",
       "3956            6.2              0.21         0.29             1.6      0.039   \n",
       "3957            6.6              0.32         0.36             8.0      0.047   \n",
       "3958            6.5              0.24         0.19             1.2      0.041   \n",
       "3959            5.5              0.29         0.30             1.1      0.022   \n",
       "3960            6.0              0.21         0.38             0.8      0.020   \n",
       "\n",
       "      free sulfur dioxide  total sulfur dioxide  density    pH  sulphates  \\\n",
       "0                    45.0                 170.0  1.00100  3.00       0.45   \n",
       "1                    14.0                 132.0  0.99400  3.30       0.49   \n",
       "2                    30.0                  97.0  0.99510  3.26       0.44   \n",
       "3                    47.0                 186.0  0.99560  3.19       0.40   \n",
       "4                    30.0                 136.0  0.99490  3.18       0.47   \n",
       "...                   ...                   ...      ...   ...        ...   \n",
       "3956                 24.0                  92.0  0.99114  3.27       0.50   \n",
       "3957                 57.0                 168.0  0.99490  3.15       0.46   \n",
       "3958                 30.0                 111.0  0.99254  2.99       0.46   \n",
       "3959                 20.0                 110.0  0.98869  3.34       0.38   \n",
       "3960                 22.0                  98.0  0.98941  3.26       0.32   \n",
       "\n",
       "      alcohol    quality  \n",
       "0         8.8       Fair  \n",
       "1         9.5       Fair  \n",
       "2        10.1       Fair  \n",
       "3         9.9       Fair  \n",
       "4         9.6       Fair  \n",
       "...       ...        ...  \n",
       "3956     11.2       Fair  \n",
       "3957      9.6       Fair  \n",
       "3958      9.4       Fair  \n",
       "3959     12.8  Very Good  \n",
       "3960     11.8       Fair  \n",
       "\n",
       "[3961 rows x 12 columns]"
      ]
     },
     "execution_count": 2,
     "metadata": {},
     "output_type": "execute_result"
    }
   ],
   "source": [
    "df = pd.read_csv(\"./Resources/Data/winequality-white-clean.csv\", delimiter=',')\n",
    "df"
   ]
  },
  {
   "cell_type": "markdown",
   "metadata": {},
   "source": [
    "# Select your features (columns)"
   ]
  },
  {
   "cell_type": "code",
   "execution_count": 3,
   "metadata": {},
   "outputs": [
    {
     "name": "stdout",
     "output_type": "stream",
     "text": [
      "(3961, 11) (3961,)\n"
     ]
    }
   ],
   "source": [
    "# Set features. This will also be used as your x values.\n",
    "X = df.drop(['quality'], axis = 1)\n",
    "y = df['quality']\n",
    "print(X.shape, y.shape)\n"
   ]
  },
  {
   "cell_type": "markdown",
   "metadata": {},
   "source": [
    "# Create a Train Test Split"
   ]
  },
  {
   "cell_type": "code",
   "execution_count": 4,
   "metadata": {},
   "outputs": [
    {
     "name": "stdout",
     "output_type": "stream",
     "text": [
      "(2772, 11) (793, 11) (396, 11) (2772,) (793,) (396,)\n"
     ]
    }
   ],
   "source": [
    "X_train, X_, y_train, y_ = train_test_split(X,y,train_size=.7,random_state=3)\n",
    "X_val,X_test, y_val, y_test = train_test_split(X_,y_,test_size=.333,random_state=3)\n",
    "\n",
    "print(X_train.shape, X_val.shape, X_test.shape, y_train.shape, y_val.shape, y_test.shape)"
   ]
  },
  {
   "cell_type": "markdown",
   "metadata": {},
   "source": [
    "# Train the Model"
   ]
  },
  {
   "cell_type": "code",
   "execution_count": 5,
   "metadata": {},
   "outputs": [
    {
     "name": "stdout",
     "output_type": "stream",
     "text": [
      "--------\n",
      "1\n",
      "RandomForestClassifier(criterion='entropy', n_jobs=-1, oob_score=True)\n",
      "k: 1, Train/Test Score: 1.000/0.820\n",
      "OOB_Score : 0.8275613275613276\n",
      "--------\n",
      "2\n",
      "RandomForestClassifier(criterion='entropy', min_samples_leaf=2, n_jobs=-1,\n",
      "                       oob_score=True)\n",
      "k: 2, Train/Test Score: 0.994/0.808\n",
      "OOB_Score : 0.8308080808080808\n",
      "--------\n",
      "3\n",
      "RandomForestClassifier(criterion='entropy', min_samples_leaf=3, n_jobs=-1,\n",
      "                       oob_score=True)\n",
      "k: 3, Train/Test Score: 0.971/0.810\n",
      "OOB_Score : 0.8221500721500722\n",
      "--------\n",
      "4\n",
      "RandomForestClassifier(criterion='entropy', min_samples_leaf=4, n_jobs=-1,\n",
      "                       oob_score=True)\n",
      "k: 4, Train/Test Score: 0.948/0.821\n",
      "OOB_Score : 0.8318903318903319\n",
      "--------\n",
      "5\n",
      "RandomForestClassifier(criterion='entropy', min_samples_leaf=5, n_jobs=-1,\n",
      "                       oob_score=True)\n",
      "k: 5, Train/Test Score: 0.927/0.811\n",
      "OOB_Score : 0.8272005772005772\n",
      "--------\n",
      "6\n",
      "RandomForestClassifier(criterion='entropy', min_samples_leaf=6, n_jobs=-1,\n",
      "                       oob_score=True)\n",
      "k: 6, Train/Test Score: 0.918/0.815\n",
      "OOB_Score : 0.827922077922078\n",
      "--------\n",
      "7\n",
      "RandomForestClassifier(criterion='entropy', min_samples_leaf=7, n_jobs=-1,\n",
      "                       oob_score=True)\n",
      "k: 7, Train/Test Score: 0.907/0.808\n",
      "OOB_Score : 0.8268398268398268\n"
     ]
    },
    {
     "data": {
      "image/png": "[encoded data removed]",
      "text/plain": [
       "<Figure size 432x288 with 1 Axes>"
      ]
     },
     "metadata": {
      "needs_background": "light"
     },
     "output_type": "display_data"
    }
   ],
   "source": [
    "#Train your first model with choosen parameters\n",
    "\n",
    "train_scores = []\n",
    "val_scores = []\n",
    "oob_scores = []\n",
    "for k in range(1, 8, 1):\n",
    "    rf = RandomForestClassifier(n_estimators=100,\n",
    "                                min_samples_leaf=k,\n",
    "                                n_jobs=-1,\n",
    "                                oob_score=True,\n",
    "                                criterion='entropy')\n",
    "\n",
    "    print(\"--------\")\n",
    "    print(k)\n",
    "    print(rf)\n",
    "    rf = rf.fit(X_train, y_train)\n",
    "    train_score = rf.score(X_train, y_train)\n",
    "    val_score = rf.score(X_val, y_val)\n",
    "    oob_score = rf.oob_score_\n",
    "    train_scores.append(train_score)\n",
    "    val_scores.append(val_score)\n",
    "    oob_scores.append(oob_score)\n",
    "    print(f\"k: {k}, Train/Test Score: {train_score:.3f}/{val_score:.3f}\")\n",
    "    print(f\"OOB_Score : {rf.oob_score_}\")\n",
    "\n",
    "plt.plot(range(1, 8, 1), train_scores, marker='o')\n",
    "plt.plot(range(1, 8, 1), val_scores, marker=\"x\")\n",
    "plt.plot(range(1, 8, 1), oob_scores, marker=\"+\")\n",
    "plt.xlabel(\"Random Forests\")\n",
    "plt.ylabel(\"Testing accuracy Score\")\n",
    "plt.show()"
   ]
  },
  {
   "cell_type": "code",
   "execution_count": 6,
   "metadata": {},
   "outputs": [
    {
     "name": "stdout",
     "output_type": "stream",
     "text": [
      "--------\n",
      "1\n",
      "RandomForestClassifier(n_jobs=-1, oob_score=True)\n",
      "k: 1, Train/Test Score: 1.000/0.807\n",
      "OOB_Score : 0.8235930735930735\n",
      "--------\n",
      "2\n",
      "RandomForestClassifier(min_samples_leaf=2, n_jobs=-1, oob_score=True)\n",
      "k: 2, Train/Test Score: 0.985/0.808\n",
      "OOB_Score : 0.8351370851370852\n",
      "--------\n",
      "3\n",
      "RandomForestClassifier(min_samples_leaf=3, n_jobs=-1, oob_score=True)\n",
      "k: 3, Train/Test Score: 0.962/0.815\n",
      "OOB_Score : 0.8326118326118326\n",
      "--------\n",
      "4\n",
      "RandomForestClassifier(min_samples_leaf=4, n_jobs=-1, oob_score=True)\n",
      "k: 4, Train/Test Score: 0.941/0.811\n",
      "OOB_Score : 0.829004329004329\n",
      "--------\n",
      "5\n",
      "RandomForestClassifier(min_samples_leaf=5, n_jobs=-1, oob_score=True)\n",
      "k: 5, Train/Test Score: 0.919/0.808\n",
      "OOB_Score : 0.8253968253968254\n",
      "--------\n",
      "6\n",
      "RandomForestClassifier(min_samples_leaf=6, n_jobs=-1, oob_score=True)\n",
      "k: 6, Train/Test Score: 0.909/0.810\n",
      "OOB_Score : 0.8275613275613276\n",
      "--------\n",
      "7\n",
      "RandomForestClassifier(min_samples_leaf=7, n_jobs=-1, oob_score=True)\n",
      "k: 7, Train/Test Score: 0.900/0.801\n",
      "OOB_Score : 0.8253968253968254\n"
     ]
    },
    {
     "data": {
      "image/png": "[encoded data removed]",
      "text/plain": [
       "<Figure size 432x288 with 1 Axes>"
      ]
     },
     "metadata": {
      "needs_background": "light"
     },
     "output_type": "display_data"
    }
   ],
   "source": [
    "#Train your first model with choosen parameters\n",
    "\n",
    "train_scores = []\n",
    "val_scores = []\n",
    "oob_scores = []\n",
    "for k in range(1, 8, 1):\n",
    "    rf = RandomForestClassifier(n_estimators=100,\n",
    "                                min_samples_leaf=k,\n",
    "                                n_jobs=-1,\n",
    "                                oob_score=True,\n",
    "                                criterion='gini')\n",
    "\n",
    "    print(\"--------\")\n",
    "    print(k)\n",
    "    print(rf)\n",
    "    rf = rf.fit(X_train, y_train)\n",
    "    train_score = rf.score(X_train, y_train)\n",
    "    val_score = rf.score(X_val, y_val)\n",
    "    oob_score = rf.oob_score_\n",
    "    train_scores.append(train_score)\n",
    "    val_scores.append(val_score)\n",
    "    oob_scores.append(oob_score)\n",
    "    print(f\"k: {k}, Train/Test Score: {train_score:.3f}/{val_score:.3f}\")\n",
    "    print(f\"OOB_Score : {rf.oob_score_}\")\n",
    "\n",
    "plt.plot(range(1, 8, 1), train_scores, marker='o')\n",
    "plt.plot(range(1, 8, 1), val_scores, marker=\"x\")\n",
    "plt.plot(range(1, 8, 1), oob_scores, marker=\"+\")\n",
    "plt.xlabel(\"Random Forests\")\n",
    "plt.ylabel(\"Testing accuracy Score\")\n",
    "plt.show()"
   ]
  },
  {
   "cell_type": "markdown",
   "metadata": {},
   "source": [
    "# Hyperparameter Tuning\n",
    "\n",
    "Use `GridSearchCV` to tune the model's parameters"
   ]
  },
  {
   "cell_type": "code",
   "execution_count": 7,
   "metadata": {},
   "outputs": [],
   "source": [
    "# Create the GridSearch estimator along with a parameter object containing the values to adjust\n",
    "# Check it out how GridSearchCV can perform\n",
    "\n",
    "param_grid = {'criterion':['gini','entropy'],\n",
    "              'n_estimators':[100, 200],\n",
    "              'min_samples_leaf':[1,2,3,4,5,6]}\n",
    "              \n",
    "                       \n",
    "grid = GridSearchCV(rf, param_grid, verbose=3, return_train_score=True)\n"
   ]
  },
  {
   "cell_type": "code",
   "execution_count": 8,
   "metadata": {},
   "outputs": [
    {
     "name": "stdout",
     "output_type": "stream",
     "text": [
      "Fitting 5 folds for each of 24 candidates, totalling 120 fits\n",
      "[CV 1/5] END criterion=gini, min_samples_leaf=1, n_estimators=100;, score=(train=1.000, test=0.823) total time=   1.3s\n",
      "[CV 2/5] END criterion=gini, min_samples_leaf=1, n_estimators=100;, score=(train=1.000, test=0.831) total time=   0.1s\n",
      "[CV 3/5] END criterion=gini, min_samples_leaf=1, n_estimators=100;, score=(train=1.000, test=0.818) total time=   0.1s\n",
      "[CV 4/5] END criterion=gini, min_samples_leaf=1, n_estimators=100;, score=(train=1.000, test=0.816) total time=   0.1s\n",
      "[CV 5/5] END criterion=gini, min_samples_leaf=1, n_estimators=100;, score=(train=1.000, test=0.843) total time=   0.1s\n",
      "[CV 1/5] END criterion=gini, min_samples_leaf=1, n_estimators=200;, score=(train=1.000, test=0.816) total time=   0.3s\n",
      "[CV 2/5] END criterion=gini, min_samples_leaf=1, n_estimators=200;, score=(train=1.000, test=0.827) total time=   0.3s\n",
      "[CV 3/5] END criterion=gini, min_samples_leaf=1, n_estimators=200;, score=(train=1.000, test=0.832) total time=   0.3s\n",
      "[CV 4/5] END criterion=gini, min_samples_leaf=1, n_estimators=200;, score=(train=1.000, test=0.812) total time=   0.3s\n",
      "[CV 5/5] END criterion=gini, min_samples_leaf=1, n_estimators=200;, score=(train=1.000, test=0.854) total time=   0.3s\n",
      "[CV 1/5] END criterion=gini, min_samples_leaf=2, n_estimators=100;, score=(train=0.982, test=0.809) total time=   0.1s\n",
      "[CV 2/5] END criterion=gini, min_samples_leaf=2, n_estimators=100;, score=(train=0.985, test=0.836) total time=   0.1s\n",
      "[CV 3/5] END criterion=gini, min_samples_leaf=2, n_estimators=100;, score=(train=0.988, test=0.819) total time=   0.1s\n",
      "[CV 4/5] END criterion=gini, min_samples_leaf=2, n_estimators=100;, score=(train=0.987, test=0.816) total time=   0.1s\n",
      "[CV 5/5] END criterion=gini, min_samples_leaf=2, n_estimators=100;, score=(train=0.987, test=0.854) total time=   0.1s\n",
      "[CV 1/5] END criterion=gini, min_samples_leaf=2, n_estimators=200;, score=(train=0.984, test=0.820) total time=   0.2s\n",
      "[CV 2/5] END criterion=gini, min_samples_leaf=2, n_estimators=200;, score=(train=0.985, test=0.823) total time=   0.3s\n",
      "[CV 3/5] END criterion=gini, min_samples_leaf=2, n_estimators=200;, score=(train=0.985, test=0.821) total time=   0.3s\n",
      "[CV 4/5] END criterion=gini, min_samples_leaf=2, n_estimators=200;, score=(train=0.986, test=0.825) total time=   0.3s\n",
      "[CV 5/5] END criterion=gini, min_samples_leaf=2, n_estimators=200;, score=(train=0.984, test=0.861) total time=   0.3s\n",
      "[CV 1/5] END criterion=gini, min_samples_leaf=3, n_estimators=100;, score=(train=0.956, test=0.822) total time=   0.1s\n",
      "[CV 2/5] END criterion=gini, min_samples_leaf=3, n_estimators=100;, score=(train=0.959, test=0.834) total time=   0.1s\n",
      "[CV 3/5] END criterion=gini, min_samples_leaf=3, n_estimators=100;, score=(train=0.962, test=0.821) total time=   0.1s\n",
      "[CV 4/5] END criterion=gini, min_samples_leaf=3, n_estimators=100;, score=(train=0.956, test=0.819) total time=   0.1s\n",
      "[CV 5/5] END criterion=gini, min_samples_leaf=3, n_estimators=100;, score=(train=0.962, test=0.857) total time=   0.1s\n",
      "[CV 1/5] END criterion=gini, min_samples_leaf=3, n_estimators=200;, score=(train=0.958, test=0.816) total time=   0.2s\n",
      "[CV 2/5] END criterion=gini, min_samples_leaf=3, n_estimators=200;, score=(train=0.961, test=0.832) total time=   0.2s\n",
      "[CV 3/5] END criterion=gini, min_samples_leaf=3, n_estimators=200;, score=(train=0.962, test=0.823) total time=   0.3s\n",
      "[CV 4/5] END criterion=gini, min_samples_leaf=3, n_estimators=200;, score=(train=0.959, test=0.823) total time=   0.2s\n",
      "[CV 5/5] END criterion=gini, min_samples_leaf=3, n_estimators=200;, score=(train=0.960, test=0.848) total time=   0.3s\n",
      "[CV 1/5] END criterion=gini, min_samples_leaf=4, n_estimators=100;, score=(train=0.940, test=0.823) total time=   0.1s\n",
      "[CV 2/5] END criterion=gini, min_samples_leaf=4, n_estimators=100;, score=(train=0.939, test=0.831) total time=   0.1s\n",
      "[CV 3/5] END criterion=gini, min_samples_leaf=4, n_estimators=100;, score=(train=0.939, test=0.816) total time=   0.1s\n",
      "[CV 4/5] END criterion=gini, min_samples_leaf=4, n_estimators=100;, score=(train=0.940, test=0.816) total time=   0.1s\n",
      "[CV 5/5] END criterion=gini, min_samples_leaf=4, n_estimators=100;, score=(train=0.937, test=0.847) total time=   0.1s\n",
      "[CV 1/5] END criterion=gini, min_samples_leaf=4, n_estimators=200;, score=(train=0.940, test=0.823) total time=   0.3s\n",
      "[CV 2/5] END criterion=gini, min_samples_leaf=4, n_estimators=200;, score=(train=0.942, test=0.831) total time=   0.3s\n",
      "[CV 3/5] END criterion=gini, min_samples_leaf=4, n_estimators=200;, score=(train=0.944, test=0.818) total time=   0.2s\n",
      "[CV 4/5] END criterion=gini, min_samples_leaf=4, n_estimators=200;, score=(train=0.940, test=0.816) total time=   0.2s\n",
      "[CV 5/5] END criterion=gini, min_samples_leaf=4, n_estimators=200;, score=(train=0.940, test=0.843) total time=   0.3s\n",
      "[CV 1/5] END criterion=gini, min_samples_leaf=5, n_estimators=100;, score=(train=0.923, test=0.820) total time=   0.1s\n",
      "[CV 2/5] END criterion=gini, min_samples_leaf=5, n_estimators=100;, score=(train=0.917, test=0.832) total time=   0.1s\n",
      "[CV 3/5] END criterion=gini, min_samples_leaf=5, n_estimators=100;, score=(train=0.921, test=0.816) total time=   0.1s\n",
      "[CV 4/5] END criterion=gini, min_samples_leaf=5, n_estimators=100;, score=(train=0.924, test=0.823) total time=   0.1s\n",
      "[CV 5/5] END criterion=gini, min_samples_leaf=5, n_estimators=100;, score=(train=0.924, test=0.850) total time=   0.1s\n",
      "[CV 1/5] END criterion=gini, min_samples_leaf=5, n_estimators=200;, score=(train=0.926, test=0.820) total time=   0.2s\n",
      "[CV 2/5] END criterion=gini, min_samples_leaf=5, n_estimators=200;, score=(train=0.919, test=0.829) total time=   0.2s\n",
      "[CV 3/5] END criterion=gini, min_samples_leaf=5, n_estimators=200;, score=(train=0.925, test=0.816) total time=   0.2s\n",
      "[CV 4/5] END criterion=gini, min_samples_leaf=5, n_estimators=200;, score=(train=0.930, test=0.814) total time=   0.2s\n",
      "[CV 5/5] END criterion=gini, min_samples_leaf=5, n_estimators=200;, score=(train=0.921, test=0.841) total time=   0.2s\n",
      "[CV 1/5] END criterion=gini, min_samples_leaf=6, n_estimators=100;, score=(train=0.915, test=0.818) total time=   0.1s\n",
      "[CV 2/5] END criterion=gini, min_samples_leaf=6, n_estimators=100;, score=(train=0.903, test=0.827) total time=   0.1s\n",
      "[CV 3/5] END criterion=gini, min_samples_leaf=6, n_estimators=100;, score=(train=0.910, test=0.814) total time=   0.1s\n",
      "[CV 4/5] END criterion=gini, min_samples_leaf=6, n_estimators=100;, score=(train=0.913, test=0.816) total time=   0.2s\n",
      "[CV 5/5] END criterion=gini, min_samples_leaf=6, n_estimators=100;, score=(train=0.910, test=0.838) total time=   0.1s\n",
      "[CV 1/5] END criterion=gini, min_samples_leaf=6, n_estimators=200;, score=(train=0.914, test=0.816) total time=   0.2s\n",
      "[CV 2/5] END criterion=gini, min_samples_leaf=6, n_estimators=200;, score=(train=0.903, test=0.827) total time=   0.2s\n",
      "[CV 3/5] END criterion=gini, min_samples_leaf=6, n_estimators=200;, score=(train=0.903, test=0.818) total time=   0.2s\n",
      "[CV 4/5] END criterion=gini, min_samples_leaf=6, n_estimators=200;, score=(train=0.915, test=0.814) total time=   0.2s\n",
      "[CV 5/5] END criterion=gini, min_samples_leaf=6, n_estimators=200;, score=(train=0.906, test=0.841) total time=   0.3s\n",
      "[CV 1/5] END criterion=entropy, min_samples_leaf=1, n_estimators=100;, score=(train=1.000, test=0.832) total time=   0.2s\n",
      "[CV 2/5] END criterion=entropy, min_samples_leaf=1, n_estimators=100;, score=(train=1.000, test=0.820) total time=   0.2s\n",
      "[CV 3/5] END criterion=entropy, min_samples_leaf=1, n_estimators=100;, score=(train=1.000, test=0.827) total time=   0.1s\n",
      "[CV 4/5] END criterion=entropy, min_samples_leaf=1, n_estimators=100;, score=(train=1.000, test=0.812) total time=   0.2s\n",
      "[CV 5/5] END criterion=entropy, min_samples_leaf=1, n_estimators=100;, score=(train=1.000, test=0.848) total time=   0.2s\n",
      "[CV 1/5] END criterion=entropy, min_samples_leaf=1, n_estimators=200;, score=(train=1.000, test=0.832) total time=   0.3s\n",
      "[CV 2/5] END criterion=entropy, min_samples_leaf=1, n_estimators=200;, score=(train=1.000, test=0.829) total time=   0.3s\n",
      "[CV 3/5] END criterion=entropy, min_samples_leaf=1, n_estimators=200;, score=(train=1.000, test=0.825) total time=   0.3s\n",
      "[CV 4/5] END criterion=entropy, min_samples_leaf=1, n_estimators=200;, score=(train=1.000, test=0.825) total time=   0.3s\n"
     ]
    },
    {
     "name": "stdout",
     "output_type": "stream",
     "text": [
      "[CV 5/5] END criterion=entropy, min_samples_leaf=1, n_estimators=200;, score=(train=1.000, test=0.852) total time=   0.3s\n",
      "[CV 1/5] END criterion=entropy, min_samples_leaf=2, n_estimators=100;, score=(train=0.990, test=0.832) total time=   0.1s\n",
      "[CV 2/5] END criterion=entropy, min_samples_leaf=2, n_estimators=100;, score=(train=0.992, test=0.836) total time=   0.2s\n",
      "[CV 3/5] END criterion=entropy, min_samples_leaf=2, n_estimators=100;, score=(train=0.992, test=0.829) total time=   0.2s\n",
      "[CV 4/5] END criterion=entropy, min_samples_leaf=2, n_estimators=100;, score=(train=0.995, test=0.810) total time=   0.2s\n",
      "[CV 5/5] END criterion=entropy, min_samples_leaf=2, n_estimators=100;, score=(train=0.993, test=0.856) total time=   0.1s\n",
      "[CV 1/5] END criterion=entropy, min_samples_leaf=2, n_estimators=200;, score=(train=0.995, test=0.818) total time=   0.3s\n",
      "[CV 2/5] END criterion=entropy, min_samples_leaf=2, n_estimators=200;, score=(train=0.995, test=0.834) total time=   0.3s\n",
      "[CV 3/5] END criterion=entropy, min_samples_leaf=2, n_estimators=200;, score=(train=0.994, test=0.825) total time=   0.3s\n",
      "[CV 4/5] END criterion=entropy, min_samples_leaf=2, n_estimators=200;, score=(train=0.995, test=0.812) total time=   0.3s\n",
      "[CV 5/5] END criterion=entropy, min_samples_leaf=2, n_estimators=200;, score=(train=0.996, test=0.859) total time=   0.3s\n",
      "[CV 1/5] END criterion=entropy, min_samples_leaf=3, n_estimators=100;, score=(train=0.966, test=0.823) total time=   0.2s\n",
      "[CV 2/5] END criterion=entropy, min_samples_leaf=3, n_estimators=100;, score=(train=0.968, test=0.831) total time=   0.1s\n",
      "[CV 3/5] END criterion=entropy, min_samples_leaf=3, n_estimators=100;, score=(train=0.972, test=0.814) total time=   0.1s\n",
      "[CV 4/5] END criterion=entropy, min_samples_leaf=3, n_estimators=100;, score=(train=0.970, test=0.812) total time=   0.1s\n",
      "[CV 5/5] END criterion=entropy, min_samples_leaf=3, n_estimators=100;, score=(train=0.970, test=0.845) total time=   0.1s\n",
      "[CV 1/5] END criterion=entropy, min_samples_leaf=3, n_estimators=200;, score=(train=0.968, test=0.827) total time=   0.3s\n",
      "[CV 2/5] END criterion=entropy, min_samples_leaf=3, n_estimators=200;, score=(train=0.969, test=0.831) total time=   0.3s\n",
      "[CV 3/5] END criterion=entropy, min_samples_leaf=3, n_estimators=200;, score=(train=0.976, test=0.830) total time=   0.3s\n",
      "[CV 4/5] END criterion=entropy, min_samples_leaf=3, n_estimators=200;, score=(train=0.969, test=0.816) total time=   0.3s\n",
      "[CV 5/5] END criterion=entropy, min_samples_leaf=3, n_estimators=200;, score=(train=0.972, test=0.850) total time=   0.3s\n",
      "[CV 1/5] END criterion=entropy, min_samples_leaf=4, n_estimators=100;, score=(train=0.949, test=0.825) total time=   0.2s\n",
      "[CV 2/5] END criterion=entropy, min_samples_leaf=4, n_estimators=100;, score=(train=0.945, test=0.831) total time=   0.1s\n",
      "[CV 3/5] END criterion=entropy, min_samples_leaf=4, n_estimators=100;, score=(train=0.951, test=0.816) total time=   0.1s\n",
      "[CV 4/5] END criterion=entropy, min_samples_leaf=4, n_estimators=100;, score=(train=0.948, test=0.814) total time=   0.1s\n",
      "[CV 5/5] END criterion=entropy, min_samples_leaf=4, n_estimators=100;, score=(train=0.950, test=0.847) total time=   0.1s\n",
      "[CV 1/5] END criterion=entropy, min_samples_leaf=4, n_estimators=200;, score=(train=0.946, test=0.825) total time=   0.3s\n",
      "[CV 2/5] END criterion=entropy, min_samples_leaf=4, n_estimators=200;, score=(train=0.948, test=0.832) total time=   0.3s\n",
      "[CV 3/5] END criterion=entropy, min_samples_leaf=4, n_estimators=200;, score=(train=0.952, test=0.816) total time=   0.3s\n",
      "[CV 4/5] END criterion=entropy, min_samples_leaf=4, n_estimators=200;, score=(train=0.950, test=0.818) total time=   0.3s\n",
      "[CV 5/5] END criterion=entropy, min_samples_leaf=4, n_estimators=200;, score=(train=0.952, test=0.852) total time=   0.3s\n",
      "[CV 1/5] END criterion=entropy, min_samples_leaf=5, n_estimators=100;, score=(train=0.932, test=0.831) total time=   0.1s\n",
      "[CV 2/5] END criterion=entropy, min_samples_leaf=5, n_estimators=100;, score=(train=0.931, test=0.827) total time=   0.1s\n",
      "[CV 3/5] END criterion=entropy, min_samples_leaf=5, n_estimators=100;, score=(train=0.931, test=0.827) total time=   0.1s\n",
      "[CV 4/5] END criterion=entropy, min_samples_leaf=5, n_estimators=100;, score=(train=0.928, test=0.812) total time=   0.1s\n",
      "[CV 5/5] END criterion=entropy, min_samples_leaf=5, n_estimators=100;, score=(train=0.929, test=0.843) total time=   0.1s\n",
      "[CV 1/5] END criterion=entropy, min_samples_leaf=5, n_estimators=200;, score=(train=0.934, test=0.832) total time=   0.3s\n",
      "[CV 2/5] END criterion=entropy, min_samples_leaf=5, n_estimators=200;, score=(train=0.929, test=0.832) total time=   0.3s\n",
      "[CV 3/5] END criterion=entropy, min_samples_leaf=5, n_estimators=200;, score=(train=0.932, test=0.821) total time=   0.3s\n",
      "[CV 4/5] END criterion=entropy, min_samples_leaf=5, n_estimators=200;, score=(train=0.938, test=0.825) total time=   0.2s\n",
      "[CV 5/5] END criterion=entropy, min_samples_leaf=5, n_estimators=200;, score=(train=0.930, test=0.848) total time=   0.3s\n",
      "[CV 1/5] END criterion=entropy, min_samples_leaf=6, n_estimators=100;, score=(train=0.918, test=0.827) total time=   0.1s\n",
      "[CV 2/5] END criterion=entropy, min_samples_leaf=6, n_estimators=100;, score=(train=0.913, test=0.827) total time=   0.1s\n",
      "[CV 3/5] END criterion=entropy, min_samples_leaf=6, n_estimators=100;, score=(train=0.915, test=0.816) total time=   0.1s\n",
      "[CV 4/5] END criterion=entropy, min_samples_leaf=6, n_estimators=100;, score=(train=0.922, test=0.819) total time=   0.2s\n",
      "[CV 5/5] END criterion=entropy, min_samples_leaf=6, n_estimators=100;, score=(train=0.914, test=0.843) total time=   0.1s\n",
      "[CV 1/5] END criterion=entropy, min_samples_leaf=6, n_estimators=200;, score=(train=0.920, test=0.831) total time=   0.2s\n",
      "[CV 2/5] END criterion=entropy, min_samples_leaf=6, n_estimators=200;, score=(train=0.913, test=0.829) total time=   0.2s\n",
      "[CV 3/5] END criterion=entropy, min_samples_leaf=6, n_estimators=200;, score=(train=0.917, test=0.816) total time=   0.3s\n",
      "[CV 4/5] END criterion=entropy, min_samples_leaf=6, n_estimators=200;, score=(train=0.923, test=0.814) total time=   0.2s\n",
      "[CV 5/5] END criterion=entropy, min_samples_leaf=6, n_estimators=200;, score=(train=0.917, test=0.841) total time=   0.2s\n"
     ]
    },
    {
     "data": {
      "text/plain": [
       "GridSearchCV(estimator=RandomForestClassifier(min_samples_leaf=7, n_jobs=-1,\n",
       "                                              oob_score=True),\n",
       "             param_grid={'criterion': ['gini', 'entropy'],\n",
       "                         'min_samples_leaf': [1, 2, 3, 4, 5, 6],\n",
       "                         'n_estimators': [100, 200]},\n",
       "             return_train_score=True, verbose=3)"
      ]
     },
     "execution_count": 8,
     "metadata": {},
     "output_type": "execute_result"
    }
   ],
   "source": [
    "# Train the model with GridSearch\n",
    "grid.fit(X_train, y_train)"
   ]
  },
  {
   "cell_type": "code",
   "execution_count": 9,
   "metadata": {},
   "outputs": [
    {
     "name": "stdout",
     "output_type": "stream",
     "text": [
      "{'criterion': 'entropy', 'min_samples_leaf': 1, 'n_estimators': 200}\n",
      "0.8326132630825771\n"
     ]
    }
   ],
   "source": [
    "print(grid.best_params_)\n",
    "print(grid.best_score_)\n"
   ]
  },
  {
   "cell_type": "code",
   "execution_count": 10,
   "metadata": {},
   "outputs": [
    {
     "data": {
      "text/html": [
       "<div>\n",
       "<style scoped>\n",
       "    .dataframe tbody tr th:only-of-type {\n",
       "        vertical-align: middle;\n",
       "    }\n",
       "\n",
       "    .dataframe tbody tr th {\n",
       "        vertical-align: top;\n",
       "    }\n",
       "\n",
       "    .dataframe thead th {\n",
       "        text-align: right;\n",
       "    }\n",
       "</style>\n",
       "<table border=\"1\" class=\"dataframe\">\n",
       "  <thead>\n",
       "    <tr style=\"text-align: right;\">\n",
       "      <th></th>\n",
       "      <th>mean_fit_time</th>\n",
       "      <th>std_fit_time</th>\n",
       "      <th>mean_score_time</th>\n",
       "      <th>std_score_time</th>\n",
       "      <th>param_criterion</th>\n",
       "      <th>param_min_samples_leaf</th>\n",
       "      <th>param_n_estimators</th>\n",
       "      <th>params</th>\n",
       "      <th>split0_test_score</th>\n",
       "      <th>split1_test_score</th>\n",
       "      <th>...</th>\n",
       "      <th>mean_test_score</th>\n",
       "      <th>std_test_score</th>\n",
       "      <th>rank_test_score</th>\n",
       "      <th>split0_train_score</th>\n",
       "      <th>split1_train_score</th>\n",
       "      <th>split2_train_score</th>\n",
       "      <th>split3_train_score</th>\n",
       "      <th>split4_train_score</th>\n",
       "      <th>mean_train_score</th>\n",
       "      <th>std_train_score</th>\n",
       "    </tr>\n",
       "  </thead>\n",
       "  <tbody>\n",
       "    <tr>\n",
       "      <th>0</th>\n",
       "      <td>0.356214</td>\n",
       "      <td>0.457836</td>\n",
       "      <td>0.015397</td>\n",
       "      <td>0.000321</td>\n",
       "      <td>gini</td>\n",
       "      <td>1</td>\n",
       "      <td>100</td>\n",
       "      <td>{'criterion': 'gini', 'min_samples_leaf': 1, '...</td>\n",
       "      <td>0.823423</td>\n",
       "      <td>0.830631</td>\n",
       "      <td>...</td>\n",
       "      <td>0.826118</td>\n",
       "      <td>0.009870</td>\n",
       "      <td>18</td>\n",
       "      <td>1.000000</td>\n",
       "      <td>1.000000</td>\n",
       "      <td>1.000000</td>\n",
       "      <td>1.000000</td>\n",
       "      <td>1.000000</td>\n",
       "      <td>1.000000</td>\n",
       "      <td>0.000000</td>\n",
       "    </tr>\n",
       "    <tr>\n",
       "      <th>1</th>\n",
       "      <td>0.232663</td>\n",
       "      <td>0.006948</td>\n",
       "      <td>0.026537</td>\n",
       "      <td>0.000984</td>\n",
       "      <td>gini</td>\n",
       "      <td>1</td>\n",
       "      <td>200</td>\n",
       "      <td>{'criterion': 'gini', 'min_samples_leaf': 1, '...</td>\n",
       "      <td>0.816216</td>\n",
       "      <td>0.827027</td>\n",
       "      <td>...</td>\n",
       "      <td>0.828288</td>\n",
       "      <td>0.014621</td>\n",
       "      <td>10</td>\n",
       "      <td>1.000000</td>\n",
       "      <td>1.000000</td>\n",
       "      <td>1.000000</td>\n",
       "      <td>1.000000</td>\n",
       "      <td>1.000000</td>\n",
       "      <td>1.000000</td>\n",
       "      <td>0.000000</td>\n",
       "    </tr>\n",
       "    <tr>\n",
       "      <th>2</th>\n",
       "      <td>0.124277</td>\n",
       "      <td>0.001912</td>\n",
       "      <td>0.015106</td>\n",
       "      <td>0.000230</td>\n",
       "      <td>gini</td>\n",
       "      <td>2</td>\n",
       "      <td>100</td>\n",
       "      <td>{'criterion': 'gini', 'min_samples_leaf': 2, '...</td>\n",
       "      <td>0.809009</td>\n",
       "      <td>0.836036</td>\n",
       "      <td>...</td>\n",
       "      <td>0.826843</td>\n",
       "      <td>0.016142</td>\n",
       "      <td>14</td>\n",
       "      <td>0.981958</td>\n",
       "      <td>0.984664</td>\n",
       "      <td>0.988278</td>\n",
       "      <td>0.986925</td>\n",
       "      <td>0.986925</td>\n",
       "      <td>0.985750</td>\n",
       "      <td>0.002223</td>\n",
       "    </tr>\n",
       "    <tr>\n",
       "      <th>3</th>\n",
       "      <td>0.230462</td>\n",
       "      <td>0.005473</td>\n",
       "      <td>0.026365</td>\n",
       "      <td>0.000571</td>\n",
       "      <td>gini</td>\n",
       "      <td>2</td>\n",
       "      <td>200</td>\n",
       "      <td>{'criterion': 'gini', 'min_samples_leaf': 2, '...</td>\n",
       "      <td>0.819820</td>\n",
       "      <td>0.823423</td>\n",
       "      <td>...</td>\n",
       "      <td>0.830093</td>\n",
       "      <td>0.015557</td>\n",
       "      <td>6</td>\n",
       "      <td>0.983762</td>\n",
       "      <td>0.985115</td>\n",
       "      <td>0.985122</td>\n",
       "      <td>0.986474</td>\n",
       "      <td>0.984220</td>\n",
       "      <td>0.984939</td>\n",
       "      <td>0.000930</td>\n",
       "    </tr>\n",
       "    <tr>\n",
       "      <th>4</th>\n",
       "      <td>0.123683</td>\n",
       "      <td>0.004156</td>\n",
       "      <td>0.015065</td>\n",
       "      <td>0.000163</td>\n",
       "      <td>gini</td>\n",
       "      <td>3</td>\n",
       "      <td>100</td>\n",
       "      <td>{'criterion': 'gini', 'min_samples_leaf': 3, '...</td>\n",
       "      <td>0.821622</td>\n",
       "      <td>0.834234</td>\n",
       "      <td>...</td>\n",
       "      <td>0.830810</td>\n",
       "      <td>0.014295</td>\n",
       "      <td>4</td>\n",
       "      <td>0.955796</td>\n",
       "      <td>0.959405</td>\n",
       "      <td>0.961677</td>\n",
       "      <td>0.956267</td>\n",
       "      <td>0.962128</td>\n",
       "      <td>0.959055</td>\n",
       "      <td>0.002640</td>\n",
       "    </tr>\n",
       "  </tbody>\n",
       "</table>\n",
       "<p>5 rows × 23 columns</p>\n",
       "</div>"
      ],
      "text/plain": [
       "   mean_fit_time  std_fit_time  mean_score_time  std_score_time  \\\n",
       "0       0.356214      0.457836         0.015397        0.000321   \n",
       "1       0.232663      0.006948         0.026537        0.000984   \n",
       "2       0.124277      0.001912         0.015106        0.000230   \n",
       "3       0.230462      0.005473         0.026365        0.000571   \n",
       "4       0.123683      0.004156         0.015065        0.000163   \n",
       "\n",
       "  param_criterion param_min_samples_leaf param_n_estimators  \\\n",
       "0            gini                      1                100   \n",
       "1            gini                      1                200   \n",
       "2            gini                      2                100   \n",
       "3            gini                      2                200   \n",
       "4            gini                      3                100   \n",
       "\n",
       "                                              params  split0_test_score  \\\n",
       "0  {'criterion': 'gini', 'min_samples_leaf': 1, '...           0.823423   \n",
       "1  {'criterion': 'gini', 'min_samples_leaf': 1, '...           0.816216   \n",
       "2  {'criterion': 'gini', 'min_samples_leaf': 2, '...           0.809009   \n",
       "3  {'criterion': 'gini', 'min_samples_leaf': 2, '...           0.819820   \n",
       "4  {'criterion': 'gini', 'min_samples_leaf': 3, '...           0.821622   \n",
       "\n",
       "   split1_test_score  ...  mean_test_score  std_test_score  rank_test_score  \\\n",
       "0           0.830631  ...         0.826118        0.009870               18   \n",
       "1           0.827027  ...         0.828288        0.014621               10   \n",
       "2           0.836036  ...         0.826843        0.016142               14   \n",
       "3           0.823423  ...         0.830093        0.015557                6   \n",
       "4           0.834234  ...         0.830810        0.014295                4   \n",
       "\n",
       "   split0_train_score  split1_train_score  split2_train_score  \\\n",
       "0            1.000000            1.000000            1.000000   \n",
       "1            1.000000            1.000000            1.000000   \n",
       "2            0.981958            0.984664            0.988278   \n",
       "3            0.983762            0.985115            0.985122   \n",
       "4            0.955796            0.959405            0.961677   \n",
       "\n",
       "   split3_train_score  split4_train_score  mean_train_score  std_train_score  \n",
       "0            1.000000            1.000000          1.000000         0.000000  \n",
       "1            1.000000            1.000000          1.000000         0.000000  \n",
       "2            0.986925            0.986925          0.985750         0.002223  \n",
       "3            0.986474            0.984220          0.984939         0.000930  \n",
       "4            0.956267            0.962128          0.959055         0.002640  \n",
       "\n",
       "[5 rows x 23 columns]"
      ]
     },
     "execution_count": 10,
     "metadata": {},
     "output_type": "execute_result"
    }
   ],
   "source": [
    "results = pd.DataFrame(grid.cv_results_)\n",
    "results.head()"
   ]
  },
  {
   "cell_type": "code",
   "execution_count": 11,
   "metadata": {},
   "outputs": [],
   "source": [
    "#Now that  found my best parameters I combine train and val and I do it one more time"
   ]
  },
  {
   "cell_type": "code",
   "execution_count": 12,
   "metadata": {},
   "outputs": [
    {
     "name": "stdout",
     "output_type": "stream",
     "text": [
      "RandomForestClassifier(criterion='entropy', n_estimators=200, n_jobs=-1,\n",
      "                       oob_score=True)\n",
      "Train Data: (1.0, 0.8095838587641866)\n",
      "Train and Validation Data Concat: 1.0\n",
      "Validation Data : 1.0\n",
      "Final result Test Data: 0.8535353535353535\n"
     ]
    }
   ],
   "source": [
    "#Choose the best parameter and run a final test from one of those:\n",
    "#1 - Previus tuning or\n",
    "#2 - GridSearch\n",
    "best_rf = grid.best_estimator_ #Chose this because GridSearch got a 0.883 score\n",
    "#best_rf = rf\n",
    "print(best_rf)\n",
    "#Run one more time on the train data\n",
    "best_rf.fit(X_train, y_train)\n",
    "print(f'Train Data: {best_rf.score(X_train, y_train), best_rf.score(X_val, y_val)}')\n",
    "#Concatenate the train and test\n",
    "X_train_c = pd.concat([X_train, X_val], ignore_index=True)\n",
    "y_train_c = pd.concat([y_train, y_val], ignore_index=True)\n",
    "best_rf.fit(X_train_c, y_train_c)\n",
    "print(f'Train and Validation Data Concat: {best_rf.score(X_train_c,y_train_c)}')\n",
    "print(f'Validation Data : {best_rf.score(X_val,y_val)}')\n",
    "print(f'Final result Test Data: {best_rf.score(X_test,y_test)}')"
   ]
  },
  {
   "cell_type": "code",
   "execution_count": 13,
   "metadata": {},
   "outputs": [],
   "source": [
    "predictions = best_rf.predict(X_test)\n",
    "actual = y_test.tolist()\n",
    "\n",
    "pred_act=pd.DataFrame({\"Prediction\": predictions, \"Actual\": y_test}).reset_index(drop=True)\n"
   ]
  },
  {
   "cell_type": "code",
   "execution_count": 14,
   "metadata": {},
   "outputs": [
    {
     "name": "stdout",
     "output_type": "stream",
     "text": [
      "              precision    recall  f1-score   support\n",
      "\n",
      "        Fair       0.87      0.96      0.91       305\n",
      "   Very Good       0.78      0.51      0.61        91\n",
      "\n",
      "    accuracy                           0.85       396\n",
      "   macro avg       0.82      0.73      0.76       396\n",
      "weighted avg       0.85      0.85      0.84       396\n",
      "\n"
     ]
    }
   ],
   "source": [
    "# Calculate classification report\n",
    "y_names = ['Fair','Very Good']\n",
    "\n",
    "print(classification_report(y_test, predictions,\n",
    "                            target_names=y_names))"
   ]
  },
  {
   "cell_type": "code",
   "execution_count": 15,
   "metadata": {},
   "outputs": [
    {
     "data": {
      "image/png": "[encoded data removed]",
      "text/plain": [
       "<Figure size 432x288 with 2 Axes>"
      ]
     },
     "metadata": {
      "needs_background": "light"
     },
     "output_type": "display_data"
    }
   ],
   "source": [
    "plot_confusion_matrix(best_rf, X_test, y_test)  \n",
    "plt.show() "
   ]
  },
  {
   "cell_type": "code",
   "execution_count": 16,
   "metadata": {},
   "outputs": [
    {
     "data": {
      "image/png": "[encoded data removed]",
      "text/plain": [
       "<Figure size 432x288 with 1 Axes>"
      ]
     },
     "metadata": {
      "needs_background": "light"
     },
     "output_type": "display_data"
    }
   ],
   "source": [
    "rf_disp = plot_roc_curve(best_rf, X_test, y_test)\n",
    "plt.show()"
   ]
  },
  {
   "cell_type": "code",
   "execution_count": 17,
   "metadata": {},
   "outputs": [
    {
     "data": {
      "image/png": "[encoded data removed]",
      "text/plain": [
       "<Figure size 432x288 with 1 Axes>"
      ]
     },
     "metadata": {
      "needs_background": "light"
     },
     "output_type": "display_data"
    }
   ],
   "source": [
    "rf_disp = metrics.plot_det_curve(best_rf, X_test, y_test)  \n",
    "plt.show()   "
   ]
  },
  {
   "cell_type": "markdown",
   "metadata": {},
   "source": [
    "## Display features importance"
   ]
  },
  {
   "cell_type": "code",
   "execution_count": 18,
   "metadata": {},
   "outputs": [
    {
     "data": {
      "image/png": "[encoded data removed]",
      "text/plain": [
       "<Figure size 288x175.68 with 1 Axes>"
      ]
     },
     "metadata": {
      "needs_background": "light"
     },
     "output_type": "display_data"
    }
   ],
   "source": [
    "from rfpimp import *\n",
    "imp = importances(best_rf, X_test, y_test, n_samples=-1)\n",
    "\n",
    "viz = plot_importances(imp)\n",
    "viz.view()"
   ]
  },
  {
   "cell_type": "code",
   "execution_count": 19,
   "metadata": {},
   "outputs": [
    {
     "name": "stdout",
     "output_type": "stream",
     "text": [
      "(3961, 8) (3961,)\n"
     ]
    }
   ],
   "source": [
    "# Drop less import features\n",
    "X = df.drop(['sulphates','fixed acidity', 'volatile acidity','quality'], axis = 1)\n",
    "y = df['quality']\n",
    "print(X.shape, y.shape)"
   ]
  },
  {
   "cell_type": "code",
   "execution_count": 20,
   "metadata": {},
   "outputs": [
    {
     "name": "stdout",
     "output_type": "stream",
     "text": [
      "(2772, 8) (793, 8) (396, 8) (2772,) (793,) (396,)\n"
     ]
    }
   ],
   "source": [
    "X_train, X_, y_train, y_ = train_test_split(X,y,train_size=.7,random_state=3)\n",
    "X_val,X_test, y_val, y_test = train_test_split(X_,y_,test_size=.333,random_state=3)\n",
    "\n",
    "print(X_train.shape, X_val.shape, X_test.shape, y_train.shape, y_val.shape, y_test.shape)"
   ]
  },
  {
   "cell_type": "code",
   "execution_count": 21,
   "metadata": {},
   "outputs": [
    {
     "name": "stdout",
     "output_type": "stream",
     "text": [
      "RandomForestClassifier(criterion='entropy', n_estimators=200, n_jobs=-1,\n",
      "                       oob_score=True)\n",
      "Train Data: (1.0, 0.8171500630517023)\n",
      "Train and Validation Data Concat: 1.0\n",
      "Validation Data : 1.0\n",
      "Final result Test Data: 0.8535353535353535\n"
     ]
    }
   ],
   "source": [
    "best_rf = grid.best_estimator_ #Chose this because GridSearch got a 0.883 score\n",
    "#best_rf = rf\n",
    "print(best_rf)\n",
    "#Run one more time on the train data\n",
    "best_rf.fit(X_train, y_train)\n",
    "print(f'Train Data: {best_rf.score(X_train, y_train), best_rf.score(X_val, y_val)}')\n",
    "#Concatenate the train and test\n",
    "X_train_c = pd.concat([X_train, X_val], ignore_index=True)\n",
    "y_train_c = pd.concat([y_train, y_val], ignore_index=True)\n",
    "best_rf.fit(X_train_c, y_train_c)\n",
    "print(f'Train and Validation Data Concat: {best_rf.score(X_train_c,y_train_c)}')\n",
    "print(f'Validation Data : {best_rf.score(X_val,y_val)}')\n",
    "print(f'Final result Test Data: {best_rf.score(X_test,y_test)}')"
   ]
  },
  {
   "cell_type": "code",
   "execution_count": 22,
   "metadata": {},
   "outputs": [],
   "source": [
    "predictions = best_rf.predict(X_test)\n",
    "actual = y_test.tolist()\n",
    "\n",
    "pred_act=pd.DataFrame({\"Prediction\": predictions, \"Actual\": y_test}).reset_index(drop=True)\n"
   ]
  },
  {
   "cell_type": "code",
   "execution_count": 23,
   "metadata": {},
   "outputs": [
    {
     "name": "stdout",
     "output_type": "stream",
     "text": [
      "              precision    recall  f1-score   support\n",
      "\n",
      "        Fair       0.87      0.96      0.91       305\n",
      "   Very Good       0.78      0.51      0.61        91\n",
      "\n",
      "    accuracy                           0.85       396\n",
      "   macro avg       0.82      0.73      0.76       396\n",
      "weighted avg       0.85      0.85      0.84       396\n",
      "\n"
     ]
    }
   ],
   "source": [
    "# Calculate classification report\n",
    "y_names = ['Fair','Very Good']\n",
    "\n",
    "print(classification_report(y_test, predictions,\n",
    "                            target_names=y_names))"
   ]
  },
  {
   "cell_type": "code",
   "execution_count": 24,
   "metadata": {},
   "outputs": [
    {
     "data": {
      "image/png": "[encoded data removed]",
      "text/plain": [
       "<Figure size 432x288 with 2 Axes>"
      ]
     },
     "metadata": {
      "needs_background": "light"
     },
     "output_type": "display_data"
    }
   ],
   "source": [
    "plot_confusion_matrix(best_rf, X_test, y_test)  \n",
    "plt.show()"
   ]
  },
  {
   "cell_type": "code",
   "execution_count": 25,
   "metadata": {},
   "outputs": [
    {
     "data": {
      "image/png": "[encoded data removed]",
      "text/plain": [
       "<Figure size 432x288 with 1 Axes>"
      ]
     },
     "metadata": {
      "needs_background": "light"
     },
     "output_type": "display_data"
    }
   ],
   "source": [
    "rf_disp = plot_roc_curve(best_rf, X_test, y_test)\n",
    "plt.show()"
   ]
  },
  {
   "cell_type": "code",
   "execution_count": 26,
   "metadata": {},
   "outputs": [
    {
     "data": {
      "image/png": "[encoded data removed]",
      "text/plain": [
       "<Figure size 432x288 with 1 Axes>"
      ]
     },
     "metadata": {
      "needs_background": "light"
     },
     "output_type": "display_data"
    }
   ],
   "source": [
    "rf_disp = metrics.plot_det_curve(best_rf, X_test, y_test)  \n",
    "plt.show() "
   ]
  },
  {
   "cell_type": "code",
   "execution_count": null,
   "metadata": {},
   "outputs": [],
   "source": []
  }
 ],
 "metadata": {
  "kernel_info": {
   "name": "dev"
  },
  "kernelspec": {
   "display_name": "Python 3 (ipykernel)",
   "language": "python",
   "name": "python3"
  },
  "language_info": {
   "codemirror_mode": {
    "name": "ipython",
    "version": 3
   },
   "file_extension": ".py",
   "mimetype": "text/x-python",
   "name": "python",
   "nbconvert_exporter": "python",
   "pygments_lexer": "ipython3",
   "version": "3.8.8"
  },
  "nteract": {
   "version": "0.12.3"
  }
 },
 "nbformat": 4,
 "nbformat_minor": 2
}
