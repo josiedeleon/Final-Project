{
 "cells": [
  {
   "cell_type": "code",
   "execution_count": 1,
   "metadata": {},
   "outputs": [],
   "source": [
    "import pandas as pd\n",
    "import numpy as np\n",
    "import matplotlib.pyplot as plt\n",
    "import seaborn as sns\n",
    "import os\n",
    "import random\n",
    "\n",
    "from sklearn.model_selection import train_test_split, GridSearchCV, cross_val_score\n",
    "from sklearn.preprocessing import StandardScaler, MinMaxScaler, LabelEncoder\n",
    "from tensorflow.keras.utils import to_categorical\n",
    "from sklearn.metrics import confusion_matrix\n",
    "import tensorflow as tf"
   ]
  },
  {
   "cell_type": "code",
   "execution_count": 2,
   "metadata": {},
   "outputs": [
    {
     "data": {
      "text/html": [
       "<div>\n",
       "<style scoped>\n",
       "    .dataframe tbody tr th:only-of-type {\n",
       "        vertical-align: middle;\n",
       "    }\n",
       "\n",
       "    .dataframe tbody tr th {\n",
       "        vertical-align: top;\n",
       "    }\n",
       "\n",
       "    .dataframe thead th {\n",
       "        text-align: right;\n",
       "    }\n",
       "</style>\n",
       "<table border=\"1\" class=\"dataframe\">\n",
       "  <thead>\n",
       "    <tr style=\"text-align: right;\">\n",
       "      <th></th>\n",
       "      <th>fixed acidity</th>\n",
       "      <th>volatile acidity</th>\n",
       "      <th>citric acid</th>\n",
       "      <th>residual sugar</th>\n",
       "      <th>chlorides</th>\n",
       "      <th>free sulfur dioxide</th>\n",
       "      <th>total sulfur dioxide</th>\n",
       "      <th>density</th>\n",
       "      <th>pH</th>\n",
       "      <th>sulphates</th>\n",
       "      <th>alcohol</th>\n",
       "      <th>quality</th>\n",
       "    </tr>\n",
       "  </thead>\n",
       "  <tbody>\n",
       "    <tr>\n",
       "      <th>0</th>\n",
       "      <td>7.0</td>\n",
       "      <td>0.27</td>\n",
       "      <td>0.36</td>\n",
       "      <td>20.7</td>\n",
       "      <td>0.045</td>\n",
       "      <td>45.0</td>\n",
       "      <td>170.0</td>\n",
       "      <td>1.0010</td>\n",
       "      <td>3.00</td>\n",
       "      <td>0.45</td>\n",
       "      <td>8.8</td>\n",
       "      <td>6</td>\n",
       "    </tr>\n",
       "    <tr>\n",
       "      <th>1</th>\n",
       "      <td>6.3</td>\n",
       "      <td>0.30</td>\n",
       "      <td>0.34</td>\n",
       "      <td>1.6</td>\n",
       "      <td>0.049</td>\n",
       "      <td>14.0</td>\n",
       "      <td>132.0</td>\n",
       "      <td>0.9940</td>\n",
       "      <td>3.30</td>\n",
       "      <td>0.49</td>\n",
       "      <td>9.5</td>\n",
       "      <td>6</td>\n",
       "    </tr>\n",
       "    <tr>\n",
       "      <th>2</th>\n",
       "      <td>8.1</td>\n",
       "      <td>0.28</td>\n",
       "      <td>0.40</td>\n",
       "      <td>6.9</td>\n",
       "      <td>0.050</td>\n",
       "      <td>30.0</td>\n",
       "      <td>97.0</td>\n",
       "      <td>0.9951</td>\n",
       "      <td>3.26</td>\n",
       "      <td>0.44</td>\n",
       "      <td>10.1</td>\n",
       "      <td>6</td>\n",
       "    </tr>\n",
       "    <tr>\n",
       "      <th>3</th>\n",
       "      <td>7.2</td>\n",
       "      <td>0.23</td>\n",
       "      <td>0.32</td>\n",
       "      <td>8.5</td>\n",
       "      <td>0.058</td>\n",
       "      <td>47.0</td>\n",
       "      <td>186.0</td>\n",
       "      <td>0.9956</td>\n",
       "      <td>3.19</td>\n",
       "      <td>0.40</td>\n",
       "      <td>9.9</td>\n",
       "      <td>6</td>\n",
       "    </tr>\n",
       "    <tr>\n",
       "      <th>4</th>\n",
       "      <td>7.2</td>\n",
       "      <td>0.23</td>\n",
       "      <td>0.32</td>\n",
       "      <td>8.5</td>\n",
       "      <td>0.058</td>\n",
       "      <td>47.0</td>\n",
       "      <td>186.0</td>\n",
       "      <td>0.9956</td>\n",
       "      <td>3.19</td>\n",
       "      <td>0.40</td>\n",
       "      <td>9.9</td>\n",
       "      <td>6</td>\n",
       "    </tr>\n",
       "  </tbody>\n",
       "</table>\n",
       "</div>"
      ],
      "text/plain": [
       "   fixed acidity  volatile acidity  citric acid  residual sugar  chlorides  \\\n",
       "0            7.0              0.27         0.36            20.7      0.045   \n",
       "1            6.3              0.30         0.34             1.6      0.049   \n",
       "2            8.1              0.28         0.40             6.9      0.050   \n",
       "3            7.2              0.23         0.32             8.5      0.058   \n",
       "4            7.2              0.23         0.32             8.5      0.058   \n",
       "\n",
       "   free sulfur dioxide  total sulfur dioxide  density    pH  sulphates  \\\n",
       "0                 45.0                 170.0   1.0010  3.00       0.45   \n",
       "1                 14.0                 132.0   0.9940  3.30       0.49   \n",
       "2                 30.0                  97.0   0.9951  3.26       0.44   \n",
       "3                 47.0                 186.0   0.9956  3.19       0.40   \n",
       "4                 47.0                 186.0   0.9956  3.19       0.40   \n",
       "\n",
       "   alcohol  quality  \n",
       "0      8.8        6  \n",
       "1      9.5        6  \n",
       "2     10.1        6  \n",
       "3      9.9        6  \n",
       "4      9.9        6  "
      ]
     },
     "execution_count": 2,
     "metadata": {},
     "output_type": "execute_result"
    }
   ],
   "source": [
    "#import CSV file\n",
    "white_df = pd.read_csv('../Resources/Data/winequality-white.csv', delimiter=';')\n",
    "white_df.head()"
   ]
  },
  {
   "cell_type": "code",
   "execution_count": 3,
   "metadata": {},
   "outputs": [],
   "source": [
    "# drop duplicate data\n",
    "white_df = white_df.drop_duplicates(keep = 'first', inplace = False)\n",
    "white_df = white_df.dropna(axis = 'columns', how='all')\n",
    "white_df = white_df.reset_index(drop = True)\n",
    "#white_df"
   ]
  },
  {
   "cell_type": "code",
   "execution_count": 4,
   "metadata": {},
   "outputs": [
    {
     "data": {
      "text/html": [
       "<div>\n",
       "<style scoped>\n",
       "    .dataframe tbody tr th:only-of-type {\n",
       "        vertical-align: middle;\n",
       "    }\n",
       "\n",
       "    .dataframe tbody tr th {\n",
       "        vertical-align: top;\n",
       "    }\n",
       "\n",
       "    .dataframe thead th {\n",
       "        text-align: right;\n",
       "    }\n",
       "</style>\n",
       "<table border=\"1\" class=\"dataframe\">\n",
       "  <thead>\n",
       "    <tr style=\"text-align: right;\">\n",
       "      <th></th>\n",
       "      <th>mean</th>\n",
       "      <th>std</th>\n",
       "      <th>min</th>\n",
       "      <th>25%</th>\n",
       "      <th>50%</th>\n",
       "      <th>75%</th>\n",
       "      <th>max</th>\n",
       "    </tr>\n",
       "  </thead>\n",
       "  <tbody>\n",
       "    <tr>\n",
       "      <th>fixed acidity</th>\n",
       "      <td>6.839346</td>\n",
       "      <td>0.866860</td>\n",
       "      <td>3.80000</td>\n",
       "      <td>6.30000</td>\n",
       "      <td>6.8000</td>\n",
       "      <td>7.30000</td>\n",
       "      <td>14.20000</td>\n",
       "    </tr>\n",
       "    <tr>\n",
       "      <th>volatile acidity</th>\n",
       "      <td>0.280538</td>\n",
       "      <td>0.103437</td>\n",
       "      <td>0.08000</td>\n",
       "      <td>0.21000</td>\n",
       "      <td>0.2600</td>\n",
       "      <td>0.33000</td>\n",
       "      <td>1.10000</td>\n",
       "    </tr>\n",
       "    <tr>\n",
       "      <th>citric acid</th>\n",
       "      <td>0.334332</td>\n",
       "      <td>0.122446</td>\n",
       "      <td>0.00000</td>\n",
       "      <td>0.27000</td>\n",
       "      <td>0.3200</td>\n",
       "      <td>0.39000</td>\n",
       "      <td>1.66000</td>\n",
       "    </tr>\n",
       "    <tr>\n",
       "      <th>residual sugar</th>\n",
       "      <td>5.914819</td>\n",
       "      <td>4.861646</td>\n",
       "      <td>0.60000</td>\n",
       "      <td>1.60000</td>\n",
       "      <td>4.7000</td>\n",
       "      <td>8.90000</td>\n",
       "      <td>65.80000</td>\n",
       "    </tr>\n",
       "    <tr>\n",
       "      <th>chlorides</th>\n",
       "      <td>0.045905</td>\n",
       "      <td>0.023103</td>\n",
       "      <td>0.00900</td>\n",
       "      <td>0.03500</td>\n",
       "      <td>0.0420</td>\n",
       "      <td>0.05000</td>\n",
       "      <td>0.34600</td>\n",
       "    </tr>\n",
       "    <tr>\n",
       "      <th>free sulfur dioxide</th>\n",
       "      <td>34.889169</td>\n",
       "      <td>17.210021</td>\n",
       "      <td>2.00000</td>\n",
       "      <td>23.00000</td>\n",
       "      <td>33.0000</td>\n",
       "      <td>45.00000</td>\n",
       "      <td>289.00000</td>\n",
       "    </tr>\n",
       "    <tr>\n",
       "      <th>total sulfur dioxide</th>\n",
       "      <td>137.193512</td>\n",
       "      <td>43.129065</td>\n",
       "      <td>9.00000</td>\n",
       "      <td>106.00000</td>\n",
       "      <td>133.0000</td>\n",
       "      <td>166.00000</td>\n",
       "      <td>440.00000</td>\n",
       "    </tr>\n",
       "    <tr>\n",
       "      <th>density</th>\n",
       "      <td>0.993790</td>\n",
       "      <td>0.002905</td>\n",
       "      <td>0.98711</td>\n",
       "      <td>0.99162</td>\n",
       "      <td>0.9935</td>\n",
       "      <td>0.99571</td>\n",
       "      <td>1.03898</td>\n",
       "    </tr>\n",
       "    <tr>\n",
       "      <th>pH</th>\n",
       "      <td>3.195458</td>\n",
       "      <td>0.151546</td>\n",
       "      <td>2.72000</td>\n",
       "      <td>3.09000</td>\n",
       "      <td>3.1800</td>\n",
       "      <td>3.29000</td>\n",
       "      <td>3.82000</td>\n",
       "    </tr>\n",
       "    <tr>\n",
       "      <th>sulphates</th>\n",
       "      <td>0.490351</td>\n",
       "      <td>0.113523</td>\n",
       "      <td>0.22000</td>\n",
       "      <td>0.41000</td>\n",
       "      <td>0.4800</td>\n",
       "      <td>0.55000</td>\n",
       "      <td>1.08000</td>\n",
       "    </tr>\n",
       "    <tr>\n",
       "      <th>alcohol</th>\n",
       "      <td>10.589358</td>\n",
       "      <td>1.217076</td>\n",
       "      <td>8.00000</td>\n",
       "      <td>9.50000</td>\n",
       "      <td>10.4000</td>\n",
       "      <td>11.40000</td>\n",
       "      <td>14.20000</td>\n",
       "    </tr>\n",
       "    <tr>\n",
       "      <th>quality</th>\n",
       "      <td>5.854835</td>\n",
       "      <td>0.890683</td>\n",
       "      <td>3.00000</td>\n",
       "      <td>5.00000</td>\n",
       "      <td>6.0000</td>\n",
       "      <td>6.00000</td>\n",
       "      <td>9.00000</td>\n",
       "    </tr>\n",
       "  </tbody>\n",
       "</table>\n",
       "</div>"
      ],
      "text/plain": [
       "                            mean        std      min        25%       50%  \\\n",
       "fixed acidity           6.839346   0.866860  3.80000    6.30000    6.8000   \n",
       "volatile acidity        0.280538   0.103437  0.08000    0.21000    0.2600   \n",
       "citric acid             0.334332   0.122446  0.00000    0.27000    0.3200   \n",
       "residual sugar          5.914819   4.861646  0.60000    1.60000    4.7000   \n",
       "chlorides               0.045905   0.023103  0.00900    0.03500    0.0420   \n",
       "free sulfur dioxide    34.889169  17.210021  2.00000   23.00000   33.0000   \n",
       "total sulfur dioxide  137.193512  43.129065  9.00000  106.00000  133.0000   \n",
       "density                 0.993790   0.002905  0.98711    0.99162    0.9935   \n",
       "pH                      3.195458   0.151546  2.72000    3.09000    3.1800   \n",
       "sulphates               0.490351   0.113523  0.22000    0.41000    0.4800   \n",
       "alcohol                10.589358   1.217076  8.00000    9.50000   10.4000   \n",
       "quality                 5.854835   0.890683  3.00000    5.00000    6.0000   \n",
       "\n",
       "                            75%        max  \n",
       "fixed acidity           7.30000   14.20000  \n",
       "volatile acidity        0.33000    1.10000  \n",
       "citric acid             0.39000    1.66000  \n",
       "residual sugar          8.90000   65.80000  \n",
       "chlorides               0.05000    0.34600  \n",
       "free sulfur dioxide    45.00000  289.00000  \n",
       "total sulfur dioxide  166.00000  440.00000  \n",
       "density                 0.99571    1.03898  \n",
       "pH                      3.29000    3.82000  \n",
       "sulphates               0.55000    1.08000  \n",
       "alcohol                11.40000   14.20000  \n",
       "quality                 6.00000    9.00000  "
      ]
     },
     "execution_count": 4,
     "metadata": {},
     "output_type": "execute_result"
    }
   ],
   "source": [
    "white_stats = white_df.describe()\n",
    "white_stats.drop([\"count\"], axis=0, inplace=True)\n",
    "white_stats.T"
   ]
  },
  {
   "cell_type": "code",
   "execution_count": 5,
   "metadata": {},
   "outputs": [
    {
     "name": "stdout",
     "output_type": "stream",
     "text": [
      "<class 'pandas.core.frame.DataFrame'>\n",
      "RangeIndex: 3961 entries, 0 to 3960\n",
      "Data columns (total 12 columns):\n",
      " #   Column                Non-Null Count  Dtype  \n",
      "---  ------                --------------  -----  \n",
      " 0   fixed acidity         3961 non-null   float64\n",
      " 1   volatile acidity      3961 non-null   float64\n",
      " 2   citric acid           3961 non-null   float64\n",
      " 3   residual sugar        3961 non-null   float64\n",
      " 4   chlorides             3961 non-null   float64\n",
      " 5   free sulfur dioxide   3961 non-null   float64\n",
      " 6   total sulfur dioxide  3961 non-null   float64\n",
      " 7   density               3961 non-null   float64\n",
      " 8   pH                    3961 non-null   float64\n",
      " 9   sulphates             3961 non-null   float64\n",
      " 10  alcohol               3961 non-null   float64\n",
      " 11  quality               3961 non-null   int64  \n",
      "dtypes: float64(11), int64(1)\n",
      "memory usage: 371.5 KB\n"
     ]
    }
   ],
   "source": [
    "#datatype \n",
    "white_df.info()"
   ]
  },
  {
   "cell_type": "code",
   "execution_count": 6,
   "metadata": {},
   "outputs": [
    {
     "data": {
      "text/plain": [
       "fixed acidity           0\n",
       "volatile acidity        0\n",
       "citric acid             0\n",
       "residual sugar          0\n",
       "chlorides               0\n",
       "free sulfur dioxide     0\n",
       "total sulfur dioxide    0\n",
       "density                 0\n",
       "pH                      0\n",
       "sulphates               0\n",
       "alcohol                 0\n",
       "quality                 0\n",
       "dtype: int64"
      ]
     },
     "execution_count": 6,
     "metadata": {},
     "output_type": "execute_result"
    }
   ],
   "source": [
    "# check for null values\n",
    "white_df.isnull().sum()"
   ]
  },
  {
   "cell_type": "code",
   "execution_count": 7,
   "metadata": {},
   "outputs": [
    {
     "data": {
      "text/plain": [
       "(3961, 12)"
      ]
     },
     "execution_count": 7,
     "metadata": {},
     "output_type": "execute_result"
    }
   ],
   "source": [
    "white_df.shape"
   ]
  },
  {
   "cell_type": "code",
   "execution_count": 8,
   "metadata": {},
   "outputs": [
    {
     "data": {
      "text/plain": [
       "6    1788\n",
       "5    1175\n",
       "7     689\n",
       "4     153\n",
       "8     131\n",
       "3      20\n",
       "9       5\n",
       "Name: quality, dtype: int64"
      ]
     },
     "execution_count": 8,
     "metadata": {},
     "output_type": "execute_result"
    }
   ],
   "source": [
    "white_df['quality'].value_counts()"
   ]
  },
  {
   "cell_type": "code",
   "execution_count": 9,
   "metadata": {},
   "outputs": [],
   "source": [
    "# Features for Quality\n",
    "bins = [2,6,9]\n",
    "group_names = ['Fair','Very Good']\n",
    "white_df['quality'] = pd.cut(white_df['quality'], bins, labels = group_names)"
   ]
  },
  {
   "cell_type": "code",
   "execution_count": 10,
   "metadata": {},
   "outputs": [],
   "source": [
    "X = white_df.drop(\"quality\", axis =1)\n",
    "y = white_df[\"quality\"]"
   ]
  },
  {
   "cell_type": "code",
   "execution_count": 11,
   "metadata": {},
   "outputs": [
    {
     "data": {
      "text/plain": [
       "Fair         3136\n",
       "Very Good     825\n",
       "Name: quality, dtype: int64"
      ]
     },
     "execution_count": 11,
     "metadata": {},
     "output_type": "execute_result"
    }
   ],
   "source": [
    "white_df['quality'].value_counts()"
   ]
  },
  {
   "cell_type": "code",
   "execution_count": 12,
   "metadata": {},
   "outputs": [],
   "source": [
    "# Feature Importance\n",
    "\n",
    "from sklearn.ensemble import ExtraTreesClassifier\n",
    "#model = ExtraTreesClassifier()\n",
    "#model.fit(X,y)\n",
    "#print(model.feature_importances_)\n",
    "\n",
    "#feat_importances = pd.Series(model.feature_importances_, index = X.columns)\n",
    "#feat_importances.nlargest(10).plot(kind= \"barh\" , color = \"#EEEDC4\")\n",
    "#plt.savefig('Resources/images/white_features_importance.jpg')\n",
    "#plt.show()"
   ]
  },
  {
   "cell_type": "code",
   "execution_count": 13,
   "metadata": {},
   "outputs": [],
   "source": [
    "#feat_importances.sort_values(ascending=False)"
   ]
  },
  {
   "cell_type": "markdown",
   "metadata": {},
   "source": [
    "# Create a Train Test Split \n",
    "\n",
    "## All Features"
   ]
  },
  {
   "cell_type": "code",
   "execution_count": null,
   "metadata": {},
   "outputs": [],
   "source": [
    "# Split the data using train_test_split\n",
    "# create the train and validation datasets\n",
    "\n",
    "from sklearn.model_selection import train_test_split\n",
    "X_train, X_left, y_train, y_left = train_test_split(X, y, train_size=.7)\n",
    "X_val, X_test, y_val, y_test = train_test_split(X_left, y_left, train_size=.7)"
   ]
  },
  {
   "cell_type": "code",
   "execution_count": null,
   "metadata": {},
   "outputs": [],
   "source": [
    "X_train.shape, X_val.shape, X_test.shape, y_train.shape, y_val.shape, y_test.shape"
   ]
  },
  {
   "cell_type": "markdown",
   "metadata": {},
   "source": [
    "# Pre-pocessing "
   ]
  },
  {
   "cell_type": "code",
   "execution_count": null,
   "metadata": {},
   "outputs": [],
   "source": [
    "# Scale the data using the StandardScaler \n",
    "X_scale = StandardScaler().fit(X_train)"
   ]
  },
  {
   "cell_type": "code",
   "execution_count": null,
   "metadata": {},
   "outputs": [],
   "source": [
    "X_train_scaled = X_scale.transform(X_train)\n",
    "X_test_scaled = X_scale.transform(X_test)"
   ]
  },
  {
   "cell_type": "code",
   "execution_count": null,
   "metadata": {},
   "outputs": [],
   "source": [
    "# Step 1: Label-encode data set\n",
    "label_encoder = LabelEncoder()\n",
    "label_encoder.fit(y_train)\n",
    "encoded_y_train = label_encoder.transform(y_train)\n",
    "encoded_y_test = label_encoder.transform(y_test)"
   ]
  },
  {
   "cell_type": "code",
   "execution_count": null,
   "metadata": {},
   "outputs": [],
   "source": [
    "# Step 2: Convert encoded labels to one-hot-encoding\n",
    "y_train_categorical = to_categorical(encoded_y_train)\n",
    "y_test_categorical = to_categorical(encoded_y_test)"
   ]
  },
  {
   "cell_type": "markdown",
   "metadata": {},
   "source": [
    "# Train the Model"
   ]
  },
  {
   "cell_type": "code",
   "execution_count": null,
   "metadata": {},
   "outputs": [],
   "source": [
    "from tensorflow.keras.models import Sequential\n",
    "from tensorflow.keras.layers import Dense"
   ]
  },
  {
   "cell_type": "code",
   "execution_count": null,
   "metadata": {},
   "outputs": [],
   "source": [
    "# Create model and add layers\n",
    "deep_model = Sequential()\n",
    "deep_model.add(Dense(units=20, activation='relu', input_dim=11))\n",
    "deep_model.add(Dense(units=10, activation='relu'))\n",
    "deep_model.add(Dense(units=2, activation='sigmoid'))"
   ]
  },
  {
   "cell_type": "code",
   "execution_count": null,
   "metadata": {},
   "outputs": [],
   "source": [
    "# Compile and fit the model\n",
    "deep_model.compile(optimizer='adam',\n",
    "              loss='categorical_crossentropy',\n",
    "              metrics=['accuracy'])"
   ]
  },
  {
   "cell_type": "code",
   "execution_count": null,
   "metadata": {},
   "outputs": [],
   "source": [
    "deep_model.summary()"
   ]
  },
  {
   "cell_type": "code",
   "execution_count": null,
   "metadata": {},
   "outputs": [],
   "source": [
    "#deep_model.get_config()"
   ]
  },
  {
   "cell_type": "code",
   "execution_count": null,
   "metadata": {},
   "outputs": [],
   "source": [
    "# fit model\n",
    "history = deep_model.fit(\n",
    "    X_train_scaled,\n",
    "    y_train_categorical,\n",
    "    validation_split=.2 ,\n",
    "    epochs=30,\n",
    "    shuffle=True,\n",
    "    verbose=2,\n",
    "    validation_data=(X_test_scaled, y_test_categorical)\n",
    ")"
   ]
  },
  {
   "cell_type": "markdown",
   "metadata": {},
   "source": [
    "# Quantify our Trained Model"
   ]
  },
  {
   "cell_type": "code",
   "execution_count": null,
   "metadata": {},
   "outputs": [],
   "source": [
    "#evaluate the model\n",
    "deep_model_loss, deep_model_accuracy = deep_model.evaluate(\n",
    "    X_test_scaled, y_test_categorical, verbose=2)\n",
    "print(\n",
    "    f\"Normal Neural Network - Loss: {deep_model_loss}, Accuracy: {deep_model_accuracy}\")"
   ]
  },
  {
   "cell_type": "markdown",
   "metadata": {},
   "source": [
    "# Make Predictions"
   ]
  },
  {
   "cell_type": "code",
   "execution_count": null,
   "metadata": {},
   "outputs": [],
   "source": [
    "#from sklearn.metrics import classification_report\n",
    "\n",
    "#encoded_predictions=np.argmax(deep_model.predict(X_test_scaled), axis=-1)\n",
    "#prediction_labels = label_encoder.inverse_transform(encoded_predictions)"
   ]
  },
  {
   "cell_type": "code",
   "execution_count": null,
   "metadata": {},
   "outputs": [],
   "source": [
    "#print(f\"Predicted classes: {prediction_labels}\")\n",
    "#print(f\"Actual Labels: {list(y_test[:5])}\")"
   ]
  },
  {
   "cell_type": "code",
   "execution_count": null,
   "metadata": {},
   "outputs": [],
   "source": [
    "y_pred = deep_model.predict(X_test_scaled)\n",
    "y_pred[:5], y_test_categorical[:5]"
   ]
  },
  {
   "cell_type": "code",
   "execution_count": null,
   "metadata": {},
   "outputs": [],
   "source": [
    "from sklearn.metrics import confusion_matrix, precision_score, recall_score, f1_score, cohen_kappa_score\n",
    "\n",
    "y_pred = y_pred.round()\n",
    "\n",
    "print(confusion_matrix(y_test_categorical.argmax(axis=1), y_pred.argmax(axis=1)))"
   ]
  },
  {
   "cell_type": "markdown",
   "metadata": {},
   "source": [
    "## Results - All Features"
   ]
  },
  {
   "cell_type": "code",
   "execution_count": null,
   "metadata": {},
   "outputs": [],
   "source": [
    "# Plot Confusion Matrix - all features\n",
    "\n",
    "label_aux = plt.subplot()\n",
    "cm_dl_white = confusion_matrix(y_test_categorical.argmax(axis=1), y_pred.argmax(axis=1))\n",
    "cm_dl = pd.DataFrame(cm_dl_white,\n",
    "                     index = ['Fair','Very Good'], \n",
    "                     columns = ['Fair','Very Good'])\n",
    "sns.heatmap(cm_dl,annot=True,cmap=plt.cm.YlGnBu,fmt='3')\n",
    "label_aux.set_xlabel('Predicted Quality');label_aux.set_ylabel('True Quality');\n",
    "label_aux.set_title('Normalized (All Features)')\n",
    "#plt.savefig('Resources/images/dl_white_cm_nor_all.jpg');\n",
    "plt.show()"
   ]
  },
  {
   "cell_type": "code",
   "execution_count": null,
   "metadata": {},
   "outputs": [],
   "source": [
    "# Plot Loss during training - all features\n",
    "from matplotlib import pyplot\n",
    "#pyplot.subplot(211)\n",
    "pyplot.title('Loss')\n",
    "pyplot.plot(history.history['loss'], label='train')\n",
    "pyplot.plot(history.history['val_loss'], label='test')\n",
    "pyplot.legend()\n",
    "#plt.savefig('Resources/images/dl_loss_white_all.jpg')\n",
    "plt.show()"
   ]
  },
  {
   "cell_type": "code",
   "execution_count": null,
   "metadata": {},
   "outputs": [],
   "source": [
    "# plot accuracy during training\n",
    "from matplotlib import pyplot\n",
    "#pyplot.subplot(212)\n",
    "pyplot.title('Accuracy')\n",
    "pyplot.plot(history.history['accuracy'], label='train')\n",
    "pyplot.plot(history.history['val_accuracy'], label='test')\n",
    "pyplot.legend()\n",
    "#plt.savefig('Resources/images/dl_accuracy_white_all.jpg')\n",
    "pyplot.show()"
   ]
  },
  {
   "cell_type": "markdown",
   "metadata": {},
   "source": [
    "# Save the Model"
   ]
  },
  {
   "cell_type": "code",
   "execution_count": null,
   "metadata": {},
   "outputs": [],
   "source": [
    "# Save the Model (test all features, selected features)\n",
    "\n",
    "#filename = 'Resources/results/dl_white_all.h5'"
   ]
  },
  {
   "cell_type": "markdown",
   "metadata": {},
   "source": [
    "# Create a Train Test Split \n",
    "## Top 5 Features"
   ]
  },
  {
   "cell_type": "code",
   "execution_count": 14,
   "metadata": {},
   "outputs": [],
   "source": [
    "# Selected important features - top 5\n",
    "selected_features = X[['alcohol', 'density','free sulfur dioxide','residual sugar','pH']]"
   ]
  },
  {
   "cell_type": "code",
   "execution_count": 15,
   "metadata": {},
   "outputs": [],
   "source": [
    "from sklearn.model_selection import train_test_split\n",
    "X_train, X_left, y_train, y_left = train_test_split(selected_features,y, train_size=.7)\n",
    "X_val, X_test, y_val, y_test = train_test_split(X_left, y_left, train_size=.7)"
   ]
  },
  {
   "cell_type": "code",
   "execution_count": 16,
   "metadata": {},
   "outputs": [
    {
     "data": {
      "text/plain": [
       "((2772, 5), (832, 5), (357, 5), (2772,), (832,), (357,))"
      ]
     },
     "execution_count": 16,
     "metadata": {},
     "output_type": "execute_result"
    }
   ],
   "source": [
    "X_train.shape, X_val.shape, X_test.shape, y_train.shape, y_val.shape, y_test.shape"
   ]
  },
  {
   "cell_type": "markdown",
   "metadata": {},
   "source": [
    "# Pre-pocessing "
   ]
  },
  {
   "cell_type": "code",
   "execution_count": 17,
   "metadata": {},
   "outputs": [],
   "source": [
    "# Scale the data using the StandardScaler and perform some feature selection\n",
    "X_scale = StandardScaler().fit(X_train)"
   ]
  },
  {
   "cell_type": "code",
   "execution_count": 18,
   "metadata": {},
   "outputs": [],
   "source": [
    "X_train_scaled = X_scale.transform(X_train)\n",
    "X_test_scaled = X_scale.transform(X_test)"
   ]
  },
  {
   "cell_type": "code",
   "execution_count": 19,
   "metadata": {},
   "outputs": [
    {
     "name": "stdout",
     "output_type": "stream",
     "text": [
      "(2772, 5) (357, 5) (2772,)\n"
     ]
    }
   ],
   "source": [
    "print(X_train_scaled.shape, X_test_scaled.shape, y_train.shape)"
   ]
  },
  {
   "cell_type": "code",
   "execution_count": 20,
   "metadata": {},
   "outputs": [],
   "source": [
    "# Step 1: Label-encode data set\n",
    "label_encoder = LabelEncoder()\n",
    "label_encoder.fit(y_train)\n",
    "encoded_y_train = label_encoder.transform(y_train)\n",
    "encoded_y_test = label_encoder.transform(y_test)"
   ]
  },
  {
   "cell_type": "code",
   "execution_count": 21,
   "metadata": {},
   "outputs": [],
   "source": [
    "# Step 2: Convert encoded labels to one-hot-encoding\n",
    "y_train_categorical = to_categorical(encoded_y_train)\n",
    "y_test_categorical = to_categorical(encoded_y_test)"
   ]
  },
  {
   "cell_type": "markdown",
   "metadata": {},
   "source": [
    "# Train the Model"
   ]
  },
  {
   "cell_type": "code",
   "execution_count": 22,
   "metadata": {},
   "outputs": [],
   "source": [
    "from tensorflow.keras.models import Sequential\n",
    "from tensorflow.keras.layers import Dense"
   ]
  },
  {
   "cell_type": "code",
   "execution_count": 23,
   "metadata": {},
   "outputs": [],
   "source": [
    "# Create model and add layers\n",
    "deep_model = Sequential()\n",
    "deep_model.add(Dense(units=20, activation='relu', input_dim=5))\n",
    "deep_model.add(Dense(units=20, activation='relu'))\n",
    "deep_model.add(Dense(units=2, activation='sigmoid'))"
   ]
  },
  {
   "cell_type": "code",
   "execution_count": 24,
   "metadata": {},
   "outputs": [],
   "source": [
    "# Compile and fit the model\n",
    "deep_model.compile(optimizer='adam',\n",
    "              loss='categorical_crossentropy',\n",
    "              metrics=['accuracy'])"
   ]
  },
  {
   "cell_type": "code",
   "execution_count": 25,
   "metadata": {},
   "outputs": [
    {
     "name": "stdout",
     "output_type": "stream",
     "text": [
      "Model: \"sequential\"\n",
      "_________________________________________________________________\n",
      "Layer (type)                 Output Shape              Param #   \n",
      "=================================================================\n",
      "dense (Dense)                (None, 20)                120       \n",
      "_________________________________________________________________\n",
      "dense_1 (Dense)              (None, 20)                420       \n",
      "_________________________________________________________________\n",
      "dense_2 (Dense)              (None, 2)                 42        \n",
      "=================================================================\n",
      "Total params: 582\n",
      "Trainable params: 582\n",
      "Non-trainable params: 0\n",
      "_________________________________________________________________\n"
     ]
    }
   ],
   "source": [
    "deep_model.summary()"
   ]
  },
  {
   "cell_type": "code",
   "execution_count": 26,
   "metadata": {},
   "outputs": [
    {
     "name": "stdout",
     "output_type": "stream",
     "text": [
      "Epoch 1/30\n",
      "70/70 - 0s - loss: 0.4947 - accuracy: 0.7812 - val_loss: 0.4675 - val_accuracy: 0.7928\n",
      "Epoch 2/30\n",
      "70/70 - 0s - loss: 0.4145 - accuracy: 0.8088 - val_loss: 0.4536 - val_accuracy: 0.7910\n",
      "Epoch 3/30\n",
      "70/70 - 0s - loss: 0.3975 - accuracy: 0.8236 - val_loss: 0.4502 - val_accuracy: 0.7892\n",
      "Epoch 4/30\n",
      "70/70 - 0s - loss: 0.3935 - accuracy: 0.8191 - val_loss: 0.4510 - val_accuracy: 0.7982\n",
      "Epoch 5/30\n",
      "70/70 - 0s - loss: 0.3906 - accuracy: 0.8232 - val_loss: 0.4516 - val_accuracy: 0.7910\n",
      "Epoch 6/30\n",
      "70/70 - 0s - loss: 0.3895 - accuracy: 0.8236 - val_loss: 0.4514 - val_accuracy: 0.7910\n",
      "Epoch 7/30\n",
      "70/70 - 0s - loss: 0.3877 - accuracy: 0.8236 - val_loss: 0.4510 - val_accuracy: 0.7928\n",
      "Epoch 8/30\n",
      "70/70 - 0s - loss: 0.3861 - accuracy: 0.8286 - val_loss: 0.4474 - val_accuracy: 0.7928\n",
      "Epoch 9/30\n",
      "70/70 - 0s - loss: 0.3850 - accuracy: 0.8259 - val_loss: 0.4474 - val_accuracy: 0.7964\n",
      "Epoch 10/30\n",
      "70/70 - 0s - loss: 0.3845 - accuracy: 0.8272 - val_loss: 0.4503 - val_accuracy: 0.7964\n",
      "Epoch 11/30\n",
      "70/70 - 0s - loss: 0.3837 - accuracy: 0.8268 - val_loss: 0.4484 - val_accuracy: 0.7928\n",
      "Epoch 12/30\n",
      "70/70 - 0s - loss: 0.3827 - accuracy: 0.8241 - val_loss: 0.4482 - val_accuracy: 0.7910\n",
      "Epoch 13/30\n",
      "70/70 - 0s - loss: 0.3817 - accuracy: 0.8263 - val_loss: 0.4488 - val_accuracy: 0.7910\n",
      "Epoch 14/30\n",
      "70/70 - 0s - loss: 0.3817 - accuracy: 0.8263 - val_loss: 0.4460 - val_accuracy: 0.7892\n",
      "Epoch 15/30\n",
      "70/70 - 0s - loss: 0.3800 - accuracy: 0.8268 - val_loss: 0.4472 - val_accuracy: 0.7892\n",
      "Epoch 16/30\n",
      "70/70 - 0s - loss: 0.3796 - accuracy: 0.8286 - val_loss: 0.4486 - val_accuracy: 0.7802\n",
      "Epoch 17/30\n",
      "70/70 - 0s - loss: 0.3794 - accuracy: 0.8245 - val_loss: 0.4486 - val_accuracy: 0.7964\n",
      "Epoch 18/30\n",
      "70/70 - 0s - loss: 0.3782 - accuracy: 0.8254 - val_loss: 0.4484 - val_accuracy: 0.7910\n",
      "Epoch 19/30\n",
      "70/70 - 0s - loss: 0.3780 - accuracy: 0.8277 - val_loss: 0.4507 - val_accuracy: 0.7820\n",
      "Epoch 20/30\n",
      "70/70 - 0s - loss: 0.3772 - accuracy: 0.8268 - val_loss: 0.4511 - val_accuracy: 0.7838\n",
      "Epoch 21/30\n",
      "70/70 - 0s - loss: 0.3767 - accuracy: 0.8268 - val_loss: 0.4484 - val_accuracy: 0.7856\n",
      "Epoch 22/30\n",
      "70/70 - 0s - loss: 0.3763 - accuracy: 0.8268 - val_loss: 0.4472 - val_accuracy: 0.7946\n",
      "Epoch 23/30\n",
      "70/70 - 0s - loss: 0.3757 - accuracy: 0.8290 - val_loss: 0.4490 - val_accuracy: 0.7856\n",
      "Epoch 24/30\n",
      "70/70 - 0s - loss: 0.3754 - accuracy: 0.8286 - val_loss: 0.4501 - val_accuracy: 0.7910\n",
      "Epoch 25/30\n",
      "70/70 - 0s - loss: 0.3777 - accuracy: 0.8313 - val_loss: 0.4520 - val_accuracy: 0.7820\n",
      "Epoch 26/30\n",
      "70/70 - 0s - loss: 0.3752 - accuracy: 0.8281 - val_loss: 0.4476 - val_accuracy: 0.7838\n",
      "Epoch 27/30\n",
      "70/70 - 0s - loss: 0.3743 - accuracy: 0.8304 - val_loss: 0.4487 - val_accuracy: 0.7874\n",
      "Epoch 28/30\n",
      "70/70 - 0s - loss: 0.3744 - accuracy: 0.8268 - val_loss: 0.4506 - val_accuracy: 0.7874\n",
      "Epoch 29/30\n",
      "70/70 - 0s - loss: 0.3735 - accuracy: 0.8295 - val_loss: 0.4487 - val_accuracy: 0.7874\n",
      "Epoch 30/30\n",
      "70/70 - 0s - loss: 0.3722 - accuracy: 0.8309 - val_loss: 0.4477 - val_accuracy: 0.7838\n"
     ]
    }
   ],
   "source": [
    "# fit model\n",
    "history = deep_model.fit(\n",
    "    X_train_scaled,\n",
    "    y_train_categorical,\n",
    "    validation_split=.2 ,\n",
    "    epochs=30,\n",
    "    shuffle=True,\n",
    "    verbose=2,\n",
    "    validation_data=(X_test_scaled, y_test_categorical)\n",
    ")"
   ]
  },
  {
   "cell_type": "markdown",
   "metadata": {},
   "source": [
    "# Quantify our Trained Model"
   ]
  },
  {
   "cell_type": "code",
   "execution_count": 27,
   "metadata": {},
   "outputs": [
    {
     "name": "stdout",
     "output_type": "stream",
     "text": [
      "12/12 - 0s - loss: 0.3867 - accuracy: 0.8179\n",
      "Normal Neural Network - Loss: 0.38668525218963623, Accuracy: 0.8179271817207336\n"
     ]
    }
   ],
   "source": [
    "#evaluate the model\n",
    "deep_model_loss, deep_model_accuracy = deep_model.evaluate(\n",
    "    X_test_scaled, y_test_categorical, verbose=2)\n",
    "print(\n",
    "    f\"Normal Neural Network - Loss: {deep_model_loss}, Accuracy: {deep_model_accuracy}\")"
   ]
  },
  {
   "cell_type": "markdown",
   "metadata": {},
   "source": [
    "# Make Predictions"
   ]
  },
  {
   "cell_type": "code",
   "execution_count": 28,
   "metadata": {},
   "outputs": [],
   "source": [
    "#encoded_predictions = deep_model.predict_classes(X_test_scaled[:5])\n",
    "encoded_predictions=np.argmax(deep_model.predict(X_test_scaled[:5]), axis=-1)\n",
    "prediction_labels = label_encoder.inverse_transform(encoded_predictions)"
   ]
  },
  {
   "cell_type": "code",
   "execution_count": 29,
   "metadata": {},
   "outputs": [
    {
     "name": "stdout",
     "output_type": "stream",
     "text": [
      "Predicted classes: ['Fair' 'Fair' 'Fair' 'Fair' 'Very Good']\n",
      "Actual Labels: ['Very Good', 'Fair', 'Fair', 'Fair', 'Fair']\n"
     ]
    }
   ],
   "source": [
    "print(f\"Predicted classes: {prediction_labels}\")\n",
    "print(f\"Actual Labels: {list(y_test[:5])}\")"
   ]
  },
  {
   "cell_type": "code",
   "execution_count": 31,
   "metadata": {},
   "outputs": [
    {
     "data": {
      "text/plain": [
       "(array([[0.63648856, 0.5020182 ],\n",
       "        [0.80649096, 0.24477124],\n",
       "        [0.685776  , 0.3086305 ],\n",
       "        [0.7684678 , 0.41128856],\n",
       "        [0.53133756, 0.5685638 ]], dtype=float32),\n",
       " array([[0., 1.],\n",
       "        [1., 0.],\n",
       "        [1., 0.],\n",
       "        [1., 0.],\n",
       "        [1., 0.]], dtype=float32))"
      ]
     },
     "execution_count": 31,
     "metadata": {},
     "output_type": "execute_result"
    }
   ],
   "source": [
    "y_pred = deep_model.predict(X_test_scaled)\n",
    "y_pred[:5], y_test_categorical[:5]"
   ]
  },
  {
   "cell_type": "code",
   "execution_count": 32,
   "metadata": {},
   "outputs": [
    {
     "name": "stdout",
     "output_type": "stream",
     "text": [
      "[[269  14]\n",
      " [ 51  23]]\n"
     ]
    }
   ],
   "source": [
    "from sklearn.metrics import confusion_matrix, precision_score, recall_score, f1_score, cohen_kappa_score\n",
    "y_pred = y_pred.round()\n",
    "\n",
    "print(confusion_matrix(y_test_categorical.argmax(axis=1), y_pred.argmax(axis=1)))"
   ]
  },
  {
   "cell_type": "markdown",
   "metadata": {},
   "source": [
    "##  Results"
   ]
  },
  {
   "cell_type": "code",
   "execution_count": 33,
   "metadata": {},
   "outputs": [
    {
     "data": {
      "image/png": "[encoded data removed]",
      "text/plain": [
       "<Figure size 640x480 with 2 Axes>"
      ]
     },
     "metadata": {},
     "output_type": "display_data"
    }
   ],
   "source": [
    "# Plot Confusion Matrix - Top 5 Features\n",
    "label_aux = plt.subplot()\n",
    "cm_dl_white = confusion_matrix(y_test_categorical.argmax(axis=1), y_pred.argmax(axis=1))\n",
    "cm_dl = pd.DataFrame(cm_dl_white,\n",
    "                     index = ['Fair','Very Good'], \n",
    "                     columns = ['Fair','Very Good'])\n",
    "sns.heatmap(cm_dl,annot=True,cmap=plt.cm.YlGnBu,fmt='3')\n",
    "label_aux.set_xlabel('Predicted Quality');label_aux.set_ylabel('True Quality');\n",
    "label_aux.set_title('Normalized (All Features)')\n",
    "#plt.savefig('Resources/images/dl_white_cm_nor_selected.jpg');\n",
    "plt.show()"
   ]
  },
  {
   "cell_type": "code",
   "execution_count": 34,
   "metadata": {},
   "outputs": [
    {
     "data": {
      "image/png": "[encoded data removed]",
      "text/plain": [
       "<Figure size 640x480 with 1 Axes>"
      ]
     },
     "metadata": {},
     "output_type": "display_data"
    }
   ],
   "source": [
    "# Plot Loss during training - Top5 Features\n",
    "\n",
    "from matplotlib import pyplot\n",
    "#pyplot.subplot(211)\n",
    "pyplot.title('Model Loss')\n",
    "pyplot.plot(history.history['loss'], label='train')\n",
    "pyplot.plot(history.history['val_loss'], label='test')\n",
    "pyplot.legend()\n",
    "#plt.savefig('Resources/images/dl_loss_white_selected.jpg')\n",
    "plt.show()"
   ]
  },
  {
   "cell_type": "code",
   "execution_count": 35,
   "metadata": {},
   "outputs": [
    {
     "data": {
      "image/png": "[encoded data removed]",
      "text/plain": [
       "<Figure size 640x480 with 1 Axes>"
      ]
     },
     "metadata": {},
     "output_type": "display_data"
    }
   ],
   "source": [
    "# Plot Loss during Accuracy - Top5 Features\n",
    "\n",
    "from matplotlib import pyplot\n",
    "#pyplot.subplot(212)\n",
    "pyplot.title('Model Accuracy')\n",
    "pyplot.plot(history.history['accuracy'], label='train')\n",
    "pyplot.plot(history.history['val_accuracy'], label='test')\n",
    "pyplot.legend()\n",
    "#plt.savefig('Resources/images/dl_accuracy_white_selected.jpg')\n",
    "pyplot.show()"
   ]
  },
  {
   "cell_type": "markdown",
   "metadata": {},
   "source": [
    "# Save the Model"
   ]
  },
  {
   "cell_type": "code",
   "execution_count": 36,
   "metadata": {},
   "outputs": [],
   "source": [
    "# Save the Model (test all features, selected features)\n",
    "#filename = 'Resources/results/dl_white_selected.h5'"
   ]
  },
  {
   "cell_type": "code",
   "execution_count": null,
   "metadata": {},
   "outputs": [],
   "source": []
  },
  {
   "cell_type": "code",
   "execution_count": null,
   "metadata": {},
   "outputs": [],
   "source": []
  }
 ],
 "metadata": {
  "kernelspec": {
   "display_name": "Python 3",
   "language": "python",
   "name": "python3"
  },
  "language_info": {
   "codemirror_mode": {
    "name": "ipython",
    "version": 3
   },
   "file_extension": ".py",
   "mimetype": "text/x-python",
   "name": "python",
   "nbconvert_exporter": "python",
   "pygments_lexer": "ipython3",
   "version": "3.8.5"
  }
 },
 "nbformat": 4,
 "nbformat_minor": 4
}
