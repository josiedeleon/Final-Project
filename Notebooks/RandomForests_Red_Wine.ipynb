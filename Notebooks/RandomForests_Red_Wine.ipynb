{
 "cells": [
  {
   "cell_type": "markdown",
   "metadata": {},
   "source": [
    "# RandomForests Classification Red Wine\n"
   ]
  },
  {
   "cell_type": "code",
   "execution_count": 1,
   "metadata": {},
   "outputs": [],
   "source": [
    "import pandas as pd\n",
    "from sklearn.model_selection import train_test_split\n",
    "from sklearn.ensemble import RandomForestClassifier\n",
    "from sklearn.model_selection import GridSearchCV\n",
    "from sklearn.metrics import plot_confusion_matrix\n",
    "from sklearn.metrics import classification_report\n",
    "from sklearn import metrics\n",
    "from sklearn.metrics import plot_roc_curve\n",
    "import matplotlib.pyplot as plt"
   ]
  },
  {
   "cell_type": "markdown",
   "metadata": {},
   "source": [
    "# Ready CSV "
   ]
  },
  {
   "cell_type": "code",
   "execution_count": 2,
   "metadata": {},
   "outputs": [
    {
     "data": {
      "text/html": [
       "<div>\n",
       "<style scoped>\n",
       "    .dataframe tbody tr th:only-of-type {\n",
       "        vertical-align: middle;\n",
       "    }\n",
       "\n",
       "    .dataframe tbody tr th {\n",
       "        vertical-align: top;\n",
       "    }\n",
       "\n",
       "    .dataframe thead th {\n",
       "        text-align: right;\n",
       "    }\n",
       "</style>\n",
       "<table border=\"1\" class=\"dataframe\">\n",
       "  <thead>\n",
       "    <tr style=\"text-align: right;\">\n",
       "      <th></th>\n",
       "      <th>fixed acidity</th>\n",
       "      <th>volatile acidity</th>\n",
       "      <th>citric acid</th>\n",
       "      <th>residual sugar</th>\n",
       "      <th>chlorides</th>\n",
       "      <th>free sulfur dioxide</th>\n",
       "      <th>total sulfur dioxide</th>\n",
       "      <th>density</th>\n",
       "      <th>pH</th>\n",
       "      <th>sulphates</th>\n",
       "      <th>alcohol</th>\n",
       "      <th>quality</th>\n",
       "    </tr>\n",
       "  </thead>\n",
       "  <tbody>\n",
       "    <tr>\n",
       "      <th>0</th>\n",
       "      <td>7.4</td>\n",
       "      <td>0.700</td>\n",
       "      <td>0.00</td>\n",
       "      <td>1.9</td>\n",
       "      <td>0.076</td>\n",
       "      <td>11.0</td>\n",
       "      <td>34.0</td>\n",
       "      <td>0.99780</td>\n",
       "      <td>3.51</td>\n",
       "      <td>0.56</td>\n",
       "      <td>9.4</td>\n",
       "      <td>Fair</td>\n",
       "    </tr>\n",
       "    <tr>\n",
       "      <th>1</th>\n",
       "      <td>7.8</td>\n",
       "      <td>0.880</td>\n",
       "      <td>0.00</td>\n",
       "      <td>2.6</td>\n",
       "      <td>0.098</td>\n",
       "      <td>25.0</td>\n",
       "      <td>67.0</td>\n",
       "      <td>0.99680</td>\n",
       "      <td>3.20</td>\n",
       "      <td>0.68</td>\n",
       "      <td>9.8</td>\n",
       "      <td>Fair</td>\n",
       "    </tr>\n",
       "    <tr>\n",
       "      <th>2</th>\n",
       "      <td>7.8</td>\n",
       "      <td>0.760</td>\n",
       "      <td>0.04</td>\n",
       "      <td>2.3</td>\n",
       "      <td>0.092</td>\n",
       "      <td>15.0</td>\n",
       "      <td>54.0</td>\n",
       "      <td>0.99700</td>\n",
       "      <td>3.26</td>\n",
       "      <td>0.65</td>\n",
       "      <td>9.8</td>\n",
       "      <td>Fair</td>\n",
       "    </tr>\n",
       "    <tr>\n",
       "      <th>3</th>\n",
       "      <td>11.2</td>\n",
       "      <td>0.280</td>\n",
       "      <td>0.56</td>\n",
       "      <td>1.9</td>\n",
       "      <td>0.075</td>\n",
       "      <td>17.0</td>\n",
       "      <td>60.0</td>\n",
       "      <td>0.99800</td>\n",
       "      <td>3.16</td>\n",
       "      <td>0.58</td>\n",
       "      <td>9.8</td>\n",
       "      <td>Fair</td>\n",
       "    </tr>\n",
       "    <tr>\n",
       "      <th>4</th>\n",
       "      <td>7.4</td>\n",
       "      <td>0.660</td>\n",
       "      <td>0.00</td>\n",
       "      <td>1.8</td>\n",
       "      <td>0.075</td>\n",
       "      <td>13.0</td>\n",
       "      <td>40.0</td>\n",
       "      <td>0.99780</td>\n",
       "      <td>3.51</td>\n",
       "      <td>0.56</td>\n",
       "      <td>9.4</td>\n",
       "      <td>Fair</td>\n",
       "    </tr>\n",
       "    <tr>\n",
       "      <th>...</th>\n",
       "      <td>...</td>\n",
       "      <td>...</td>\n",
       "      <td>...</td>\n",
       "      <td>...</td>\n",
       "      <td>...</td>\n",
       "      <td>...</td>\n",
       "      <td>...</td>\n",
       "      <td>...</td>\n",
       "      <td>...</td>\n",
       "      <td>...</td>\n",
       "      <td>...</td>\n",
       "      <td>...</td>\n",
       "    </tr>\n",
       "    <tr>\n",
       "      <th>1350</th>\n",
       "      <td>6.8</td>\n",
       "      <td>0.620</td>\n",
       "      <td>0.08</td>\n",
       "      <td>1.9</td>\n",
       "      <td>0.068</td>\n",
       "      <td>28.0</td>\n",
       "      <td>38.0</td>\n",
       "      <td>0.99651</td>\n",
       "      <td>3.42</td>\n",
       "      <td>0.82</td>\n",
       "      <td>9.5</td>\n",
       "      <td>Fair</td>\n",
       "    </tr>\n",
       "    <tr>\n",
       "      <th>1351</th>\n",
       "      <td>6.2</td>\n",
       "      <td>0.600</td>\n",
       "      <td>0.08</td>\n",
       "      <td>2.0</td>\n",
       "      <td>0.090</td>\n",
       "      <td>32.0</td>\n",
       "      <td>44.0</td>\n",
       "      <td>0.99490</td>\n",
       "      <td>3.45</td>\n",
       "      <td>0.58</td>\n",
       "      <td>10.5</td>\n",
       "      <td>Fair</td>\n",
       "    </tr>\n",
       "    <tr>\n",
       "      <th>1352</th>\n",
       "      <td>5.9</td>\n",
       "      <td>0.550</td>\n",
       "      <td>0.10</td>\n",
       "      <td>2.2</td>\n",
       "      <td>0.062</td>\n",
       "      <td>39.0</td>\n",
       "      <td>51.0</td>\n",
       "      <td>0.99512</td>\n",
       "      <td>3.52</td>\n",
       "      <td>0.76</td>\n",
       "      <td>11.2</td>\n",
       "      <td>Fair</td>\n",
       "    </tr>\n",
       "    <tr>\n",
       "      <th>1353</th>\n",
       "      <td>5.9</td>\n",
       "      <td>0.645</td>\n",
       "      <td>0.12</td>\n",
       "      <td>2.0</td>\n",
       "      <td>0.075</td>\n",
       "      <td>32.0</td>\n",
       "      <td>44.0</td>\n",
       "      <td>0.99547</td>\n",
       "      <td>3.57</td>\n",
       "      <td>0.71</td>\n",
       "      <td>10.2</td>\n",
       "      <td>Fair</td>\n",
       "    </tr>\n",
       "    <tr>\n",
       "      <th>1354</th>\n",
       "      <td>6.0</td>\n",
       "      <td>0.310</td>\n",
       "      <td>0.47</td>\n",
       "      <td>3.6</td>\n",
       "      <td>0.067</td>\n",
       "      <td>18.0</td>\n",
       "      <td>42.0</td>\n",
       "      <td>0.99549</td>\n",
       "      <td>3.39</td>\n",
       "      <td>0.66</td>\n",
       "      <td>11.0</td>\n",
       "      <td>Fair</td>\n",
       "    </tr>\n",
       "  </tbody>\n",
       "</table>\n",
       "<p>1355 rows × 12 columns</p>\n",
       "</div>"
      ],
      "text/plain": [
       "      fixed acidity  volatile acidity  citric acid  residual sugar  chlorides  \\\n",
       "0               7.4             0.700         0.00             1.9      0.076   \n",
       "1               7.8             0.880         0.00             2.6      0.098   \n",
       "2               7.8             0.760         0.04             2.3      0.092   \n",
       "3              11.2             0.280         0.56             1.9      0.075   \n",
       "4               7.4             0.660         0.00             1.8      0.075   \n",
       "...             ...               ...          ...             ...        ...   \n",
       "1350            6.8             0.620         0.08             1.9      0.068   \n",
       "1351            6.2             0.600         0.08             2.0      0.090   \n",
       "1352            5.9             0.550         0.10             2.2      0.062   \n",
       "1353            5.9             0.645         0.12             2.0      0.075   \n",
       "1354            6.0             0.310         0.47             3.6      0.067   \n",
       "\n",
       "      free sulfur dioxide  total sulfur dioxide  density    pH  sulphates  \\\n",
       "0                    11.0                  34.0  0.99780  3.51       0.56   \n",
       "1                    25.0                  67.0  0.99680  3.20       0.68   \n",
       "2                    15.0                  54.0  0.99700  3.26       0.65   \n",
       "3                    17.0                  60.0  0.99800  3.16       0.58   \n",
       "4                    13.0                  40.0  0.99780  3.51       0.56   \n",
       "...                   ...                   ...      ...   ...        ...   \n",
       "1350                 28.0                  38.0  0.99651  3.42       0.82   \n",
       "1351                 32.0                  44.0  0.99490  3.45       0.58   \n",
       "1352                 39.0                  51.0  0.99512  3.52       0.76   \n",
       "1353                 32.0                  44.0  0.99547  3.57       0.71   \n",
       "1354                 18.0                  42.0  0.99549  3.39       0.66   \n",
       "\n",
       "      alcohol quality  \n",
       "0         9.4    Fair  \n",
       "1         9.8    Fair  \n",
       "2         9.8    Fair  \n",
       "3         9.8    Fair  \n",
       "4         9.4    Fair  \n",
       "...       ...     ...  \n",
       "1350      9.5    Fair  \n",
       "1351     10.5    Fair  \n",
       "1352     11.2    Fair  \n",
       "1353     10.2    Fair  \n",
       "1354     11.0    Fair  \n",
       "\n",
       "[1355 rows x 12 columns]"
      ]
     },
     "execution_count": 2,
     "metadata": {},
     "output_type": "execute_result"
    }
   ],
   "source": [
    "df = pd.read_csv(\"./Resources/Data/winequality-red-clean.csv\", delimiter=',')\n",
    "df"
   ]
  },
  {
   "cell_type": "markdown",
   "metadata": {},
   "source": [
    "# Select your features (columns)"
   ]
  },
  {
   "cell_type": "code",
   "execution_count": 3,
   "metadata": {},
   "outputs": [
    {
     "name": "stdout",
     "output_type": "stream",
     "text": [
      "(1355, 11) (1355,)\n"
     ]
    }
   ],
   "source": [
    "# Set features. This will also be used as your x values.\n",
    "X = df.drop(['quality'], axis = 1)\n",
    "y = df['quality']\n",
    "print(X.shape, y.shape)\n"
   ]
  },
  {
   "cell_type": "markdown",
   "metadata": {},
   "source": [
    "# Create a Train Test Split"
   ]
  },
  {
   "cell_type": "code",
   "execution_count": 4,
   "metadata": {},
   "outputs": [
    {
     "name": "stdout",
     "output_type": "stream",
     "text": [
      "(948, 11) (272, 11) (135, 11) (948,) (272,) (135,)\n"
     ]
    }
   ],
   "source": [
    "X_train, X_, y_train, y_ = train_test_split(X,y,train_size=.7,random_state=3)\n",
    "X_val,X_test, y_val, y_test = train_test_split(X_,y_,test_size=.33,random_state=3)\n",
    "\n",
    "print(X_train.shape, X_val.shape, X_test.shape, y_train.shape, y_val.shape, y_test.shape)"
   ]
  },
  {
   "cell_type": "markdown",
   "metadata": {},
   "source": [
    "# Train the Model"
   ]
  },
  {
   "cell_type": "code",
   "execution_count": 5,
   "metadata": {},
   "outputs": [
    {
     "name": "stdout",
     "output_type": "stream",
     "text": [
      "--------\n",
      "1\n",
      "RandomForestClassifier(criterion='entropy', n_jobs=-1, oob_score=True)\n",
      "k: 1, Train/Test Score: 1.000/0.871\n",
      "OOB_Score : 0.8723628691983122\n",
      "--------\n",
      "2\n",
      "RandomForestClassifier(criterion='entropy', min_samples_leaf=2, n_jobs=-1,\n",
      "                       oob_score=True)\n",
      "k: 2, Train/Test Score: 0.988/0.860\n",
      "OOB_Score : 0.8755274261603375\n",
      "--------\n",
      "3\n",
      "RandomForestClassifier(criterion='entropy', min_samples_leaf=3, n_jobs=-1,\n",
      "                       oob_score=True)\n",
      "k: 3, Train/Test Score: 0.973/0.871\n",
      "OOB_Score : 0.8734177215189873\n",
      "--------\n",
      "4\n",
      "RandomForestClassifier(criterion='entropy', min_samples_leaf=4, n_jobs=-1,\n",
      "                       oob_score=True)\n",
      "k: 4, Train/Test Score: 0.957/0.864\n",
      "OOB_Score : 0.879746835443038\n",
      "--------\n",
      "5\n",
      "RandomForestClassifier(criterion='entropy', min_samples_leaf=5, n_jobs=-1,\n",
      "                       oob_score=True)\n",
      "k: 5, Train/Test Score: 0.950/0.879\n",
      "OOB_Score : 0.8713080168776371\n",
      "--------\n",
      "6\n",
      "RandomForestClassifier(criterion='entropy', min_samples_leaf=6, n_jobs=-1,\n",
      "                       oob_score=True)\n",
      "k: 6, Train/Test Score: 0.938/0.882\n",
      "OOB_Score : 0.8723628691983122\n",
      "--------\n",
      "7\n",
      "RandomForestClassifier(criterion='entropy', min_samples_leaf=7, n_jobs=-1,\n",
      "                       oob_score=True)\n",
      "k: 7, Train/Test Score: 0.927/0.857\n",
      "OOB_Score : 0.8723628691983122\n"
     ]
    },
    {
     "data": {
      "image/png": "[encoded data removed]",
      "text/plain": [
       "<Figure size 432x288 with 1 Axes>"
      ]
     },
     "metadata": {
      "needs_background": "light"
     },
     "output_type": "display_data"
    }
   ],
   "source": [
    "#Train your first model with choosen parameters\n",
    "\n",
    "train_scores = []\n",
    "val_scores = []\n",
    "oob_scores = []\n",
    "for k in range(1, 8, 1):\n",
    "    rf = RandomForestClassifier(n_estimators=100,\n",
    "                                min_samples_leaf=k,\n",
    "                                n_jobs=-1,\n",
    "                                oob_score=True,\n",
    "                                criterion='entropy')\n",
    "\n",
    "    print(\"--------\")\n",
    "    print(k)\n",
    "    print(rf)\n",
    "    rf = rf.fit(X_train, y_train)\n",
    "    train_score = rf.score(X_train, y_train)\n",
    "    val_score = rf.score(X_val, y_val)\n",
    "    oob_score = rf.oob_score_\n",
    "    train_scores.append(train_score)\n",
    "    val_scores.append(val_score)\n",
    "    oob_scores.append(oob_score)\n",
    "    print(f\"k: {k}, Train/Val Score: {train_score:.3f}/{val_score:.3f}\")\n",
    "    print(f\"OOB_Score : {rf.oob_score_}\")\n",
    "\n",
    "plt.plot(range(1, 8, 1), train_scores, marker='o')\n",
    "plt.plot(range(1, 8, 1), val_scores, marker=\"x\")\n",
    "plt.plot(range(1, 8, 1), oob_scores, marker=\"+\")\n",
    "plt.xlabel(\"Random Forests\")\n",
    "plt.ylabel(\"Testing accuracy Score\")\n",
    "plt.show()"
   ]
  },
  {
   "cell_type": "code",
   "execution_count": 6,
   "metadata": {},
   "outputs": [
    {
     "name": "stdout",
     "output_type": "stream",
     "text": [
      "--------\n",
      "1\n",
      "RandomForestClassifier(n_jobs=-1, oob_score=True)\n",
      "k: 1, Train/Test Score: 1.000/0.871\n",
      "OOB_Score : 0.8670886075949367\n",
      "--------\n",
      "2\n",
      "RandomForestClassifier(min_samples_leaf=2, n_jobs=-1, oob_score=True)\n",
      "k: 2, Train/Test Score: 0.981/0.875\n",
      "OOB_Score : 0.8776371308016878\n",
      "--------\n",
      "3\n",
      "RandomForestClassifier(min_samples_leaf=3, n_jobs=-1, oob_score=True)\n",
      "k: 3, Train/Test Score: 0.965/0.871\n",
      "OOB_Score : 0.8755274261603375\n",
      "--------\n",
      "4\n",
      "RandomForestClassifier(min_samples_leaf=4, n_jobs=-1, oob_score=True)\n",
      "k: 4, Train/Test Score: 0.953/0.864\n",
      "OOB_Score : 0.8765822784810127\n",
      "--------\n",
      "5\n",
      "RandomForestClassifier(min_samples_leaf=5, n_jobs=-1, oob_score=True)\n",
      "k: 5, Train/Test Score: 0.940/0.871\n",
      "OOB_Score : 0.8713080168776371\n",
      "--------\n",
      "6\n",
      "RandomForestClassifier(min_samples_leaf=6, n_jobs=-1, oob_score=True)\n",
      "k: 6, Train/Test Score: 0.932/0.860\n",
      "OOB_Score : 0.8755274261603375\n",
      "--------\n",
      "7\n",
      "RandomForestClassifier(min_samples_leaf=7, n_jobs=-1, oob_score=True)\n",
      "k: 7, Train/Test Score: 0.926/0.871\n",
      "OOB_Score : 0.8660337552742616\n"
     ]
    },
    {
     "data": {
      "image/png": "[encoded data removed]",
      "text/plain": [
       "<Figure size 432x288 with 1 Axes>"
      ]
     },
     "metadata": {
      "needs_background": "light"
     },
     "output_type": "display_data"
    }
   ],
   "source": [
    "#Train your first model with choosen parameters\n",
    "\n",
    "train_scores = []\n",
    "val_scores = []\n",
    "oob_scores = []\n",
    "for k in range(1, 8, 1):\n",
    "    rf = RandomForestClassifier(n_estimators=100,\n",
    "                                min_samples_leaf=k,\n",
    "                                n_jobs=-1,\n",
    "                                oob_score=True,\n",
    "                                criterion='gini')\n",
    "\n",
    "    print(\"--------\")\n",
    "    print(k)\n",
    "    print(rf)\n",
    "    rf = rf.fit(X_train, y_train)\n",
    "    train_score = rf.score(X_train, y_train)\n",
    "    val_score = rf.score(X_val, y_val)\n",
    "    oob_score = rf.oob_score_\n",
    "    train_scores.append(train_score)\n",
    "    val_scores.append(val_score)\n",
    "    oob_scores.append(oob_score)\n",
    "    print(f\"k: {k}, Train/Val Score: {train_score:.3f}/{val_score:.3f}\")\n",
    "    print(f\"OOB_Score : {rf.oob_score_}\")\n",
    "\n",
    "plt.plot(range(1, 8, 1), train_scores, marker='o')\n",
    "plt.plot(range(1, 8, 1), val_scores, marker=\"x\")\n",
    "plt.plot(range(1, 8, 1), oob_scores, marker=\"+\")\n",
    "plt.xlabel(\"Random Forests\")\n",
    "plt.ylabel(\"Testing accuracy Score\")\n",
    "plt.show()"
   ]
  },
  {
   "cell_type": "markdown",
   "metadata": {},
   "source": [
    "# Hyperparameter Tuning\n",
    "\n",
    "Use `GridSearchCV` to tune the model's parameters"
   ]
  },
  {
   "cell_type": "code",
   "execution_count": 10,
   "metadata": {},
   "outputs": [],
   "source": [
    "# Create the GridSearch estimator along with a parameter object containing the values to adjust\n",
    "# Check it out how GridSearchCV can perform\n",
    "\n",
    "param_grid = {'criterion':['gini','entropy'],\n",
    "              'n_estimators':[100, 200],\n",
    "              'min_samples_leaf':[1,2,3,4,5,6]}\n",
    "              \n",
    "                       \n",
    "grid = GridSearchCV(rf, param_grid, verbose=3, return_train_score=True)\n"
   ]
  },
  {
   "cell_type": "code",
   "execution_count": 11,
   "metadata": {},
   "outputs": [
    {
     "name": "stdout",
     "output_type": "stream",
     "text": [
      "Fitting 5 folds for each of 24 candidates, totalling 120 fits\n",
      "[CV 1/5] END criterion=gini, min_samples_leaf=1, n_estimators=100;, score=(train=1.000, test=0.868) total time=   0.1s\n",
      "[CV 2/5] END criterion=gini, min_samples_leaf=1, n_estimators=100;, score=(train=1.000, test=0.895) total time=   0.1s\n",
      "[CV 3/5] END criterion=gini, min_samples_leaf=1, n_estimators=100;, score=(train=1.000, test=0.863) total time=   0.1s\n",
      "[CV 4/5] END criterion=gini, min_samples_leaf=1, n_estimators=100;, score=(train=1.000, test=0.873) total time=   0.1s\n",
      "[CV 5/5] END criterion=gini, min_samples_leaf=1, n_estimators=100;, score=(train=1.000, test=0.878) total time=   0.1s\n",
      "[CV 1/5] END criterion=gini, min_samples_leaf=1, n_estimators=200;, score=(train=1.000, test=0.889) total time=   0.2s\n",
      "[CV 2/5] END criterion=gini, min_samples_leaf=1, n_estimators=200;, score=(train=1.000, test=0.889) total time=   0.2s\n",
      "[CV 3/5] END criterion=gini, min_samples_leaf=1, n_estimators=200;, score=(train=1.000, test=0.853) total time=   0.2s\n",
      "[CV 4/5] END criterion=gini, min_samples_leaf=1, n_estimators=200;, score=(train=1.000, test=0.873) total time=   0.2s\n",
      "[CV 5/5] END criterion=gini, min_samples_leaf=1, n_estimators=200;, score=(train=1.000, test=0.868) total time=   0.2s\n",
      "[CV 1/5] END criterion=gini, min_samples_leaf=2, n_estimators=100;, score=(train=0.979, test=0.884) total time=   0.1s\n",
      "[CV 2/5] END criterion=gini, min_samples_leaf=2, n_estimators=100;, score=(train=0.988, test=0.879) total time=   0.1s\n",
      "[CV 3/5] END criterion=gini, min_samples_leaf=2, n_estimators=100;, score=(train=0.980, test=0.863) total time=   0.1s\n",
      "[CV 4/5] END criterion=gini, min_samples_leaf=2, n_estimators=100;, score=(train=0.986, test=0.873) total time=   0.1s\n",
      "[CV 5/5] END criterion=gini, min_samples_leaf=2, n_estimators=100;, score=(train=0.979, test=0.873) total time=   0.1s\n",
      "[CV 1/5] END criterion=gini, min_samples_leaf=2, n_estimators=200;, score=(train=0.985, test=0.879) total time=   0.2s\n",
      "[CV 2/5] END criterion=gini, min_samples_leaf=2, n_estimators=200;, score=(train=0.989, test=0.889) total time=   0.2s\n",
      "[CV 3/5] END criterion=gini, min_samples_leaf=2, n_estimators=200;, score=(train=0.982, test=0.868) total time=   0.2s\n",
      "[CV 4/5] END criterion=gini, min_samples_leaf=2, n_estimators=200;, score=(train=0.989, test=0.878) total time=   0.2s\n",
      "[CV 5/5] END criterion=gini, min_samples_leaf=2, n_estimators=200;, score=(train=0.980, test=0.873) total time=   0.2s\n",
      "[CV 1/5] END criterion=gini, min_samples_leaf=3, n_estimators=100;, score=(train=0.968, test=0.874) total time=   0.1s\n",
      "[CV 2/5] END criterion=gini, min_samples_leaf=3, n_estimators=100;, score=(train=0.967, test=0.879) total time=   0.1s\n",
      "[CV 3/5] END criterion=gini, min_samples_leaf=3, n_estimators=100;, score=(train=0.966, test=0.879) total time=   0.1s\n",
      "[CV 4/5] END criterion=gini, min_samples_leaf=3, n_estimators=100;, score=(train=0.962, test=0.878) total time=   0.1s\n",
      "[CV 5/5] END criterion=gini, min_samples_leaf=3, n_estimators=100;, score=(train=0.963, test=0.873) total time=   0.1s\n",
      "[CV 1/5] END criterion=gini, min_samples_leaf=3, n_estimators=200;, score=(train=0.968, test=0.879) total time=   0.2s\n",
      "[CV 2/5] END criterion=gini, min_samples_leaf=3, n_estimators=200;, score=(train=0.964, test=0.889) total time=   0.2s\n",
      "[CV 3/5] END criterion=gini, min_samples_leaf=3, n_estimators=200;, score=(train=0.966, test=0.868) total time=   0.2s\n",
      "[CV 4/5] END criterion=gini, min_samples_leaf=3, n_estimators=200;, score=(train=0.966, test=0.873) total time=   0.2s\n",
      "[CV 5/5] END criterion=gini, min_samples_leaf=3, n_estimators=200;, score=(train=0.964, test=0.873) total time=   0.2s\n",
      "[CV 1/5] END criterion=gini, min_samples_leaf=4, n_estimators=100;, score=(train=0.951, test=0.879) total time=   0.1s\n",
      "[CV 2/5] END criterion=gini, min_samples_leaf=4, n_estimators=100;, score=(train=0.951, test=0.879) total time=   0.1s\n",
      "[CV 3/5] END criterion=gini, min_samples_leaf=4, n_estimators=100;, score=(train=0.951, test=0.874) total time=   0.1s\n",
      "[CV 4/5] END criterion=gini, min_samples_leaf=4, n_estimators=100;, score=(train=0.953, test=0.889) total time=   0.1s\n",
      "[CV 5/5] END criterion=gini, min_samples_leaf=4, n_estimators=100;, score=(train=0.946, test=0.868) total time=   0.1s\n",
      "[CV 1/5] END criterion=gini, min_samples_leaf=4, n_estimators=200;, score=(train=0.955, test=0.879) total time=   0.2s\n",
      "[CV 2/5] END criterion=gini, min_samples_leaf=4, n_estimators=200;, score=(train=0.946, test=0.879) total time=   0.2s\n",
      "[CV 3/5] END criterion=gini, min_samples_leaf=4, n_estimators=200;, score=(train=0.951, test=0.863) total time=   0.2s\n",
      "[CV 4/5] END criterion=gini, min_samples_leaf=4, n_estimators=200;, score=(train=0.957, test=0.878) total time=   0.2s\n",
      "[CV 5/5] END criterion=gini, min_samples_leaf=4, n_estimators=200;, score=(train=0.951, test=0.873) total time=   0.2s\n",
      "[CV 1/5] END criterion=gini, min_samples_leaf=5, n_estimators=100;, score=(train=0.941, test=0.874) total time=   0.1s\n",
      "[CV 2/5] END criterion=gini, min_samples_leaf=5, n_estimators=100;, score=(train=0.938, test=0.879) total time=   0.1s\n",
      "[CV 3/5] END criterion=gini, min_samples_leaf=5, n_estimators=100;, score=(train=0.942, test=0.863) total time=   0.1s\n",
      "[CV 4/5] END criterion=gini, min_samples_leaf=5, n_estimators=100;, score=(train=0.935, test=0.873) total time=   0.1s\n",
      "[CV 5/5] END criterion=gini, min_samples_leaf=5, n_estimators=100;, score=(train=0.935, test=0.894) total time=   0.1s\n",
      "[CV 1/5] END criterion=gini, min_samples_leaf=5, n_estimators=200;, score=(train=0.943, test=0.884) total time=   0.2s\n",
      "[CV 2/5] END criterion=gini, min_samples_leaf=5, n_estimators=200;, score=(train=0.935, test=0.884) total time=   0.2s\n",
      "[CV 3/5] END criterion=gini, min_samples_leaf=5, n_estimators=200;, score=(train=0.942, test=0.874) total time=   0.2s\n",
      "[CV 4/5] END criterion=gini, min_samples_leaf=5, n_estimators=200;, score=(train=0.946, test=0.873) total time=   0.2s\n",
      "[CV 5/5] END criterion=gini, min_samples_leaf=5, n_estimators=200;, score=(train=0.933, test=0.894) total time=   0.2s\n",
      "[CV 1/5] END criterion=gini, min_samples_leaf=6, n_estimators=100;, score=(train=0.937, test=0.874) total time=   0.1s\n",
      "[CV 2/5] END criterion=gini, min_samples_leaf=6, n_estimators=100;, score=(train=0.925, test=0.879) total time=   0.1s\n",
      "[CV 3/5] END criterion=gini, min_samples_leaf=6, n_estimators=100;, score=(train=0.927, test=0.868) total time=   0.1s\n",
      "[CV 4/5] END criterion=gini, min_samples_leaf=6, n_estimators=100;, score=(train=0.928, test=0.884) total time=   0.1s\n",
      "[CV 5/5] END criterion=gini, min_samples_leaf=6, n_estimators=100;, score=(train=0.925, test=0.889) total time=   0.1s\n",
      "[CV 1/5] END criterion=gini, min_samples_leaf=6, n_estimators=200;, score=(train=0.934, test=0.874) total time=   0.2s\n",
      "[CV 2/5] END criterion=gini, min_samples_leaf=6, n_estimators=200;, score=(train=0.929, test=0.879) total time=   0.2s\n",
      "[CV 3/5] END criterion=gini, min_samples_leaf=6, n_estimators=200;, score=(train=0.930, test=0.868) total time=   0.2s\n",
      "[CV 4/5] END criterion=gini, min_samples_leaf=6, n_estimators=200;, score=(train=0.938, test=0.873) total time=   0.2s\n",
      "[CV 5/5] END criterion=gini, min_samples_leaf=6, n_estimators=200;, score=(train=0.925, test=0.878) total time=   0.2s\n",
      "[CV 1/5] END criterion=entropy, min_samples_leaf=1, n_estimators=100;, score=(train=1.000, test=0.879) total time=   0.1s\n",
      "[CV 2/5] END criterion=entropy, min_samples_leaf=1, n_estimators=100;, score=(train=1.000, test=0.889) total time=   0.1s\n",
      "[CV 3/5] END criterion=entropy, min_samples_leaf=1, n_estimators=100;, score=(train=1.000, test=0.874) total time=   0.1s\n",
      "[CV 4/5] END criterion=entropy, min_samples_leaf=1, n_estimators=100;, score=(train=1.000, test=0.884) total time=   0.1s\n",
      "[CV 5/5] END criterion=entropy, min_samples_leaf=1, n_estimators=100;, score=(train=1.000, test=0.884) total time=   0.1s\n",
      "[CV 1/5] END criterion=entropy, min_samples_leaf=1, n_estimators=200;, score=(train=1.000, test=0.874) total time=   0.2s\n",
      "[CV 2/5] END criterion=entropy, min_samples_leaf=1, n_estimators=200;, score=(train=1.000, test=0.895) total time=   0.2s\n",
      "[CV 3/5] END criterion=entropy, min_samples_leaf=1, n_estimators=200;, score=(train=1.000, test=0.863) total time=   0.2s\n",
      "[CV 4/5] END criterion=entropy, min_samples_leaf=1, n_estimators=200;, score=(train=1.000, test=0.889) total time=   0.2s\n"
     ]
    },
    {
     "name": "stdout",
     "output_type": "stream",
     "text": [
      "[CV 5/5] END criterion=entropy, min_samples_leaf=1, n_estimators=200;, score=(train=1.000, test=0.884) total time=   0.2s\n",
      "[CV 1/5] END criterion=entropy, min_samples_leaf=2, n_estimators=100;, score=(train=0.992, test=0.874) total time=   0.1s\n",
      "[CV 2/5] END criterion=entropy, min_samples_leaf=2, n_estimators=100;, score=(train=0.991, test=0.884) total time=   0.1s\n",
      "[CV 3/5] END criterion=entropy, min_samples_leaf=2, n_estimators=100;, score=(train=0.989, test=0.853) total time=   0.1s\n",
      "[CV 4/5] END criterion=entropy, min_samples_leaf=2, n_estimators=100;, score=(train=0.992, test=0.873) total time=   0.1s\n",
      "[CV 5/5] END criterion=entropy, min_samples_leaf=2, n_estimators=100;, score=(train=0.993, test=0.884) total time=   0.1s\n",
      "[CV 1/5] END criterion=entropy, min_samples_leaf=2, n_estimators=200;, score=(train=0.991, test=0.884) total time=   0.2s\n",
      "[CV 2/5] END criterion=entropy, min_samples_leaf=2, n_estimators=200;, score=(train=0.995, test=0.884) total time=   0.2s\n",
      "[CV 3/5] END criterion=entropy, min_samples_leaf=2, n_estimators=200;, score=(train=0.989, test=0.863) total time=   0.2s\n",
      "[CV 4/5] END criterion=entropy, min_samples_leaf=2, n_estimators=200;, score=(train=0.993, test=0.889) total time=   0.2s\n",
      "[CV 5/5] END criterion=entropy, min_samples_leaf=2, n_estimators=200;, score=(train=0.992, test=0.878) total time=   0.2s\n",
      "[CV 1/5] END criterion=entropy, min_samples_leaf=3, n_estimators=100;, score=(train=0.978, test=0.868) total time=   0.1s\n",
      "[CV 2/5] END criterion=entropy, min_samples_leaf=3, n_estimators=100;, score=(train=0.974, test=0.889) total time=   0.1s\n",
      "[CV 3/5] END criterion=entropy, min_samples_leaf=3, n_estimators=100;, score=(train=0.964, test=0.879) total time=   0.1s\n",
      "[CV 4/5] END criterion=entropy, min_samples_leaf=3, n_estimators=100;, score=(train=0.974, test=0.889) total time=   0.1s\n",
      "[CV 5/5] END criterion=entropy, min_samples_leaf=3, n_estimators=100;, score=(train=0.975, test=0.878) total time=   0.1s\n",
      "[CV 1/5] END criterion=entropy, min_samples_leaf=3, n_estimators=200;, score=(train=0.979, test=0.868) total time=   0.2s\n",
      "[CV 2/5] END criterion=entropy, min_samples_leaf=3, n_estimators=200;, score=(train=0.976, test=0.884) total time=   0.2s\n",
      "[CV 3/5] END criterion=entropy, min_samples_leaf=3, n_estimators=200;, score=(train=0.971, test=0.868) total time=   0.2s\n",
      "[CV 4/5] END criterion=entropy, min_samples_leaf=3, n_estimators=200;, score=(train=0.972, test=0.899) total time=   0.2s\n",
      "[CV 5/5] END criterion=entropy, min_samples_leaf=3, n_estimators=200;, score=(train=0.974, test=0.889) total time=   0.2s\n",
      "[CV 1/5] END criterion=entropy, min_samples_leaf=4, n_estimators=100;, score=(train=0.962, test=0.879) total time=   0.1s\n",
      "[CV 2/5] END criterion=entropy, min_samples_leaf=4, n_estimators=100;, score=(train=0.960, test=0.889) total time=   0.1s\n",
      "[CV 3/5] END criterion=entropy, min_samples_leaf=4, n_estimators=100;, score=(train=0.955, test=0.874) total time=   0.1s\n",
      "[CV 4/5] END criterion=entropy, min_samples_leaf=4, n_estimators=100;, score=(train=0.963, test=0.889) total time=   0.1s\n",
      "[CV 5/5] END criterion=entropy, min_samples_leaf=4, n_estimators=100;, score=(train=0.963, test=0.889) total time=   0.1s\n",
      "[CV 1/5] END criterion=entropy, min_samples_leaf=4, n_estimators=200;, score=(train=0.963, test=0.879) total time=   0.2s\n",
      "[CV 2/5] END criterion=entropy, min_samples_leaf=4, n_estimators=200;, score=(train=0.960, test=0.874) total time=   0.2s\n",
      "[CV 3/5] END criterion=entropy, min_samples_leaf=4, n_estimators=200;, score=(train=0.958, test=0.879) total time=   0.2s\n",
      "[CV 4/5] END criterion=entropy, min_samples_leaf=4, n_estimators=200;, score=(train=0.963, test=0.894) total time=   0.2s\n",
      "[CV 5/5] END criterion=entropy, min_samples_leaf=4, n_estimators=200;, score=(train=0.959, test=0.884) total time=   0.2s\n",
      "[CV 1/5] END criterion=entropy, min_samples_leaf=5, n_estimators=100;, score=(train=0.950, test=0.879) total time=   0.1s\n",
      "[CV 2/5] END criterion=entropy, min_samples_leaf=5, n_estimators=100;, score=(train=0.947, test=0.889) total time=   0.1s\n",
      "[CV 3/5] END criterion=entropy, min_samples_leaf=5, n_estimators=100;, score=(train=0.945, test=0.863) total time=   0.1s\n",
      "[CV 4/5] END criterion=entropy, min_samples_leaf=5, n_estimators=100;, score=(train=0.946, test=0.894) total time=   0.1s\n",
      "[CV 5/5] END criterion=entropy, min_samples_leaf=5, n_estimators=100;, score=(train=0.945, test=0.894) total time=   0.1s\n",
      "[CV 1/5] END criterion=entropy, min_samples_leaf=5, n_estimators=200;, score=(train=0.947, test=0.879) total time=   0.2s\n",
      "[CV 2/5] END criterion=entropy, min_samples_leaf=5, n_estimators=200;, score=(train=0.949, test=0.889) total time=   0.2s\n",
      "[CV 3/5] END criterion=entropy, min_samples_leaf=5, n_estimators=200;, score=(train=0.943, test=0.868) total time=   0.2s\n",
      "[CV 4/5] END criterion=entropy, min_samples_leaf=5, n_estimators=200;, score=(train=0.951, test=0.884) total time=   0.2s\n",
      "[CV 5/5] END criterion=entropy, min_samples_leaf=5, n_estimators=200;, score=(train=0.941, test=0.889) total time=   0.2s\n",
      "[CV 1/5] END criterion=entropy, min_samples_leaf=6, n_estimators=100;, score=(train=0.935, test=0.863) total time=   0.1s\n",
      "[CV 2/5] END criterion=entropy, min_samples_leaf=6, n_estimators=100;, score=(train=0.929, test=0.889) total time=   0.1s\n",
      "[CV 3/5] END criterion=entropy, min_samples_leaf=6, n_estimators=100;, score=(train=0.941, test=0.863) total time=   0.1s\n",
      "[CV 4/5] END criterion=entropy, min_samples_leaf=6, n_estimators=100;, score=(train=0.941, test=0.884) total time=   0.1s\n",
      "[CV 5/5] END criterion=entropy, min_samples_leaf=6, n_estimators=100;, score=(train=0.931, test=0.878) total time=   0.1s\n",
      "[CV 1/5] END criterion=entropy, min_samples_leaf=6, n_estimators=200;, score=(train=0.934, test=0.879) total time=   0.2s\n",
      "[CV 2/5] END criterion=entropy, min_samples_leaf=6, n_estimators=200;, score=(train=0.937, test=0.874) total time=   0.2s\n",
      "[CV 3/5] END criterion=entropy, min_samples_leaf=6, n_estimators=200;, score=(train=0.939, test=0.874) total time=   0.2s\n",
      "[CV 4/5] END criterion=entropy, min_samples_leaf=6, n_estimators=200;, score=(train=0.941, test=0.894) total time=   0.2s\n",
      "[CV 5/5] END criterion=entropy, min_samples_leaf=6, n_estimators=200;, score=(train=0.937, test=0.889) total time=   0.2s\n"
     ]
    },
    {
     "data": {
      "text/plain": [
       "GridSearchCV(estimator=RandomForestClassifier(min_samples_leaf=7, n_jobs=-1,\n",
       "                                              oob_score=True),\n",
       "             param_grid={'criterion': ['gini', 'entropy'],\n",
       "                         'min_samples_leaf': [1, 2, 3, 4, 5, 6],\n",
       "                         'n_estimators': [100, 200]},\n",
       "             return_train_score=True, verbose=3)"
      ]
     },
     "execution_count": 11,
     "metadata": {},
     "output_type": "execute_result"
    }
   ],
   "source": [
    "# Train the model with GridSearch\n",
    "grid.fit(X_train, y_train)"
   ]
  },
  {
   "cell_type": "code",
   "execution_count": 12,
   "metadata": {},
   "outputs": [
    {
     "name": "stdout",
     "output_type": "stream",
     "text": [
      "{'criterion': 'entropy', 'min_samples_leaf': 5, 'n_estimators': 100}\n",
      "0.8839877471456419\n"
     ]
    }
   ],
   "source": [
    "print(grid.best_params_)\n",
    "print(grid.best_score_)\n"
   ]
  },
  {
   "cell_type": "code",
   "execution_count": 13,
   "metadata": {},
   "outputs": [
    {
     "data": {
      "text/html": [
       "<div>\n",
       "<style scoped>\n",
       "    .dataframe tbody tr th:only-of-type {\n",
       "        vertical-align: middle;\n",
       "    }\n",
       "\n",
       "    .dataframe tbody tr th {\n",
       "        vertical-align: top;\n",
       "    }\n",
       "\n",
       "    .dataframe thead th {\n",
       "        text-align: right;\n",
       "    }\n",
       "</style>\n",
       "<table border=\"1\" class=\"dataframe\">\n",
       "  <thead>\n",
       "    <tr style=\"text-align: right;\">\n",
       "      <th></th>\n",
       "      <th>mean_fit_time</th>\n",
       "      <th>std_fit_time</th>\n",
       "      <th>mean_score_time</th>\n",
       "      <th>std_score_time</th>\n",
       "      <th>param_criterion</th>\n",
       "      <th>param_min_samples_leaf</th>\n",
       "      <th>param_n_estimators</th>\n",
       "      <th>params</th>\n",
       "      <th>split0_test_score</th>\n",
       "      <th>split1_test_score</th>\n",
       "      <th>...</th>\n",
       "      <th>mean_test_score</th>\n",
       "      <th>std_test_score</th>\n",
       "      <th>rank_test_score</th>\n",
       "      <th>split0_train_score</th>\n",
       "      <th>split1_train_score</th>\n",
       "      <th>split2_train_score</th>\n",
       "      <th>split3_train_score</th>\n",
       "      <th>split4_train_score</th>\n",
       "      <th>mean_train_score</th>\n",
       "      <th>std_train_score</th>\n",
       "    </tr>\n",
       "  </thead>\n",
       "  <tbody>\n",
       "    <tr>\n",
       "      <th>0</th>\n",
       "      <td>0.089560</td>\n",
       "      <td>0.011959</td>\n",
       "      <td>0.009817</td>\n",
       "      <td>0.000146</td>\n",
       "      <td>gini</td>\n",
       "      <td>1</td>\n",
       "      <td>100</td>\n",
       "      <td>{'criterion': 'gini', 'min_samples_leaf': 1, '...</td>\n",
       "      <td>0.868421</td>\n",
       "      <td>0.894737</td>\n",
       "      <td>...</td>\n",
       "      <td>0.875528</td>\n",
       "      <td>0.010831</td>\n",
       "      <td>19</td>\n",
       "      <td>1.000000</td>\n",
       "      <td>1.000000</td>\n",
       "      <td>1.000000</td>\n",
       "      <td>1.000000</td>\n",
       "      <td>1.000000</td>\n",
       "      <td>1.000000</td>\n",
       "      <td>0.000000</td>\n",
       "    </tr>\n",
       "    <tr>\n",
       "      <th>1</th>\n",
       "      <td>0.153145</td>\n",
       "      <td>0.008539</td>\n",
       "      <td>0.016748</td>\n",
       "      <td>0.000265</td>\n",
       "      <td>gini</td>\n",
       "      <td>1</td>\n",
       "      <td>200</td>\n",
       "      <td>{'criterion': 'gini', 'min_samples_leaf': 1, '...</td>\n",
       "      <td>0.889474</td>\n",
       "      <td>0.889474</td>\n",
       "      <td>...</td>\n",
       "      <td>0.874464</td>\n",
       "      <td>0.013962</td>\n",
       "      <td>23</td>\n",
       "      <td>1.000000</td>\n",
       "      <td>1.000000</td>\n",
       "      <td>1.000000</td>\n",
       "      <td>1.000000</td>\n",
       "      <td>1.000000</td>\n",
       "      <td>1.000000</td>\n",
       "      <td>0.000000</td>\n",
       "    </tr>\n",
       "    <tr>\n",
       "      <th>2</th>\n",
       "      <td>0.091110</td>\n",
       "      <td>0.019501</td>\n",
       "      <td>0.009786</td>\n",
       "      <td>0.000104</td>\n",
       "      <td>gini</td>\n",
       "      <td>2</td>\n",
       "      <td>100</td>\n",
       "      <td>{'criterion': 'gini', 'min_samples_leaf': 2, '...</td>\n",
       "      <td>0.884211</td>\n",
       "      <td>0.878947</td>\n",
       "      <td>...</td>\n",
       "      <td>0.874470</td>\n",
       "      <td>0.007030</td>\n",
       "      <td>22</td>\n",
       "      <td>0.978892</td>\n",
       "      <td>0.988127</td>\n",
       "      <td>0.980211</td>\n",
       "      <td>0.985507</td>\n",
       "      <td>0.978920</td>\n",
       "      <td>0.982331</td>\n",
       "      <td>0.003785</td>\n",
       "    </tr>\n",
       "    <tr>\n",
       "      <th>3</th>\n",
       "      <td>0.149027</td>\n",
       "      <td>0.002283</td>\n",
       "      <td>0.016652</td>\n",
       "      <td>0.000096</td>\n",
       "      <td>gini</td>\n",
       "      <td>2</td>\n",
       "      <td>200</td>\n",
       "      <td>{'criterion': 'gini', 'min_samples_leaf': 2, '...</td>\n",
       "      <td>0.878947</td>\n",
       "      <td>0.889474</td>\n",
       "      <td>...</td>\n",
       "      <td>0.877633</td>\n",
       "      <td>0.007051</td>\n",
       "      <td>14</td>\n",
       "      <td>0.985488</td>\n",
       "      <td>0.989446</td>\n",
       "      <td>0.981530</td>\n",
       "      <td>0.989460</td>\n",
       "      <td>0.980237</td>\n",
       "      <td>0.985232</td>\n",
       "      <td>0.003856</td>\n",
       "    </tr>\n",
       "    <tr>\n",
       "      <th>4</th>\n",
       "      <td>0.081636</td>\n",
       "      <td>0.002017</td>\n",
       "      <td>0.009786</td>\n",
       "      <td>0.000212</td>\n",
       "      <td>gini</td>\n",
       "      <td>3</td>\n",
       "      <td>100</td>\n",
       "      <td>{'criterion': 'gini', 'min_samples_leaf': 3, '...</td>\n",
       "      <td>0.873684</td>\n",
       "      <td>0.878947</td>\n",
       "      <td>...</td>\n",
       "      <td>0.876580</td>\n",
       "      <td>0.002656</td>\n",
       "      <td>16</td>\n",
       "      <td>0.968338</td>\n",
       "      <td>0.967018</td>\n",
       "      <td>0.965699</td>\n",
       "      <td>0.961792</td>\n",
       "      <td>0.963109</td>\n",
       "      <td>0.965191</td>\n",
       "      <td>0.002424</td>\n",
       "    </tr>\n",
       "  </tbody>\n",
       "</table>\n",
       "<p>5 rows × 23 columns</p>\n",
       "</div>"
      ],
      "text/plain": [
       "   mean_fit_time  std_fit_time  mean_score_time  std_score_time  \\\n",
       "0       0.089560      0.011959         0.009817        0.000146   \n",
       "1       0.153145      0.008539         0.016748        0.000265   \n",
       "2       0.091110      0.019501         0.009786        0.000104   \n",
       "3       0.149027      0.002283         0.016652        0.000096   \n",
       "4       0.081636      0.002017         0.009786        0.000212   \n",
       "\n",
       "  param_criterion param_min_samples_leaf param_n_estimators  \\\n",
       "0            gini                      1                100   \n",
       "1            gini                      1                200   \n",
       "2            gini                      2                100   \n",
       "3            gini                      2                200   \n",
       "4            gini                      3                100   \n",
       "\n",
       "                                              params  split0_test_score  \\\n",
       "0  {'criterion': 'gini', 'min_samples_leaf': 1, '...           0.868421   \n",
       "1  {'criterion': 'gini', 'min_samples_leaf': 1, '...           0.889474   \n",
       "2  {'criterion': 'gini', 'min_samples_leaf': 2, '...           0.884211   \n",
       "3  {'criterion': 'gini', 'min_samples_leaf': 2, '...           0.878947   \n",
       "4  {'criterion': 'gini', 'min_samples_leaf': 3, '...           0.873684   \n",
       "\n",
       "   split1_test_score  ...  mean_test_score  std_test_score  rank_test_score  \\\n",
       "0           0.894737  ...         0.875528        0.010831               19   \n",
       "1           0.889474  ...         0.874464        0.013962               23   \n",
       "2           0.878947  ...         0.874470        0.007030               22   \n",
       "3           0.889474  ...         0.877633        0.007051               14   \n",
       "4           0.878947  ...         0.876580        0.002656               16   \n",
       "\n",
       "   split0_train_score  split1_train_score  split2_train_score  \\\n",
       "0            1.000000            1.000000            1.000000   \n",
       "1            1.000000            1.000000            1.000000   \n",
       "2            0.978892            0.988127            0.980211   \n",
       "3            0.985488            0.989446            0.981530   \n",
       "4            0.968338            0.967018            0.965699   \n",
       "\n",
       "   split3_train_score  split4_train_score  mean_train_score  std_train_score  \n",
       "0            1.000000            1.000000          1.000000         0.000000  \n",
       "1            1.000000            1.000000          1.000000         0.000000  \n",
       "2            0.985507            0.978920          0.982331         0.003785  \n",
       "3            0.989460            0.980237          0.985232         0.003856  \n",
       "4            0.961792            0.963109          0.965191         0.002424  \n",
       "\n",
       "[5 rows x 23 columns]"
      ]
     },
     "execution_count": 13,
     "metadata": {},
     "output_type": "execute_result"
    }
   ],
   "source": [
    "results = pd.DataFrame(grid.cv_results_)\n",
    "results.head()"
   ]
  },
  {
   "cell_type": "code",
   "execution_count": null,
   "metadata": {},
   "outputs": [],
   "source": [
    "#Now that  found my best parameters I combine train and val and I do it one more time"
   ]
  },
  {
   "cell_type": "code",
   "execution_count": 14,
   "metadata": {},
   "outputs": [
    {
     "name": "stdout",
     "output_type": "stream",
     "text": [
      "RandomForestClassifier(criterion='entropy', min_samples_leaf=5, n_jobs=-1,\n",
      "                       oob_score=True)\n",
      "Train Data: (0.9440928270042194, 0.8713235294117647)\n",
      "Train and Validation Data Concat: 0.9459016393442623\n",
      "Validation Data : 0.9485294117647058\n",
      "Final result Test Data: 0.9259259259259259\n"
     ]
    }
   ],
   "source": [
    "#Choose the best parameter and run a final test from one of those:\n",
    "#1 - Previous tuning or\n",
    "#2 - GridSearch\n",
    "best_rf = grid.best_estimator_ #Chose this because GridSearch got a 0.883 score\n",
    "#best_rf = rf\n",
    "print(best_rf)\n",
    "#Run one more time on the train data\n",
    "best_rf.fit(X_train, y_train)\n",
    "print(f'Train Data: {best_rf.score(X_train, y_train), best_rf.score(X_val, y_val)}')\n",
    "#Concatenate the train and test\n",
    "X_train_c = pd.concat([X_train, X_val], ignore_index=True)\n",
    "y_train_c = pd.concat([y_train, y_val], ignore_index=True)\n",
    "best_rf.fit(X_train_c, y_train_c)\n",
    "print(f'Train and Validation Data Concat: {best_rf.score(X_train_c,y_train_c)}')\n",
    "print(f'Validation Data : {best_rf.score(X_val,y_val)}')\n",
    "print(f'Final result Test Data: {best_rf.score(X_test,y_test)}')"
   ]
  },
  {
   "cell_type": "code",
   "execution_count": 15,
   "metadata": {},
   "outputs": [],
   "source": [
    "predictions = best_rf.predict(X_test)\n",
    "actual = y_test.tolist()\n",
    "\n",
    "pred_act=pd.DataFrame({\"Prediction\": predictions, \"Actual\": y_test}).reset_index(drop=True)\n"
   ]
  },
  {
   "cell_type": "code",
   "execution_count": 16,
   "metadata": {},
   "outputs": [
    {
     "name": "stdout",
     "output_type": "stream",
     "text": [
      "              precision    recall  f1-score   support\n",
      "\n",
      "        Fair       0.93      0.99      0.96       121\n",
      "   Very Good       0.83      0.36      0.50        14\n",
      "\n",
      "    accuracy                           0.93       135\n",
      "   macro avg       0.88      0.67      0.73       135\n",
      "weighted avg       0.92      0.93      0.91       135\n",
      "\n"
     ]
    }
   ],
   "source": [
    "# Calculate classification report\n",
    "y_names = ['Fair','Very Good']\n",
    "\n",
    "print(classification_report(y_test, predictions,\n",
    "                            target_names=y_names))"
   ]
  },
  {
   "cell_type": "code",
   "execution_count": 17,
   "metadata": {},
   "outputs": [
    {
     "data": {
      "image/png": "[encoded data removed]",
      "text/plain": [
       "<Figure size 432x288 with 2 Axes>"
      ]
     },
     "metadata": {
      "needs_background": "light"
     },
     "output_type": "display_data"
    }
   ],
   "source": [
    "plot_confusion_matrix(best_rf, X_test, y_test)  \n",
    "plt.show() "
   ]
  },
  {
   "cell_type": "code",
   "execution_count": 18,
   "metadata": {},
   "outputs": [
    {
     "data": {
      "image/png": "[encoded data removed]",
      "text/plain": [
       "<Figure size 432x288 with 1 Axes>"
      ]
     },
     "metadata": {
      "needs_background": "light"
     },
     "output_type": "display_data"
    }
   ],
   "source": [
    "rf_disp = plot_roc_curve(best_rf, X_test, y_test)\n",
    "plt.show()"
   ]
  },
  {
   "cell_type": "code",
   "execution_count": 23,
   "metadata": {},
   "outputs": [
    {
     "data": {
      "image/png": "[encoded data removed]",
      "text/plain": [
       "<Figure size 432x288 with 1 Axes>"
      ]
     },
     "metadata": {
      "needs_background": "light"
     },
     "output_type": "display_data"
    }
   ],
   "source": [
    "rf_disp = metrics.plot_det_curve(best_rf, X_test, y_test)  \n",
    "plt.show()   "
   ]
  },
  {
   "cell_type": "markdown",
   "metadata": {},
   "source": [
    "## Display features importance"
   ]
  },
  {
   "cell_type": "code",
   "execution_count": 20,
   "metadata": {},
   "outputs": [
    {
     "data": {
      "image/png": "[encoded data removed]",
      "text/plain": [
       "<Figure size 288x175.68 with 1 Axes>"
      ]
     },
     "metadata": {
      "needs_background": "light"
     },
     "output_type": "display_data"
    }
   ],
   "source": [
    "from rfpimp import *\n",
    "imp = importances(best_rf, X_test, y_test, n_samples=-1)\n",
    "\n",
    "viz = plot_importances(imp)\n",
    "viz.view()"
   ]
  },
  {
   "cell_type": "code",
   "execution_count": 24,
   "metadata": {},
   "outputs": [
    {
     "name": "stdout",
     "output_type": "stream",
     "text": [
      "(1355, 8) (1355,)\n"
     ]
    }
   ],
   "source": [
    "# Drop less import features\n",
    "X = df.drop(['free sulfur dioxide','residual sugar', 'pH','quality'], axis = 1)\n",
    "y = df['quality']\n",
    "print(X.shape, y.shape)"
   ]
  },
  {
   "cell_type": "code",
   "execution_count": 25,
   "metadata": {},
   "outputs": [
    {
     "name": "stdout",
     "output_type": "stream",
     "text": [
      "(948, 8) (272, 8) (135, 8) (948,) (272,) (135,)\n"
     ]
    }
   ],
   "source": [
    "X_train, X_, y_train, y_ = train_test_split(X,y,train_size=.7,random_state=3)\n",
    "X_val,X_test, y_val, y_test = train_test_split(X_,y_,test_size=.33,random_state=3)\n",
    "\n",
    "print(X_train.shape, X_val.shape, X_test.shape, y_train.shape, y_val.shape, y_test.shape)"
   ]
  },
  {
   "cell_type": "code",
   "execution_count": 26,
   "metadata": {},
   "outputs": [
    {
     "name": "stdout",
     "output_type": "stream",
     "text": [
      "RandomForestClassifier(criterion='entropy', min_samples_leaf=5, n_jobs=-1,\n",
      "                       oob_score=True)\n",
      "Train Data: (0.9419831223628692, 0.8639705882352942)\n",
      "Train and Validation Data Concat: 0.9377049180327869\n",
      "Validation Data : 0.9301470588235294\n",
      "Final result Test Data: 0.9407407407407408\n"
     ]
    }
   ],
   "source": [
    "best_rf = grid.best_estimator_ #Chose this because GridSearch got a 0.883 score\n",
    "#best_rf = rf\n",
    "print(best_rf)\n",
    "#Run one more time on the train data\n",
    "best_rf.fit(X_train, y_train)\n",
    "print(f'Train Data: {best_rf.score(X_train, y_train), best_rf.score(X_val, y_val)}')\n",
    "#Concatenate the train and test\n",
    "X_train_c = pd.concat([X_train, X_val], ignore_index=True)\n",
    "y_train_c = pd.concat([y_train, y_val], ignore_index=True)\n",
    "best_rf.fit(X_train_c, y_train_c)\n",
    "print(f'Train and Validation Data Concat: {best_rf.score(X_train_c,y_train_c)}')\n",
    "print(f'Validation Data : {best_rf.score(X_val,y_val)}')\n",
    "print(f'Final result Test Data: {best_rf.score(X_test,y_test)}')"
   ]
  },
  {
   "cell_type": "code",
   "execution_count": 27,
   "metadata": {},
   "outputs": [],
   "source": [
    "predictions = best_rf.predict(X_test)\n",
    "actual = y_test.tolist()\n",
    "\n",
    "pred_act=pd.DataFrame({\"Prediction\": predictions, \"Actual\": y_test}).reset_index(drop=True)\n"
   ]
  },
  {
   "cell_type": "code",
   "execution_count": 28,
   "metadata": {},
   "outputs": [
    {
     "name": "stdout",
     "output_type": "stream",
     "text": [
      "              precision    recall  f1-score   support\n",
      "\n",
      "        Fair       0.94      0.99      0.97       121\n",
      "   Very Good       0.88      0.50      0.64        14\n",
      "\n",
      "    accuracy                           0.94       135\n",
      "   macro avg       0.91      0.75      0.80       135\n",
      "weighted avg       0.94      0.94      0.93       135\n",
      "\n"
     ]
    }
   ],
   "source": [
    "# Calculate classification report\n",
    "y_names = ['Fair','Very Good']\n",
    "\n",
    "print(classification_report(y_test, predictions,\n",
    "                            target_names=y_names))"
   ]
  },
  {
   "cell_type": "code",
   "execution_count": 30,
   "metadata": {},
   "outputs": [
    {
     "data": {
      "image/png": "[encoded data removed]",
      "text/plain": [
       "<Figure size 432x288 with 2 Axes>"
      ]
     },
     "metadata": {
      "needs_background": "light"
     },
     "output_type": "display_data"
    }
   ],
   "source": [
    "plot_confusion_matrix(best_rf, X_test, y_test)  \n",
    "plt.show()"
   ]
  },
  {
   "cell_type": "code",
   "execution_count": 31,
   "metadata": {},
   "outputs": [
    {
     "data": {
      "image/png": "[encoded data removed]",
      "text/plain": [
       "<Figure size 432x288 with 1 Axes>"
      ]
     },
     "metadata": {
      "needs_background": "light"
     },
     "output_type": "display_data"
    }
   ],
   "source": [
    "rf_disp = plot_roc_curve(best_rf, X_test, y_test)\n",
    "plt.show()"
   ]
  },
  {
   "cell_type": "code",
   "execution_count": 32,
   "metadata": {},
   "outputs": [
    {
     "data": {
      "image/png": "[encoded data removed]",
      "text/plain": [
       "<Figure size 432x288 with 1 Axes>"
      ]
     },
     "metadata": {
      "needs_background": "light"
     },
     "output_type": "display_data"
    }
   ],
   "source": [
    "rf_disp = metrics.plot_det_curve(best_rf, X_test, y_test)  \n",
    "plt.show() "
   ]
  },
  {
   "cell_type": "code",
   "execution_count": null,
   "metadata": {},
   "outputs": [],
   "source": []
  }
 ],
 "metadata": {
  "kernel_info": {
   "name": "dev"
  },
  "kernelspec": {
   "display_name": "Python 3 (ipykernel)",
   "language": "python",
   "name": "python3"
  },
  "language_info": {
   "codemirror_mode": {
    "name": "ipython",
    "version": 3
   },
   "file_extension": ".py",
   "mimetype": "text/x-python",
   "name": "python",
   "nbconvert_exporter": "python",
   "pygments_lexer": "ipython3",
   "version": "3.8.8"
  },
  "nteract": {
   "version": "0.12.3"
  }
 },
 "nbformat": 4,
 "nbformat_minor": 2
}
